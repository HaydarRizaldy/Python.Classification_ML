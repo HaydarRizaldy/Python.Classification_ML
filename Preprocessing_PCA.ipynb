{
  "nbformat": 4,
  "nbformat_minor": 0,
  "metadata": {
    "colab": {
      "name": "Preprocessing_PCA.ipynb",
      "provenance": [],
      "collapsed_sections": []
    },
    "kernelspec": {
      "name": "python3",
      "display_name": "Python 3"
    },
    "language_info": {
      "name": "python"
    }
  },
  "cells": [
    {
      "cell_type": "markdown",
      "metadata": {
        "id": "CiRoCwBqSOco"
      },
      "source": [
        "# **Tugas Besar Pembelajaran Mesin (Classification)**\n",
        "\n",
        "Kelas : IF-43-12\n",
        "\n",
        "Anggota : \n",
        "- Raihan Romzi Rakhman (1301194376)\n",
        "- Haydar Rizaldy Putera Prayudi (1301194388)"
      ]
    },
    {
      "cell_type": "markdown",
      "metadata": {
        "id": "HjIIOk03L6-9"
      },
      "source": [
        "<br><br>"
      ]
    },
    {
      "cell_type": "markdown",
      "metadata": {
        "id": "YmJRuYMoTqT_"
      },
      "source": [
        "## **Import Library**"
      ]
    },
    {
      "cell_type": "code",
      "metadata": {
        "id": "yD7IoX29YPyp"
      },
      "source": [
        "import pandas as pd\n",
        "import matplotlib.pyplot as plt\n",
        "import numpy as np\n",
        "import math"
      ],
      "execution_count": 56,
      "outputs": []
    },
    {
      "cell_type": "markdown",
      "metadata": {
        "id": "6ri1JeueL9ll"
      },
      "source": [
        "<br>"
      ]
    },
    {
      "cell_type": "markdown",
      "metadata": {
        "id": "0zvbz6IiWGub"
      },
      "source": [
        "## **Import Dataset**"
      ]
    },
    {
      "cell_type": "code",
      "metadata": {
        "colab": {
          "base_uri": "https://localhost:8080/",
          "height": 244
        },
        "id": "Zg_RErX6TtHP",
        "outputId": "2d2f62af-f179-4aab-b31e-3a55ceac1e3b"
      },
      "source": [
        "# Menggabungkan data taining dan data test menjadi satu dataframe\n",
        "df_train = pd.read_csv(\"https://raw.githubusercontent.com/raihanromzi/Python.Classification_ML/main/Datasets/kendaraan_train.csv\")\n",
        "df_test = pd.read_csv(\"https://raw.githubusercontent.com/raihanromzi/Python.Classification_ML/main/Datasets/kendaraan_test.csv\")\n",
        "df = df_train.append(df_test)\n",
        "\n",
        "# Mengetahui total jumlah data\n",
        "print(\"Total Dataset :\", len(df))\n",
        "df.head(5)"
      ],
      "execution_count": 57,
      "outputs": [
        {
          "output_type": "stream",
          "name": "stdout",
          "text": [
            "Total Dataset : 333470\n"
          ]
        },
        {
          "output_type": "execute_result",
          "data": {
            "text/html": [
              "<div>\n",
              "<style scoped>\n",
              "    .dataframe tbody tr th:only-of-type {\n",
              "        vertical-align: middle;\n",
              "    }\n",
              "\n",
              "    .dataframe tbody tr th {\n",
              "        vertical-align: top;\n",
              "    }\n",
              "\n",
              "    .dataframe thead th {\n",
              "        text-align: right;\n",
              "    }\n",
              "</style>\n",
              "<table border=\"1\" class=\"dataframe\">\n",
              "  <thead>\n",
              "    <tr style=\"text-align: right;\">\n",
              "      <th></th>\n",
              "      <th>id</th>\n",
              "      <th>Jenis_Kelamin</th>\n",
              "      <th>Umur</th>\n",
              "      <th>SIM</th>\n",
              "      <th>Kode_Daerah</th>\n",
              "      <th>Sudah_Asuransi</th>\n",
              "      <th>Umur_Kendaraan</th>\n",
              "      <th>Kendaraan_Rusak</th>\n",
              "      <th>Premi</th>\n",
              "      <th>Kanal_Penjualan</th>\n",
              "      <th>Lama_Berlangganan</th>\n",
              "      <th>Tertarik</th>\n",
              "    </tr>\n",
              "  </thead>\n",
              "  <tbody>\n",
              "    <tr>\n",
              "      <th>0</th>\n",
              "      <td>1.0</td>\n",
              "      <td>Wanita</td>\n",
              "      <td>30.0</td>\n",
              "      <td>1.0</td>\n",
              "      <td>33.0</td>\n",
              "      <td>1.0</td>\n",
              "      <td>&lt; 1 Tahun</td>\n",
              "      <td>Tidak</td>\n",
              "      <td>28029.0</td>\n",
              "      <td>152.0</td>\n",
              "      <td>97.0</td>\n",
              "      <td>0</td>\n",
              "    </tr>\n",
              "    <tr>\n",
              "      <th>1</th>\n",
              "      <td>2.0</td>\n",
              "      <td>Pria</td>\n",
              "      <td>48.0</td>\n",
              "      <td>1.0</td>\n",
              "      <td>39.0</td>\n",
              "      <td>0.0</td>\n",
              "      <td>&gt; 2 Tahun</td>\n",
              "      <td>Pernah</td>\n",
              "      <td>25800.0</td>\n",
              "      <td>29.0</td>\n",
              "      <td>158.0</td>\n",
              "      <td>0</td>\n",
              "    </tr>\n",
              "    <tr>\n",
              "      <th>2</th>\n",
              "      <td>3.0</td>\n",
              "      <td>NaN</td>\n",
              "      <td>21.0</td>\n",
              "      <td>1.0</td>\n",
              "      <td>46.0</td>\n",
              "      <td>1.0</td>\n",
              "      <td>&lt; 1 Tahun</td>\n",
              "      <td>Tidak</td>\n",
              "      <td>32733.0</td>\n",
              "      <td>160.0</td>\n",
              "      <td>119.0</td>\n",
              "      <td>0</td>\n",
              "    </tr>\n",
              "    <tr>\n",
              "      <th>3</th>\n",
              "      <td>4.0</td>\n",
              "      <td>Wanita</td>\n",
              "      <td>58.0</td>\n",
              "      <td>1.0</td>\n",
              "      <td>48.0</td>\n",
              "      <td>0.0</td>\n",
              "      <td>1-2 Tahun</td>\n",
              "      <td>Tidak</td>\n",
              "      <td>2630.0</td>\n",
              "      <td>124.0</td>\n",
              "      <td>63.0</td>\n",
              "      <td>0</td>\n",
              "    </tr>\n",
              "    <tr>\n",
              "      <th>4</th>\n",
              "      <td>5.0</td>\n",
              "      <td>Pria</td>\n",
              "      <td>50.0</td>\n",
              "      <td>1.0</td>\n",
              "      <td>35.0</td>\n",
              "      <td>0.0</td>\n",
              "      <td>&gt; 2 Tahun</td>\n",
              "      <td>NaN</td>\n",
              "      <td>34857.0</td>\n",
              "      <td>88.0</td>\n",
              "      <td>194.0</td>\n",
              "      <td>0</td>\n",
              "    </tr>\n",
              "  </tbody>\n",
              "</table>\n",
              "</div>"
            ],
            "text/plain": [
              "    id Jenis_Kelamin  Umur  ...  Kanal_Penjualan  Lama_Berlangganan  Tertarik\n",
              "0  1.0        Wanita  30.0  ...            152.0               97.0         0\n",
              "1  2.0          Pria  48.0  ...             29.0              158.0         0\n",
              "2  3.0           NaN  21.0  ...            160.0              119.0         0\n",
              "3  4.0        Wanita  58.0  ...            124.0               63.0         0\n",
              "4  5.0          Pria  50.0  ...             88.0              194.0         0\n",
              "\n",
              "[5 rows x 12 columns]"
            ]
          },
          "metadata": {},
          "execution_count": 57
        }
      ]
    },
    {
      "cell_type": "markdown",
      "metadata": {
        "id": "xRBtaFyiL-1k"
      },
      "source": [
        "<br>"
      ]
    },
    {
      "cell_type": "markdown",
      "metadata": {
        "id": "B3_yBka1Y0Qh"
      },
      "source": [
        "## **Eksplorasi dan Persiapan Data**\n",
        "\n",
        "Sebelum melakukan Classification, data harus dilakukan prapemrosesan terlebih dahulu. Tujuannya agar ketika sudah masuk ke proses selanjutnya maka data sudah bersih dan siap untuk diimplementasikan algoritma tanpa mengurangi efisiensi hasil."
      ]
    },
    {
      "cell_type": "markdown",
      "metadata": {
        "id": "gjbj7mGKMC0x"
      },
      "source": [
        "<br>"
      ]
    },
    {
      "cell_type": "markdown",
      "metadata": {
        "id": "zSEzdqMKhlSq"
      },
      "source": [
        "### **Delete Unused Data**\n",
        "\n",
        "Kolom \"id\" dihapus karena dapat dipastikan tidak memiliki keterikatan pada hasil akhir."
      ]
    },
    {
      "cell_type": "code",
      "metadata": {
        "colab": {
          "base_uri": "https://localhost:8080/",
          "height": 244
        },
        "id": "f8qpeHPihHKy",
        "outputId": "d2b1b7ad-d4a8-429c-fbe7-9b5ac81677b6"
      },
      "source": [
        "# Menghapus Kolom \"id\"\n",
        "df = df.drop(axis=1, columns=[\"id\"])\n",
        "\n",
        "# Mengetahui total jumlah data\n",
        "print(\"Total Dataset :\", len(df))\n",
        "df.sample(5)"
      ],
      "execution_count": 58,
      "outputs": [
        {
          "output_type": "stream",
          "name": "stdout",
          "text": [
            "Total Dataset : 333470\n"
          ]
        },
        {
          "output_type": "execute_result",
          "data": {
            "text/html": [
              "<div>\n",
              "<style scoped>\n",
              "    .dataframe tbody tr th:only-of-type {\n",
              "        vertical-align: middle;\n",
              "    }\n",
              "\n",
              "    .dataframe tbody tr th {\n",
              "        vertical-align: top;\n",
              "    }\n",
              "\n",
              "    .dataframe thead th {\n",
              "        text-align: right;\n",
              "    }\n",
              "</style>\n",
              "<table border=\"1\" class=\"dataframe\">\n",
              "  <thead>\n",
              "    <tr style=\"text-align: right;\">\n",
              "      <th></th>\n",
              "      <th>Jenis_Kelamin</th>\n",
              "      <th>Umur</th>\n",
              "      <th>SIM</th>\n",
              "      <th>Kode_Daerah</th>\n",
              "      <th>Sudah_Asuransi</th>\n",
              "      <th>Umur_Kendaraan</th>\n",
              "      <th>Kendaraan_Rusak</th>\n",
              "      <th>Premi</th>\n",
              "      <th>Kanal_Penjualan</th>\n",
              "      <th>Lama_Berlangganan</th>\n",
              "      <th>Tertarik</th>\n",
              "    </tr>\n",
              "  </thead>\n",
              "  <tbody>\n",
              "    <tr>\n",
              "      <th>120958</th>\n",
              "      <td>Wanita</td>\n",
              "      <td>NaN</td>\n",
              "      <td>1.0</td>\n",
              "      <td>6.0</td>\n",
              "      <td>0.0</td>\n",
              "      <td>&lt; 1 Tahun</td>\n",
              "      <td>Pernah</td>\n",
              "      <td>35002.0</td>\n",
              "      <td>152.0</td>\n",
              "      <td>199.0</td>\n",
              "      <td>0</td>\n",
              "    </tr>\n",
              "    <tr>\n",
              "      <th>36012</th>\n",
              "      <td>Pria</td>\n",
              "      <td>53.0</td>\n",
              "      <td>1.0</td>\n",
              "      <td>28.0</td>\n",
              "      <td>0.0</td>\n",
              "      <td>1-2 Tahun</td>\n",
              "      <td>Pernah</td>\n",
              "      <td>24163.0</td>\n",
              "      <td>26.0</td>\n",
              "      <td>96.0</td>\n",
              "      <td>0</td>\n",
              "    </tr>\n",
              "    <tr>\n",
              "      <th>146134</th>\n",
              "      <td>Wanita</td>\n",
              "      <td>35.0</td>\n",
              "      <td>1.0</td>\n",
              "      <td>28.0</td>\n",
              "      <td>0.0</td>\n",
              "      <td>1-2 Tahun</td>\n",
              "      <td>Pernah</td>\n",
              "      <td>27859.0</td>\n",
              "      <td>122.0</td>\n",
              "      <td>NaN</td>\n",
              "      <td>1</td>\n",
              "    </tr>\n",
              "    <tr>\n",
              "      <th>199176</th>\n",
              "      <td>Wanita</td>\n",
              "      <td>41.0</td>\n",
              "      <td>1.0</td>\n",
              "      <td>28.0</td>\n",
              "      <td>1.0</td>\n",
              "      <td>1-2 Tahun</td>\n",
              "      <td>Tidak</td>\n",
              "      <td>34353.0</td>\n",
              "      <td>124.0</td>\n",
              "      <td>219.0</td>\n",
              "      <td>0</td>\n",
              "    </tr>\n",
              "    <tr>\n",
              "      <th>92326</th>\n",
              "      <td>Pria</td>\n",
              "      <td>22.0</td>\n",
              "      <td>1.0</td>\n",
              "      <td>11.0</td>\n",
              "      <td>1.0</td>\n",
              "      <td>&lt; 1 Tahun</td>\n",
              "      <td>Tidak</td>\n",
              "      <td>29961.0</td>\n",
              "      <td>152.0</td>\n",
              "      <td>62.0</td>\n",
              "      <td>0</td>\n",
              "    </tr>\n",
              "  </tbody>\n",
              "</table>\n",
              "</div>"
            ],
            "text/plain": [
              "       Jenis_Kelamin  Umur  SIM  ...  Kanal_Penjualan  Lama_Berlangganan Tertarik\n",
              "120958        Wanita   NaN  1.0  ...            152.0              199.0        0\n",
              "36012           Pria  53.0  1.0  ...             26.0               96.0        0\n",
              "146134        Wanita  35.0  1.0  ...            122.0                NaN        1\n",
              "199176        Wanita  41.0  1.0  ...            124.0              219.0        0\n",
              "92326           Pria  22.0  1.0  ...            152.0               62.0        0\n",
              "\n",
              "[5 rows x 11 columns]"
            ]
          },
          "metadata": {},
          "execution_count": 58
        }
      ]
    },
    {
      "cell_type": "markdown",
      "metadata": {
        "id": "5YXq_y-bMEDY"
      },
      "source": [
        "<br>"
      ]
    },
    {
      "cell_type": "markdown",
      "metadata": {
        "id": "2jTYpBLcNXvc"
      },
      "source": [
        "<br>"
      ]
    },
    {
      "cell_type": "markdown",
      "metadata": {
        "id": "SJ24fAVziMAz"
      },
      "source": [
        "### **Check Data Info**\n",
        "\n",
        "Mengeksplorasi informasi tentang dataset, agar memberikan gambaran yang jelas terkait pesebaran data."
      ]
    },
    {
      "cell_type": "markdown",
      "metadata": {
        "id": "wxD-TY3cP9Yr"
      },
      "source": [
        "<br>"
      ]
    },
    {
      "cell_type": "markdown",
      "metadata": {
        "id": "u1tRa2OFsPa_"
      },
      "source": [
        "#### **Check Data Type**"
      ]
    },
    {
      "cell_type": "code",
      "metadata": {
        "colab": {
          "base_uri": "https://localhost:8080/"
        },
        "id": "cSdnLZyehad4",
        "outputId": "f33ff5b8-ef9a-468a-f672-e155ba25b7d7"
      },
      "source": [
        "# Mengetahui data type tiap kolom\n",
        "df.dtypes"
      ],
      "execution_count": 59,
      "outputs": [
        {
          "output_type": "execute_result",
          "data": {
            "text/plain": [
              "Jenis_Kelamin         object\n",
              "Umur                 float64\n",
              "SIM                  float64\n",
              "Kode_Daerah          float64\n",
              "Sudah_Asuransi       float64\n",
              "Umur_Kendaraan        object\n",
              "Kendaraan_Rusak       object\n",
              "Premi                float64\n",
              "Kanal_Penjualan      float64\n",
              "Lama_Berlangganan    float64\n",
              "Tertarik               int64\n",
              "dtype: object"
            ]
          },
          "metadata": {},
          "execution_count": 59
        }
      ]
    },
    {
      "cell_type": "markdown",
      "metadata": {
        "id": "Cx3RAIZENalz"
      },
      "source": [
        "<br>"
      ]
    },
    {
      "cell_type": "markdown",
      "metadata": {
        "id": "lvcIYT8usYiZ"
      },
      "source": [
        "#### **Statistical Summary**\n",
        "\n",
        "Melihat summary setiap atribut dengan fungsi describe. Fungsi ini menampilkan summary statistik untuk atribut numerik dari dataset kita, termasuk di dalamnya count, mean, nilai minimum dan maksimum, serta nilai-nilai persentilnya."
      ]
    },
    {
      "cell_type": "code",
      "metadata": {
        "colab": {
          "base_uri": "https://localhost:8080/",
          "height": 320
        },
        "id": "9zrQ8Haxpf6k",
        "outputId": "509c1013-1f88-4790-8c82-bb401ac0ad86"
      },
      "source": [
        "# Mengetahui Count, Mean, Min, Persentase\n",
        "df.describe()"
      ],
      "execution_count": 60,
      "outputs": [
        {
          "output_type": "execute_result",
          "data": {
            "text/html": [
              "<div>\n",
              "<style scoped>\n",
              "    .dataframe tbody tr th:only-of-type {\n",
              "        vertical-align: middle;\n",
              "    }\n",
              "\n",
              "    .dataframe tbody tr th {\n",
              "        vertical-align: top;\n",
              "    }\n",
              "\n",
              "    .dataframe thead th {\n",
              "        text-align: right;\n",
              "    }\n",
              "</style>\n",
              "<table border=\"1\" class=\"dataframe\">\n",
              "  <thead>\n",
              "    <tr style=\"text-align: right;\">\n",
              "      <th></th>\n",
              "      <th>Umur</th>\n",
              "      <th>SIM</th>\n",
              "      <th>Kode_Daerah</th>\n",
              "      <th>Sudah_Asuransi</th>\n",
              "      <th>Premi</th>\n",
              "      <th>Kanal_Penjualan</th>\n",
              "      <th>Lama_Berlangganan</th>\n",
              "      <th>Tertarik</th>\n",
              "    </tr>\n",
              "  </thead>\n",
              "  <tbody>\n",
              "    <tr>\n",
              "      <th>count</th>\n",
              "      <td>319256.000000</td>\n",
              "      <td>319066.000000</td>\n",
              "      <td>319164.000000</td>\n",
              "      <td>319241.000000</td>\n",
              "      <td>318901.000000</td>\n",
              "      <td>319171.000000</td>\n",
              "      <td>319478.000000</td>\n",
              "      <td>333470.000000</td>\n",
              "    </tr>\n",
              "    <tr>\n",
              "      <th>mean</th>\n",
              "      <td>38.840028</td>\n",
              "      <td>0.997859</td>\n",
              "      <td>26.394380</td>\n",
              "      <td>0.458603</td>\n",
              "      <td>30550.097899</td>\n",
              "      <td>112.045299</td>\n",
              "      <td>154.310350</td>\n",
              "      <td>0.122551</td>\n",
              "    </tr>\n",
              "    <tr>\n",
              "      <th>std</th>\n",
              "      <td>15.526398</td>\n",
              "      <td>0.046217</td>\n",
              "      <td>13.246852</td>\n",
              "      <td>0.498284</td>\n",
              "      <td>17192.548724</td>\n",
              "      <td>54.196470</td>\n",
              "      <td>83.686932</td>\n",
              "      <td>0.327921</td>\n",
              "    </tr>\n",
              "    <tr>\n",
              "      <th>min</th>\n",
              "      <td>20.000000</td>\n",
              "      <td>0.000000</td>\n",
              "      <td>0.000000</td>\n",
              "      <td>0.000000</td>\n",
              "      <td>2630.000000</td>\n",
              "      <td>1.000000</td>\n",
              "      <td>10.000000</td>\n",
              "      <td>0.000000</td>\n",
              "    </tr>\n",
              "    <tr>\n",
              "      <th>25%</th>\n",
              "      <td>25.000000</td>\n",
              "      <td>1.000000</td>\n",
              "      <td>15.000000</td>\n",
              "      <td>0.000000</td>\n",
              "      <td>24397.000000</td>\n",
              "      <td>29.000000</td>\n",
              "      <td>82.000000</td>\n",
              "      <td>0.000000</td>\n",
              "    </tr>\n",
              "    <tr>\n",
              "      <th>50%</th>\n",
              "      <td>36.000000</td>\n",
              "      <td>1.000000</td>\n",
              "      <td>28.000000</td>\n",
              "      <td>0.000000</td>\n",
              "      <td>31660.000000</td>\n",
              "      <td>133.000000</td>\n",
              "      <td>154.000000</td>\n",
              "      <td>0.000000</td>\n",
              "    </tr>\n",
              "    <tr>\n",
              "      <th>75%</th>\n",
              "      <td>49.000000</td>\n",
              "      <td>1.000000</td>\n",
              "      <td>35.000000</td>\n",
              "      <td>1.000000</td>\n",
              "      <td>39392.000000</td>\n",
              "      <td>152.000000</td>\n",
              "      <td>227.000000</td>\n",
              "      <td>0.000000</td>\n",
              "    </tr>\n",
              "    <tr>\n",
              "      <th>max</th>\n",
              "      <td>85.000000</td>\n",
              "      <td>1.000000</td>\n",
              "      <td>52.000000</td>\n",
              "      <td>1.000000</td>\n",
              "      <td>540165.000000</td>\n",
              "      <td>163.000000</td>\n",
              "      <td>299.000000</td>\n",
              "      <td>1.000000</td>\n",
              "    </tr>\n",
              "  </tbody>\n",
              "</table>\n",
              "</div>"
            ],
            "text/plain": [
              "                Umur            SIM  ...  Lama_Berlangganan       Tertarik\n",
              "count  319256.000000  319066.000000  ...      319478.000000  333470.000000\n",
              "mean       38.840028       0.997859  ...         154.310350       0.122551\n",
              "std        15.526398       0.046217  ...          83.686932       0.327921\n",
              "min        20.000000       0.000000  ...          10.000000       0.000000\n",
              "25%        25.000000       1.000000  ...          82.000000       0.000000\n",
              "50%        36.000000       1.000000  ...         154.000000       0.000000\n",
              "75%        49.000000       1.000000  ...         227.000000       0.000000\n",
              "max        85.000000       1.000000  ...         299.000000       1.000000\n",
              "\n",
              "[8 rows x 8 columns]"
            ]
          },
          "metadata": {},
          "execution_count": 60
        }
      ]
    },
    {
      "cell_type": "markdown",
      "metadata": {
        "id": "bUnuvO-fNbvD"
      },
      "source": [
        "<br>"
      ]
    },
    {
      "cell_type": "markdown",
      "metadata": {
        "id": "BV4BYQ7FsBG2"
      },
      "source": [
        "#### **Check Missing Value**"
      ]
    },
    {
      "cell_type": "code",
      "metadata": {
        "colab": {
          "base_uri": "https://localhost:8080/"
        },
        "id": "PoN1s2M-paTs",
        "outputId": "b68c3c0a-d2e0-4d8a-83ed-403273e9e537"
      },
      "source": [
        "# Mengecek apakah ada missing value pada DataFrame , terdapat 142.916 data yang missing, sehingga tidak bisa jika langsung di drop.r\n",
        "df.isnull().sum()"
      ],
      "execution_count": 61,
      "outputs": [
        {
          "output_type": "execute_result",
          "data": {
            "text/plain": [
              "Jenis_Kelamin        14440\n",
              "Umur                 14214\n",
              "SIM                  14404\n",
              "Kode_Daerah          14306\n",
              "Sudah_Asuransi       14229\n",
              "Umur_Kendaraan       14275\n",
              "Kendaraan_Rusak      14188\n",
              "Premi                14569\n",
              "Kanal_Penjualan      14299\n",
              "Lama_Berlangganan    13992\n",
              "Tertarik                 0\n",
              "dtype: int64"
            ]
          },
          "metadata": {},
          "execution_count": 61
        }
      ]
    },
    {
      "cell_type": "markdown",
      "metadata": {
        "id": "qjSHoZHWNc49"
      },
      "source": [
        "<br>"
      ]
    },
    {
      "cell_type": "markdown",
      "metadata": {
        "id": "I7s9Q0cbsHmc"
      },
      "source": [
        "#### **Check Duplicate Data**"
      ]
    },
    {
      "cell_type": "code",
      "metadata": {
        "colab": {
          "base_uri": "https://localhost:8080/"
        },
        "id": "73T1Q2FKqElM",
        "outputId": "d80d5c67-bd85-4de3-b4c5-0efa54748196"
      },
      "source": [
        "duplicate = list(df.duplicated())\n",
        "print(\"Data Duplikasi :\", duplicate.count(True))"
      ],
      "execution_count": 62,
      "outputs": [
        {
          "output_type": "stream",
          "name": "stdout",
          "text": [
            "Data Duplikasi : 204\n"
          ]
        }
      ]
    },
    {
      "cell_type": "markdown",
      "metadata": {
        "id": "bD3XhXmBNdws"
      },
      "source": [
        "<br>"
      ]
    },
    {
      "cell_type": "markdown",
      "metadata": {
        "id": "kukB9--qrxOk"
      },
      "source": [
        "#### **Delete Duplicate Data**\n",
        "\n",
        "Duplikat adalah kasus ekstrim pengambilan sampel nonrandom, dan membuat bias model.\n",
        "\n",
        "Faktor yang menentukan\n",
        "* Memastikan itu bukan data nyata yang kebetulan memiliki nilai yang identik\n",
        "- Mencoba mencari tahu mengapa Anda memiliki duplikat dalam data Anda. Misalnya, terkadang orang dengan sengaja 'mengambil sampel berlebihan' kategori langka dalam data pelatihan"
      ]
    },
    {
      "cell_type": "code",
      "metadata": {
        "id": "b8sdEOYMtVCg"
      },
      "source": [
        "df.drop_duplicates(inplace=True)"
      ],
      "execution_count": 63,
      "outputs": []
    },
    {
      "cell_type": "code",
      "metadata": {
        "colab": {
          "base_uri": "https://localhost:8080/"
        },
        "id": "6gMfzH4OtYcR",
        "outputId": "caa5cb85-d5be-45eb-8926-a1dcd60dfdbb"
      },
      "source": [
        "duplicate = list(df.duplicated())\n",
        "print(\"Data Duplikasi :\", duplicate.count(True))"
      ],
      "execution_count": 64,
      "outputs": [
        {
          "output_type": "stream",
          "name": "stdout",
          "text": [
            "Data Duplikasi : 0\n"
          ]
        }
      ]
    },
    {
      "cell_type": "markdown",
      "metadata": {
        "id": "3Wia1o24Nfpr"
      },
      "source": [
        "<br>"
      ]
    },
    {
      "cell_type": "markdown",
      "metadata": {
        "id": "7neUcEq7NyVs"
      },
      "source": [
        "#### **Label Encoding**"
      ]
    },
    {
      "cell_type": "markdown",
      "metadata": {
        "id": "cWhQYx6FN3sT"
      },
      "source": [
        "Dilakukan untuk mengubah fitur data kategorikal seperti **Jenis_Kelamin, Umur_Kendaraan, dan Kendaraan_Rusak** menjadi data numerik.\n",
        "\n",
        "<br>\n",
        "\n",
        "Source : \n",
        "*   https://ichi.pro/id/label-encoder-vs-one-hot-encoder-dalam-machine-learning-70104389146145\n",
        "*  https://ngodingdata.com/python-pandas-memahami-categorical-data/"
      ]
    },
    {
      "cell_type": "code",
      "metadata": {
        "colab": {
          "base_uri": "https://localhost:8080/",
          "height": 226
        },
        "id": "a4_N4lBIN_wB",
        "outputId": "ca61f659-492e-4603-d584-318f68c2c12f"
      },
      "source": [
        "# Import library\n",
        "from sklearn.preprocessing import LabelEncoder\n",
        "\n",
        "encoder = LabelEncoder()\n",
        "\n",
        "# Pria = 0, Wanita = 1\n",
        "df[\"Jenis_Kelamin\"] = encoder.fit_transform(df[\"Jenis_Kelamin\"])\n",
        "\n",
        "# 1-2 Tahun = 0, < 1 = 1, >2 = 2\n",
        "df[\"Umur_Kendaraan\"] = encoder.fit_transform(df[\"Umur_Kendaraan\"])\n",
        "\n",
        "# Pernah = 0, Tidak = 1\n",
        "df[\"Kendaraan_Rusak\"] = encoder.fit_transform(df[\"Kendaraan_Rusak\"])\n",
        "\n",
        "df.head(5)"
      ],
      "execution_count": 65,
      "outputs": [
        {
          "output_type": "execute_result",
          "data": {
            "text/html": [
              "<div>\n",
              "<style scoped>\n",
              "    .dataframe tbody tr th:only-of-type {\n",
              "        vertical-align: middle;\n",
              "    }\n",
              "\n",
              "    .dataframe tbody tr th {\n",
              "        vertical-align: top;\n",
              "    }\n",
              "\n",
              "    .dataframe thead th {\n",
              "        text-align: right;\n",
              "    }\n",
              "</style>\n",
              "<table border=\"1\" class=\"dataframe\">\n",
              "  <thead>\n",
              "    <tr style=\"text-align: right;\">\n",
              "      <th></th>\n",
              "      <th>Jenis_Kelamin</th>\n",
              "      <th>Umur</th>\n",
              "      <th>SIM</th>\n",
              "      <th>Kode_Daerah</th>\n",
              "      <th>Sudah_Asuransi</th>\n",
              "      <th>Umur_Kendaraan</th>\n",
              "      <th>Kendaraan_Rusak</th>\n",
              "      <th>Premi</th>\n",
              "      <th>Kanal_Penjualan</th>\n",
              "      <th>Lama_Berlangganan</th>\n",
              "      <th>Tertarik</th>\n",
              "    </tr>\n",
              "  </thead>\n",
              "  <tbody>\n",
              "    <tr>\n",
              "      <th>0</th>\n",
              "      <td>1</td>\n",
              "      <td>30.0</td>\n",
              "      <td>1.0</td>\n",
              "      <td>33.0</td>\n",
              "      <td>1.0</td>\n",
              "      <td>1</td>\n",
              "      <td>1</td>\n",
              "      <td>28029.0</td>\n",
              "      <td>152.0</td>\n",
              "      <td>97.0</td>\n",
              "      <td>0</td>\n",
              "    </tr>\n",
              "    <tr>\n",
              "      <th>1</th>\n",
              "      <td>0</td>\n",
              "      <td>48.0</td>\n",
              "      <td>1.0</td>\n",
              "      <td>39.0</td>\n",
              "      <td>0.0</td>\n",
              "      <td>2</td>\n",
              "      <td>0</td>\n",
              "      <td>25800.0</td>\n",
              "      <td>29.0</td>\n",
              "      <td>158.0</td>\n",
              "      <td>0</td>\n",
              "    </tr>\n",
              "    <tr>\n",
              "      <th>2</th>\n",
              "      <td>2</td>\n",
              "      <td>21.0</td>\n",
              "      <td>1.0</td>\n",
              "      <td>46.0</td>\n",
              "      <td>1.0</td>\n",
              "      <td>1</td>\n",
              "      <td>1</td>\n",
              "      <td>32733.0</td>\n",
              "      <td>160.0</td>\n",
              "      <td>119.0</td>\n",
              "      <td>0</td>\n",
              "    </tr>\n",
              "    <tr>\n",
              "      <th>3</th>\n",
              "      <td>1</td>\n",
              "      <td>58.0</td>\n",
              "      <td>1.0</td>\n",
              "      <td>48.0</td>\n",
              "      <td>0.0</td>\n",
              "      <td>0</td>\n",
              "      <td>1</td>\n",
              "      <td>2630.0</td>\n",
              "      <td>124.0</td>\n",
              "      <td>63.0</td>\n",
              "      <td>0</td>\n",
              "    </tr>\n",
              "    <tr>\n",
              "      <th>4</th>\n",
              "      <td>0</td>\n",
              "      <td>50.0</td>\n",
              "      <td>1.0</td>\n",
              "      <td>35.0</td>\n",
              "      <td>0.0</td>\n",
              "      <td>2</td>\n",
              "      <td>2</td>\n",
              "      <td>34857.0</td>\n",
              "      <td>88.0</td>\n",
              "      <td>194.0</td>\n",
              "      <td>0</td>\n",
              "    </tr>\n",
              "  </tbody>\n",
              "</table>\n",
              "</div>"
            ],
            "text/plain": [
              "   Jenis_Kelamin  Umur  SIM  ...  Kanal_Penjualan  Lama_Berlangganan  Tertarik\n",
              "0              1  30.0  1.0  ...            152.0               97.0         0\n",
              "1              0  48.0  1.0  ...             29.0              158.0         0\n",
              "2              2  21.0  1.0  ...            160.0              119.0         0\n",
              "3              1  58.0  1.0  ...            124.0               63.0         0\n",
              "4              0  50.0  1.0  ...             88.0              194.0         0\n",
              "\n",
              "[5 rows x 11 columns]"
            ]
          },
          "metadata": {},
          "execution_count": 65
        }
      ]
    },
    {
      "cell_type": "markdown",
      "metadata": {
        "id": "jI3-RomnNhga"
      },
      "source": [
        "<br>"
      ]
    },
    {
      "cell_type": "markdown",
      "metadata": {
        "id": "SBpzG8b7so6w"
      },
      "source": [
        "#### **Handling Missing Value**\n",
        "\n",
        "Missing Value adalah hilangnya beberapa data yang telah diperoleh. Ada beberapa metode dalam mengatasi hal tersebut. Dalam kasus ini kami menggunakan Imputation method yaitu mengganti Missing Value dengan nilai Mean(Rata-rata) untuk data numerik, dan Mode(Modus) untuk data kategorikal.\n",
        "\n",
        "<br>\n",
        "\n",
        "Source : https://towardsdatascience.com/handling-missing-data-like-a-pro-part-2-imputation-methods-eabbf10b9ce4"
      ]
    },
    {
      "cell_type": "code",
      "metadata": {
        "id": "pcBRoqc1LvlW"
      },
      "source": [
        "# Mean (Numerik)\n",
        "df['Umur'].fillna(math.floor(df['Umur'].mean()), inplace=True)\n",
        "df['Premi'].fillna(math.floor(df['Premi'].mean()), inplace=True)\n",
        "df['Kanal_Penjualan'].fillna(math.floor(df['Kanal_Penjualan'].mean()), inplace=True)\n",
        "df['Lama_Berlangganan'].fillna(math.floor(df['Lama_Berlangganan'].mean()), inplace=True)\n",
        "\n",
        "# Mode (Kategorik)\n",
        "df['SIM'].fillna(math.floor(df['Lama_Berlangganan'].mode()), inplace=True)\n",
        "df['Kode_Daerah'].fillna(math.floor(df['Kode_Daerah'].mode()), inplace=True)\n",
        "df['Sudah_Asuransi'].fillna(math.floor(df['Sudah_Asuransi'].mode()), inplace=True)"
      ],
      "execution_count": 66,
      "outputs": []
    },
    {
      "cell_type": "code",
      "metadata": {
        "colab": {
          "base_uri": "https://localhost:8080/"
        },
        "id": "CfRlyBqOL4MT",
        "outputId": "137b6fc8-8ca4-4701-d32a-5b83b192ccab"
      },
      "source": [
        "# Missing value pada data sudah bersih\n",
        "df.isnull().sum()"
      ],
      "execution_count": 67,
      "outputs": [
        {
          "output_type": "execute_result",
          "data": {
            "text/plain": [
              "Jenis_Kelamin        0\n",
              "Umur                 0\n",
              "SIM                  0\n",
              "Kode_Daerah          0\n",
              "Sudah_Asuransi       0\n",
              "Umur_Kendaraan       0\n",
              "Kendaraan_Rusak      0\n",
              "Premi                0\n",
              "Kanal_Penjualan      0\n",
              "Lama_Berlangganan    0\n",
              "Tertarik             0\n",
              "dtype: int64"
            ]
          },
          "metadata": {},
          "execution_count": 67
        }
      ]
    },
    {
      "cell_type": "markdown",
      "metadata": {
        "id": "5Sjz4uvyNgmT"
      },
      "source": [
        "<br>"
      ]
    },
    {
      "cell_type": "markdown",
      "metadata": {
        "id": "QjWl0BiSXF3-"
      },
      "source": [
        "#### **Handling Data Outlier**\n",
        "\n",
        "Data Outlier adalah nilai yang tidak biasa dalam kumpulan data, dan dapat mendistorsi analisis statistik. Mengingat masalah yang dapat ditimbulkannya, mungkin yang terbaik adalah menghapusnya dari data Anda. Tapi, itu tidak selalu terjadi. Menghapus outlier hanya sah untuk alasan tertentu.\n",
        "\n",
        "<br>\n",
        "\n",
        "Setelah melakukan berbagai percobaan dan analisis, kami beranggapan bahwa Data Outlier pada kolom \"Premi\" jika dihapus, akan menghilangkan 64.341 data. Jumlah tersebut sekitar 20% dari data.\n",
        "\n",
        "<br>\n",
        "\n",
        "Premi sendiri adalah sejumlah uang yang ditetapkan oleh Perusahaan Asuransi dan disetujui oleh Pemegang Polis untuk dibayarkan berdasarkan perjanjian Asuransi Dan sangat masuk akal jika terdapat Data Outlier, sebab setiap orang mungkin berbeda jumlah Premi nya. Jika kita menghapus, maka kita mungkin akan kehilangan informasi penting. Misalnya, sangat masuk akal jika nilai Premi nya tinggi, maka orang tersebut memiliki jumlah uang yang banyak, dan tertarik untuk membeli."
      ]
    },
    {
      "cell_type": "code",
      "metadata": {
        "colab": {
          "base_uri": "https://localhost:8080/",
          "height": 298
        },
        "id": "fU0GJiZGXX9H",
        "outputId": "79b04429-22fd-4bdf-85ce-fe7c499c7489"
      },
      "source": [
        "# Membuat boxplot agar mengetahui apakah ada data outlier\n",
        "fig, (Umur, Kode_Daerah, Umur_Kendaraan, Kendaraan_Rusak, Premi, Kanal_Penjualan, Lama_Berlangganan) = plt.subplots(1,7)\n",
        "fig.tight_layout()\n",
        "fig.set_size_inches(20,5)\n",
        "\n",
        "# Umur\n",
        "Umur.boxplot(df[\"Umur\"])\n",
        "Umur.set_title(\"Umur\")\n",
        "\n",
        "# Kode_Daerah\n",
        "Kode_Daerah.boxplot(df[\"Kode_Daerah\"])\n",
        "Kode_Daerah.set_title(\"Kode_Daerah\")\n",
        "\n",
        "# Umur_Kendaraan\n",
        "Umur_Kendaraan.boxplot(df[\"Umur_Kendaraan\"])\n",
        "Umur_Kendaraan.set_title(\"Umur_Kendaraan\")\n",
        "\n",
        "# Kendaraan_Rusak\n",
        "Kendaraan_Rusak.boxplot(df[\"Kendaraan_Rusak\"])\n",
        "Kendaraan_Rusak.set_title(\"Kendaraan_Rusak\")\n",
        "\n",
        "# Premi\n",
        "Premi.boxplot(df[\"Premi\"])\n",
        "Premi.set_title(\"Premi\")\n",
        "\n",
        "# Kanal_Penjualan\n",
        "Kanal_Penjualan.boxplot(df[\"Kanal_Penjualan\"])\n",
        "Kanal_Penjualan.set_title(\"Kanal_Penjualan\")\n",
        "\n",
        "# Lama_Berlangganan\n",
        "Lama_Berlangganan.boxplot(df[\"Lama_Berlangganan\"])\n",
        "Lama_Berlangganan.set_title(\"Lama Berlangganan\")"
      ],
      "execution_count": 68,
      "outputs": [
        {
          "output_type": "execute_result",
          "data": {
            "text/plain": [
              "Text(0.5, 1.0, 'Lama Berlangganan')"
            ]
          },
          "metadata": {},
          "execution_count": 68
        },
        {
          "output_type": "display_data",
          "data": {
            "image/png": "[encoded data removed]",
            "text/plain": [
              "<Figure size 1440x360 with 7 Axes>"
            ]
          },
          "metadata": {
            "needs_background": "light"
          }
        }
      ]
    },
    {
      "cell_type": "markdown",
      "metadata": {
        "id": "2No5ynmENiXf"
      },
      "source": [
        "<br>"
      ]
    },
    {
      "cell_type": "markdown",
      "metadata": {
        "id": "xVAxb41mZs5X"
      },
      "source": [
        "#### **Normalisasi Data**\n",
        "\n",
        "Tujuan Normalisasi Database adalah untuk menghilangkan dan mengurangi redudansi data dan tujuan yang kedua adalah memastikan dependensi data. Menggunakan library SKlearn yang bernama StandarScaler untuk mempermudah normalisasi.\n",
        "\n"
      ]
    },
    {
      "cell_type": "code",
      "source": [
        "from sklearn.preprocessing import MinMaxScaler\n",
        "\n",
        "df_tertarik = df[\"Tertarik\"]\n",
        "df_drop_tertarik = df.drop(axis=1, columns=[\"Tertarik\"])"
      ],
      "metadata": {
        "id": "RKJVsw9VeB1S"
      },
      "execution_count": 69,
      "outputs": []
    },
    {
      "cell_type": "code",
      "metadata": {
        "id": "0SYTkRBD6J6B"
      },
      "source": [
        "column = [\n",
        "          'Jenis_Kelamin', 'Umur', 'SIM', 'Kode_Daerah', 'Sudah_Asuransi',\n",
        "          'Umur_Kendaraan', 'Kendaraan_Rusak', 'Premi', 'Kanal_Penjualan',\n",
        "          'Lama_Berlangganan'\n",
        "]\n",
        "\n",
        "# Mengubah skala data menjadi antara 0 dan 1\n",
        "preprocessor = MinMaxScaler(feature_range=(0,1))\n",
        "\n",
        "# Proses fit dan transfrom terhadap dataframe\n",
        "df_scaled = preprocessor.fit_transform(df_drop_tertarik)\n",
        "\n",
        "# Mengubah df_scaled (array) menjadi dataframe\n",
        "df = pd.DataFrame(data=df_scaled, columns=column)"
      ],
      "execution_count": 70,
      "outputs": []
    },
    {
      "cell_type": "code",
      "source": [
        "# Reset index untuk menghindari error saat concat\n",
        "df.reset_index(drop=True, inplace=True)\n",
        "df_tertarik.reset_index(drop=True, inplace=True)"
      ],
      "metadata": {
        "id": "mDqHJFvSe8lG"
      },
      "execution_count": 78,
      "outputs": []
    },
    {
      "cell_type": "code",
      "source": [
        "# Tambahkan kolom \"Tertarik\"\n",
        "df = pd.concat([df, df_tertarik], axis=1)"
      ],
      "metadata": {
        "id": "mPnOvGKohdUP"
      },
      "execution_count": 80,
      "outputs": []
    },
    {
      "cell_type": "code",
      "source": [
        "df.sample(5)"
      ],
      "metadata": {
        "colab": {
          "base_uri": "https://localhost:8080/",
          "height": 226
        },
        "id": "7WHVE0Oqh-IL",
        "outputId": "b9b67d3f-5cce-44d9-c523-b41fa674715b"
      },
      "execution_count": 82,
      "outputs": [
        {
          "output_type": "execute_result",
          "data": {
            "text/html": [
              "<div>\n",
              "<style scoped>\n",
              "    .dataframe tbody tr th:only-of-type {\n",
              "        vertical-align: middle;\n",
              "    }\n",
              "\n",
              "    .dataframe tbody tr th {\n",
              "        vertical-align: top;\n",
              "    }\n",
              "\n",
              "    .dataframe thead th {\n",
              "        text-align: right;\n",
              "    }\n",
              "</style>\n",
              "<table border=\"1\" class=\"dataframe\">\n",
              "  <thead>\n",
              "    <tr style=\"text-align: right;\">\n",
              "      <th></th>\n",
              "      <th>Jenis_Kelamin</th>\n",
              "      <th>Umur</th>\n",
              "      <th>SIM</th>\n",
              "      <th>Kode_Daerah</th>\n",
              "      <th>Sudah_Asuransi</th>\n",
              "      <th>Umur_Kendaraan</th>\n",
              "      <th>Kendaraan_Rusak</th>\n",
              "      <th>Premi</th>\n",
              "      <th>Kanal_Penjualan</th>\n",
              "      <th>Lama_Berlangganan</th>\n",
              "      <th>Tertarik</th>\n",
              "    </tr>\n",
              "  </thead>\n",
              "  <tbody>\n",
              "    <tr>\n",
              "      <th>163850</th>\n",
              "      <td>0.5</td>\n",
              "      <td>0.353846</td>\n",
              "      <td>0.006494</td>\n",
              "      <td>0.538462</td>\n",
              "      <td>0.0</td>\n",
              "      <td>0.0</td>\n",
              "      <td>1.0</td>\n",
              "      <td>0.077381</td>\n",
              "      <td>0.759259</td>\n",
              "      <td>0.709343</td>\n",
              "      <td>1</td>\n",
              "    </tr>\n",
              "    <tr>\n",
              "      <th>136662</th>\n",
              "      <td>0.0</td>\n",
              "      <td>0.276923</td>\n",
              "      <td>0.006494</td>\n",
              "      <td>0.538462</td>\n",
              "      <td>0.0</td>\n",
              "      <td>0.0</td>\n",
              "      <td>1.0</td>\n",
              "      <td>0.079589</td>\n",
              "      <td>0.759259</td>\n",
              "      <td>0.131488</td>\n",
              "      <td>0</td>\n",
              "    </tr>\n",
              "    <tr>\n",
              "      <th>256652</th>\n",
              "      <td>0.0</td>\n",
              "      <td>0.738462</td>\n",
              "      <td>0.006494</td>\n",
              "      <td>0.153846</td>\n",
              "      <td>0.0</td>\n",
              "      <td>0.0</td>\n",
              "      <td>0.0</td>\n",
              "      <td>0.075537</td>\n",
              "      <td>0.154321</td>\n",
              "      <td>0.920415</td>\n",
              "      <td>0</td>\n",
              "    </tr>\n",
              "    <tr>\n",
              "      <th>129292</th>\n",
              "      <td>0.0</td>\n",
              "      <td>0.553846</td>\n",
              "      <td>0.006494</td>\n",
              "      <td>0.153846</td>\n",
              "      <td>1.0</td>\n",
              "      <td>0.0</td>\n",
              "      <td>0.5</td>\n",
              "      <td>0.000000</td>\n",
              "      <td>0.154321</td>\n",
              "      <td>0.508651</td>\n",
              "      <td>0</td>\n",
              "    </tr>\n",
              "    <tr>\n",
              "      <th>140797</th>\n",
              "      <td>0.0</td>\n",
              "      <td>0.353846</td>\n",
              "      <td>0.006494</td>\n",
              "      <td>0.538462</td>\n",
              "      <td>1.0</td>\n",
              "      <td>0.0</td>\n",
              "      <td>0.5</td>\n",
              "      <td>0.084166</td>\n",
              "      <td>0.759259</td>\n",
              "      <td>0.121107</td>\n",
              "      <td>0</td>\n",
              "    </tr>\n",
              "  </tbody>\n",
              "</table>\n",
              "</div>"
            ],
            "text/plain": [
              "        Jenis_Kelamin      Umur  ...  Lama_Berlangganan  Tertarik\n",
              "163850            0.5  0.353846  ...           0.709343         1\n",
              "136662            0.0  0.276923  ...           0.131488         0\n",
              "256652            0.0  0.738462  ...           0.920415         0\n",
              "129292            0.0  0.553846  ...           0.508651         0\n",
              "140797            0.0  0.353846  ...           0.121107         0\n",
              "\n",
              "[5 rows x 11 columns]"
            ]
          },
          "metadata": {},
          "execution_count": 82
        }
      ]
    },
    {
      "cell_type": "markdown",
      "metadata": {
        "id": "fOCd9wtLNkDr"
      },
      "source": [
        "<br>"
      ]
    },
    {
      "cell_type": "markdown",
      "metadata": {
        "id": "VixO52an_0fd"
      },
      "source": [
        "#### **PCA**\n",
        "\n",
        "PCA adalah sebuah metode bagaimana mereduksi dimensi dengan menggunakan beberapa garis/bidang yang disebut dengan principle components (PCs). Dengan menggunakan PCA kita bisa mereduksi dimensi feature data menjadi lebih sedikit, sehingga memudahkan dalam mencari hubungan antar feature data tanpa menghilangkan informasi-informasi pada feature yang lain.\n",
        "<br>\n",
        "\n",
        "Alasan lainnya saya menggunakan PCA karena, sebelumnya saya sudah melakukan feature selection, namun solusi yang dihasilkan tidak bisa diterima. Saya mendapatkan **Sudah_Asuransi, Kendaraan_Rusak, Jenis_Kelamin,** dan **Umur** yang dijadikan feature untuk memprediksi **Tertarik**. Yang mana, data tersebut adalah data yang memiliki value 1 dan 0. Sehingga, menurut kami PCA adalah solusi yang bisa diambil. Namun, kekurangannya kita tidak tahu Component 1, dan **Component 2** merepresentasikan apa.\n",
        "\n",
        "<br>\n",
        "Source : \n",
        "\n",
        "*   https://towardsdatascience.com/how-where-and-when-we-should-use-pca-ab3dddad5888\n",
        "*   https://youtu.be/2NEu9dbM4A8\n",
        "*   https://youtu.be/oiusrJ0btwA\n",
        "\n"
      ]
    },
    {
      "cell_type": "code",
      "metadata": {
        "id": "74svCzz_Bz6r"
      },
      "source": [
        "# Import PCA Library\n",
        "from sklearn import decomposition"
      ],
      "execution_count": 83,
      "outputs": []
    },
    {
      "cell_type": "code",
      "metadata": {
        "id": "K7gVzXvrKE80"
      },
      "source": [
        "# Memisahkan kolom 'Tertarik' karena PCA merupakan unsupervised, sehingga tidak memerlukan \"Tertarik\"\n",
        "df_tertarik_pca = df[\"Tertarik\"]\n",
        "df_drop_tertarik = df.drop(axis=1, columns=[\"Tertarik\"])"
      ],
      "execution_count": 84,
      "outputs": []
    },
    {
      "cell_type": "code",
      "metadata": {
        "id": "gPCATfs5Jmvk"
      },
      "source": [
        "# Mereduksi menjadi 2 component\n",
        "pca = decomposition.PCA(n_components=2)\n",
        "\n",
        "# Menghitung scores value\n",
        "scores = pca.fit_transform(df_drop_tertarik)"
      ],
      "execution_count": 85,
      "outputs": []
    },
    {
      "cell_type": "code",
      "metadata": {
        "colab": {
          "base_uri": "https://localhost:8080/",
          "height": 206
        },
        "id": "daFkywdeLHQ6",
        "outputId": "b132b0a4-2239-4286-e5fa-b333d481e640"
      },
      "source": [
        "df_pca = pd.DataFrame(data=scores, columns=[\"Component 1\",\"Component 2\"])\n",
        "df_pca.head(5)"
      ],
      "execution_count": 86,
      "outputs": [
        {
          "output_type": "execute_result",
          "data": {
            "text/html": [
              "<div>\n",
              "<style scoped>\n",
              "    .dataframe tbody tr th:only-of-type {\n",
              "        vertical-align: middle;\n",
              "    }\n",
              "\n",
              "    .dataframe tbody tr th {\n",
              "        vertical-align: top;\n",
              "    }\n",
              "\n",
              "    .dataframe thead th {\n",
              "        text-align: right;\n",
              "    }\n",
              "</style>\n",
              "<table border=\"1\" class=\"dataframe\">\n",
              "  <thead>\n",
              "    <tr style=\"text-align: right;\">\n",
              "      <th></th>\n",
              "      <th>Component 1</th>\n",
              "      <th>Component 2</th>\n",
              "    </tr>\n",
              "  </thead>\n",
              "  <tbody>\n",
              "    <tr>\n",
              "      <th>0</th>\n",
              "      <td>0.676821</td>\n",
              "      <td>-0.137714</td>\n",
              "    </tr>\n",
              "    <tr>\n",
              "      <th>1</th>\n",
              "      <td>-0.604073</td>\n",
              "      <td>0.189375</td>\n",
              "    </tr>\n",
              "    <tr>\n",
              "      <th>2</th>\n",
              "      <td>0.737812</td>\n",
              "      <td>-0.313491</td>\n",
              "    </tr>\n",
              "    <tr>\n",
              "      <th>3</th>\n",
              "      <td>-0.339299</td>\n",
              "      <td>0.011243</td>\n",
              "    </tr>\n",
              "    <tr>\n",
              "      <th>4</th>\n",
              "      <td>-0.126711</td>\n",
              "      <td>0.026233</td>\n",
              "    </tr>\n",
              "  </tbody>\n",
              "</table>\n",
              "</div>"
            ],
            "text/plain": [
              "   Component 1  Component 2\n",
              "0     0.676821    -0.137714\n",
              "1    -0.604073     0.189375\n",
              "2     0.737812    -0.313491\n",
              "3    -0.339299     0.011243\n",
              "4    -0.126711     0.026233"
            ]
          },
          "metadata": {},
          "execution_count": 86
        }
      ]
    },
    {
      "cell_type": "code",
      "source": [
        "# Tambahkan kolom \"Tertarik\"\n",
        "df = pd.concat([df_pca, df_tertarik_pca], axis=1)"
      ],
      "metadata": {
        "id": "eKPWYsh7i24h"
      },
      "execution_count": 87,
      "outputs": []
    },
    {
      "cell_type": "code",
      "source": [
        "df.sample(5)"
      ],
      "metadata": {
        "colab": {
          "base_uri": "https://localhost:8080/",
          "height": 206
        },
        "id": "F99fhWUdi9D4",
        "outputId": "e28f03c9-4dbe-4858-dbc9-3bb21c980873"
      },
      "execution_count": 88,
      "outputs": [
        {
          "output_type": "execute_result",
          "data": {
            "text/html": [
              "<div>\n",
              "<style scoped>\n",
              "    .dataframe tbody tr th:only-of-type {\n",
              "        vertical-align: middle;\n",
              "    }\n",
              "\n",
              "    .dataframe tbody tr th {\n",
              "        vertical-align: top;\n",
              "    }\n",
              "\n",
              "    .dataframe thead th {\n",
              "        text-align: right;\n",
              "    }\n",
              "</style>\n",
              "<table border=\"1\" class=\"dataframe\">\n",
              "  <thead>\n",
              "    <tr style=\"text-align: right;\">\n",
              "      <th></th>\n",
              "      <th>Component 1</th>\n",
              "      <th>Component 2</th>\n",
              "      <th>Tertarik</th>\n",
              "    </tr>\n",
              "  </thead>\n",
              "  <tbody>\n",
              "    <tr>\n",
              "      <th>47400</th>\n",
              "      <td>0.651217</td>\n",
              "      <td>-0.059351</td>\n",
              "      <td>0</td>\n",
              "    </tr>\n",
              "    <tr>\n",
              "      <th>261453</th>\n",
              "      <td>-0.453036</td>\n",
              "      <td>-0.265688</td>\n",
              "      <td>1</td>\n",
              "    </tr>\n",
              "    <tr>\n",
              "      <th>62361</th>\n",
              "      <td>-0.581434</td>\n",
              "      <td>0.086041</td>\n",
              "      <td>1</td>\n",
              "    </tr>\n",
              "    <tr>\n",
              "      <th>204572</th>\n",
              "      <td>0.400437</td>\n",
              "      <td>0.731176</td>\n",
              "      <td>0</td>\n",
              "    </tr>\n",
              "    <tr>\n",
              "      <th>60069</th>\n",
              "      <td>-0.361659</td>\n",
              "      <td>-0.541214</td>\n",
              "      <td>0</td>\n",
              "    </tr>\n",
              "  </tbody>\n",
              "</table>\n",
              "</div>"
            ],
            "text/plain": [
              "        Component 1  Component 2  Tertarik\n",
              "47400      0.651217    -0.059351         0\n",
              "261453    -0.453036    -0.265688         1\n",
              "62361     -0.581434     0.086041         1\n",
              "204572     0.400437     0.731176         0\n",
              "60069     -0.361659    -0.541214         0"
            ]
          },
          "metadata": {},
          "execution_count": 88
        }
      ]
    },
    {
      "cell_type": "markdown",
      "metadata": {
        "id": "IH44pUejByZm"
      },
      "source": [
        "<br>"
      ]
    },
    {
      "cell_type": "markdown",
      "metadata": {
        "id": "vKBzGxW-fb_J"
      },
      "source": [
        "### **Export Data Hasil Eksplorasi dan Persiapan**"
      ]
    },
    {
      "cell_type": "code",
      "metadata": {
        "id": "Z8EZ7MAmfk9b"
      },
      "source": [
        "# Menyimpan hasil eksplorasi data\n",
        "df.to_csv(\"kendaraan_clean_pca.csv\", index=False, header=True)"
      ],
      "execution_count": 89,
      "outputs": []
    }
  ]
}