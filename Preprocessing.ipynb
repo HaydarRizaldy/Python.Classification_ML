{
  "nbformat": 4,
  "nbformat_minor": 0,
  "metadata": {
    "colab": {
      "name": "Preprocessing.ipynb",
      "provenance": [],
      "collapsed_sections": []
    },
    "kernelspec": {
      "name": "python3",
      "display_name": "Python 3"
    },
    "language_info": {
      "name": "python"
    }
  },
  "cells": [
    {
      "cell_type": "markdown",
      "metadata": {
        "id": "CiRoCwBqSOco"
      },
      "source": [
        "# **Tugas Besar Pembelajaran Mesin (Classification)**\n",
        "\n",
        "Kelas : IF-43-12\n",
        "\n",
        "Anggota : \n",
        "- Raihan Romzi Rakhman (1301194376)\n",
        "- Haydar Rizaldy Putera Prayudi (1301194388)"
      ]
    },
    {
      "cell_type": "markdown",
      "metadata": {
        "id": "h_Rj72wtTbNB"
      },
      "source": [
        "### **Task:**\n",
        "\n",
        "1.   **Formulasi Masalah** → jelaskan apa permasalahan yang akan diselesaikan.\n",
        "\n",
        "2.   **Eksplorasi dan Persiapan Data** (termasuk data splitting) →\tlakukan semua teknik eksplorasi dan persiapan data yang menurut Anda perlu dilakukan. Jelaskan\n",
        "mengapa perlu melakukan teknik tersebut, dan lakukan analisis terhadap hasilnya.\n",
        "\n",
        "3.   **Pemodelan** → bangunlah model menggunakan data hasil praproses 2.b, dan  lakukan proses training untuk mendapatkan hasil terbaik. Jelaskan secara detail semua proses yang Anda lakukan dilengkapi dengan justifikasi dan analisis hasilnya.\n",
        "\n",
        "4.   **Evaluasi** → pilih metode evaluasi yang sesuai beserta justifikasinya.  Lakukan evaluasi terhadap model yang telah dihasilkan. Berikan analisis  terhadap hasil evaluasi.\n",
        "\n",
        "5.   **Eksperimen** → lakukan berbagai eksperimen yang melibatkan tahapan Eksplorasi dan Persiapan Data, Pemodelan, dan Evaluasi untuk mendapatkan hasil terbaik. Laporkan semua Eksperimen yang Anda lakukan beserta analisis hasil dan\n",
        "perbandingannya.\n",
        "\n",
        "6.   **Kesimpulan** → berikan kesimpulan dari semua proses yang dijalankan beserta hasil akhir dari berbagai eksperimen yang telah dilakukan."
      ]
    },
    {
      "cell_type": "markdown",
      "metadata": {
        "id": "HjIIOk03L6-9"
      },
      "source": [
        "<br><br>"
      ]
    },
    {
      "cell_type": "markdown",
      "metadata": {
        "id": "YmJRuYMoTqT_"
      },
      "source": [
        "## **Import Library**"
      ]
    },
    {
      "cell_type": "code",
      "metadata": {
        "id": "yD7IoX29YPyp"
      },
      "source": [
        "import pandas as pd\n",
        "import matplotlib.pyplot as plt\n",
        "import numpy as np"
      ],
      "execution_count": 60,
      "outputs": []
    },
    {
      "cell_type": "markdown",
      "metadata": {
        "id": "6ri1JeueL9ll"
      },
      "source": [
        "<br>"
      ]
    },
    {
      "cell_type": "markdown",
      "metadata": {
        "id": "0zvbz6IiWGub"
      },
      "source": [
        "## **Import Dataset**"
      ]
    },
    {
      "cell_type": "code",
      "metadata": {
        "colab": {
          "base_uri": "https://localhost:8080/",
          "height": 380
        },
        "id": "Zg_RErX6TtHP",
        "outputId": "de9d2e81-9f85-4b29-de08-23bbcc253cf4"
      },
      "source": [
        "# Menggabungkan data taining dan data test menjadi satu dataframe\n",
        "df_train = pd.read_csv(\"https://raw.githubusercontent.com/raihanromzi/Python.Classification_ML/main/Datasets/kendaraan_train.csv\")\n",
        "df_test = pd.read_csv(\"https://raw.githubusercontent.com/raihanromzi/Python.Classification_ML/main/Datasets/kendaraan_test.csv\")\n",
        "df = df_train.append(df_test)\n",
        "\n",
        "# Mengetahui total jumlah data\n",
        "print(\"Total Dataset :\", len(df))\n",
        "df.sample(10)"
      ],
      "execution_count": 61,
      "outputs": [
        {
          "output_type": "stream",
          "name": "stdout",
          "text": [
            "Total Dataset : 333470\n"
          ]
        },
        {
          "output_type": "execute_result",
          "data": {
            "text/html": [
              "<div>\n",
              "<style scoped>\n",
              "    .dataframe tbody tr th:only-of-type {\n",
              "        vertical-align: middle;\n",
              "    }\n",
              "\n",
              "    .dataframe tbody tr th {\n",
              "        vertical-align: top;\n",
              "    }\n",
              "\n",
              "    .dataframe thead th {\n",
              "        text-align: right;\n",
              "    }\n",
              "</style>\n",
              "<table border=\"1\" class=\"dataframe\">\n",
              "  <thead>\n",
              "    <tr style=\"text-align: right;\">\n",
              "      <th></th>\n",
              "      <th>id</th>\n",
              "      <th>Jenis_Kelamin</th>\n",
              "      <th>Umur</th>\n",
              "      <th>SIM</th>\n",
              "      <th>Kode_Daerah</th>\n",
              "      <th>Sudah_Asuransi</th>\n",
              "      <th>Umur_Kendaraan</th>\n",
              "      <th>Kendaraan_Rusak</th>\n",
              "      <th>Premi</th>\n",
              "      <th>Kanal_Penjualan</th>\n",
              "      <th>Lama_Berlangganan</th>\n",
              "      <th>Tertarik</th>\n",
              "    </tr>\n",
              "  </thead>\n",
              "  <tbody>\n",
              "    <tr>\n",
              "      <th>67369</th>\n",
              "      <td>67370.0</td>\n",
              "      <td>Wanita</td>\n",
              "      <td>21.0</td>\n",
              "      <td>NaN</td>\n",
              "      <td>11.0</td>\n",
              "      <td>1.0</td>\n",
              "      <td>&lt; 1 Tahun</td>\n",
              "      <td>Tidak</td>\n",
              "      <td>28120.0</td>\n",
              "      <td>160.0</td>\n",
              "      <td>183.0</td>\n",
              "      <td>0</td>\n",
              "    </tr>\n",
              "    <tr>\n",
              "      <th>145380</th>\n",
              "      <td>145381.0</td>\n",
              "      <td>Pria</td>\n",
              "      <td>52.0</td>\n",
              "      <td>1.0</td>\n",
              "      <td>11.0</td>\n",
              "      <td>0.0</td>\n",
              "      <td>1-2 Tahun</td>\n",
              "      <td>Pernah</td>\n",
              "      <td>64935.0</td>\n",
              "      <td>152.0</td>\n",
              "      <td>57.0</td>\n",
              "      <td>0</td>\n",
              "    </tr>\n",
              "    <tr>\n",
              "      <th>35882</th>\n",
              "      <td>NaN</td>\n",
              "      <td>Pria</td>\n",
              "      <td>47.0</td>\n",
              "      <td>1.0</td>\n",
              "      <td>47.0</td>\n",
              "      <td>0.0</td>\n",
              "      <td>&gt; 2 Tahun</td>\n",
              "      <td>Pernah</td>\n",
              "      <td>29031.0</td>\n",
              "      <td>124.0</td>\n",
              "      <td>247.0</td>\n",
              "      <td>1</td>\n",
              "    </tr>\n",
              "    <tr>\n",
              "      <th>268855</th>\n",
              "      <td>268856.0</td>\n",
              "      <td>Pria</td>\n",
              "      <td>35.0</td>\n",
              "      <td>1.0</td>\n",
              "      <td>11.0</td>\n",
              "      <td>0.0</td>\n",
              "      <td>1-2 Tahun</td>\n",
              "      <td>Pernah</td>\n",
              "      <td>26731.0</td>\n",
              "      <td>154.0</td>\n",
              "      <td>190.0</td>\n",
              "      <td>1</td>\n",
              "    </tr>\n",
              "    <tr>\n",
              "      <th>226418</th>\n",
              "      <td>226419.0</td>\n",
              "      <td>Pria</td>\n",
              "      <td>24.0</td>\n",
              "      <td>1.0</td>\n",
              "      <td>3.0</td>\n",
              "      <td>1.0</td>\n",
              "      <td>&lt; 1 Tahun</td>\n",
              "      <td>Tidak</td>\n",
              "      <td>2630.0</td>\n",
              "      <td>152.0</td>\n",
              "      <td>298.0</td>\n",
              "      <td>0</td>\n",
              "    </tr>\n",
              "    <tr>\n",
              "      <th>92004</th>\n",
              "      <td>92005.0</td>\n",
              "      <td>Wanita</td>\n",
              "      <td>57.0</td>\n",
              "      <td>1.0</td>\n",
              "      <td>46.0</td>\n",
              "      <td>1.0</td>\n",
              "      <td>1-2 Tahun</td>\n",
              "      <td>Tidak</td>\n",
              "      <td>2630.0</td>\n",
              "      <td>NaN</td>\n",
              "      <td>162.0</td>\n",
              "      <td>0</td>\n",
              "    </tr>\n",
              "    <tr>\n",
              "      <th>266672</th>\n",
              "      <td>266673.0</td>\n",
              "      <td>Wanita</td>\n",
              "      <td>24.0</td>\n",
              "      <td>1.0</td>\n",
              "      <td>28.0</td>\n",
              "      <td>0.0</td>\n",
              "      <td>&lt; 1 Tahun</td>\n",
              "      <td>Pernah</td>\n",
              "      <td>52471.0</td>\n",
              "      <td>152.0</td>\n",
              "      <td>256.0</td>\n",
              "      <td>0</td>\n",
              "    </tr>\n",
              "    <tr>\n",
              "      <th>147183</th>\n",
              "      <td>147184.0</td>\n",
              "      <td>Wanita</td>\n",
              "      <td>21.0</td>\n",
              "      <td>1.0</td>\n",
              "      <td>10.0</td>\n",
              "      <td>1.0</td>\n",
              "      <td>&lt; 1 Tahun</td>\n",
              "      <td>Tidak</td>\n",
              "      <td>29858.0</td>\n",
              "      <td>160.0</td>\n",
              "      <td>219.0</td>\n",
              "      <td>0</td>\n",
              "    </tr>\n",
              "    <tr>\n",
              "      <th>211980</th>\n",
              "      <td>211981.0</td>\n",
              "      <td>Pria</td>\n",
              "      <td>40.0</td>\n",
              "      <td>1.0</td>\n",
              "      <td>36.0</td>\n",
              "      <td>0.0</td>\n",
              "      <td>NaN</td>\n",
              "      <td>Pernah</td>\n",
              "      <td>2630.0</td>\n",
              "      <td>156.0</td>\n",
              "      <td>190.0</td>\n",
              "      <td>0</td>\n",
              "    </tr>\n",
              "    <tr>\n",
              "      <th>29178</th>\n",
              "      <td>29179.0</td>\n",
              "      <td>Wanita</td>\n",
              "      <td>49.0</td>\n",
              "      <td>1.0</td>\n",
              "      <td>28.0</td>\n",
              "      <td>1.0</td>\n",
              "      <td>1-2 Tahun</td>\n",
              "      <td>Tidak</td>\n",
              "      <td>40270.0</td>\n",
              "      <td>26.0</td>\n",
              "      <td>95.0</td>\n",
              "      <td>0</td>\n",
              "    </tr>\n",
              "  </tbody>\n",
              "</table>\n",
              "</div>"
            ],
            "text/plain": [
              "              id Jenis_Kelamin  ...  Lama_Berlangganan  Tertarik\n",
              "67369    67370.0        Wanita  ...              183.0         0\n",
              "145380  145381.0          Pria  ...               57.0         0\n",
              "35882        NaN          Pria  ...              247.0         1\n",
              "268855  268856.0          Pria  ...              190.0         1\n",
              "226418  226419.0          Pria  ...              298.0         0\n",
              "92004    92005.0        Wanita  ...              162.0         0\n",
              "266672  266673.0        Wanita  ...              256.0         0\n",
              "147183  147184.0        Wanita  ...              219.0         0\n",
              "211980  211981.0          Pria  ...              190.0         0\n",
              "29178    29179.0        Wanita  ...               95.0         0\n",
              "\n",
              "[10 rows x 12 columns]"
            ]
          },
          "metadata": {},
          "execution_count": 61
        }
      ]
    },
    {
      "cell_type": "markdown",
      "metadata": {
        "id": "xRBtaFyiL-1k"
      },
      "source": [
        "<br>"
      ]
    },
    {
      "cell_type": "markdown",
      "metadata": {
        "id": "B3_yBka1Y0Qh"
      },
      "source": [
        "## **Eksplorasi dan Persiapan Data**\n",
        "\n",
        "Sebelum melakukan Classification, data harus dilakukan prapemrosesan terlebih dahulu. Tujuannya agar ketika sudah masuk ke proses selanjutnya maka data sudah bersih dan siap untuk diimplementasikan algoritma tanpa mengurangi efisiensi hasil."
      ]
    },
    {
      "cell_type": "markdown",
      "metadata": {
        "id": "gjbj7mGKMC0x"
      },
      "source": [
        "<br>"
      ]
    },
    {
      "cell_type": "markdown",
      "metadata": {
        "id": "zSEzdqMKhlSq"
      },
      "source": [
        "### **Delete Unused Data**\n",
        "\n",
        "Kolom \"id\" dihapus karena dapat dipastikan tidak memiliki keterikatan pada hasil akhir."
      ]
    },
    {
      "cell_type": "code",
      "metadata": {
        "colab": {
          "base_uri": "https://localhost:8080/",
          "height": 380
        },
        "id": "f8qpeHPihHKy",
        "outputId": "86bebb9d-f5b1-4185-84c5-e26e65d48a65"
      },
      "source": [
        "# Menghapus Kolom \"id\"\n",
        "df = df.drop(axis=1, columns=[\"id\"])\n",
        "\n",
        "# Mengetahui total jumlah data\n",
        "print(\"Total Dataset :\", len(df))\n",
        "df.sample(10)"
      ],
      "execution_count": 62,
      "outputs": [
        {
          "output_type": "stream",
          "name": "stdout",
          "text": [
            "Total Dataset : 333470\n"
          ]
        },
        {
          "output_type": "execute_result",
          "data": {
            "text/html": [
              "<div>\n",
              "<style scoped>\n",
              "    .dataframe tbody tr th:only-of-type {\n",
              "        vertical-align: middle;\n",
              "    }\n",
              "\n",
              "    .dataframe tbody tr th {\n",
              "        vertical-align: top;\n",
              "    }\n",
              "\n",
              "    .dataframe thead th {\n",
              "        text-align: right;\n",
              "    }\n",
              "</style>\n",
              "<table border=\"1\" class=\"dataframe\">\n",
              "  <thead>\n",
              "    <tr style=\"text-align: right;\">\n",
              "      <th></th>\n",
              "      <th>Jenis_Kelamin</th>\n",
              "      <th>Umur</th>\n",
              "      <th>SIM</th>\n",
              "      <th>Kode_Daerah</th>\n",
              "      <th>Sudah_Asuransi</th>\n",
              "      <th>Umur_Kendaraan</th>\n",
              "      <th>Kendaraan_Rusak</th>\n",
              "      <th>Premi</th>\n",
              "      <th>Kanal_Penjualan</th>\n",
              "      <th>Lama_Berlangganan</th>\n",
              "      <th>Tertarik</th>\n",
              "    </tr>\n",
              "  </thead>\n",
              "  <tbody>\n",
              "    <tr>\n",
              "      <th>176048</th>\n",
              "      <td>Wanita</td>\n",
              "      <td>NaN</td>\n",
              "      <td>NaN</td>\n",
              "      <td>15.0</td>\n",
              "      <td>0.0</td>\n",
              "      <td>&lt; 1 Tahun</td>\n",
              "      <td>Pernah</td>\n",
              "      <td>24660.0</td>\n",
              "      <td>NaN</td>\n",
              "      <td>98.0</td>\n",
              "      <td>0</td>\n",
              "    </tr>\n",
              "    <tr>\n",
              "      <th>220686</th>\n",
              "      <td>Pria</td>\n",
              "      <td>30.0</td>\n",
              "      <td>1.0</td>\n",
              "      <td>21.0</td>\n",
              "      <td>1.0</td>\n",
              "      <td>&lt; 1 Tahun</td>\n",
              "      <td>Tidak</td>\n",
              "      <td>28816.0</td>\n",
              "      <td>152.0</td>\n",
              "      <td>152.0</td>\n",
              "      <td>0</td>\n",
              "    </tr>\n",
              "    <tr>\n",
              "      <th>145039</th>\n",
              "      <td>Pria</td>\n",
              "      <td>39.0</td>\n",
              "      <td>1.0</td>\n",
              "      <td>28.0</td>\n",
              "      <td>0.0</td>\n",
              "      <td>1-2 Tahun</td>\n",
              "      <td>Pernah</td>\n",
              "      <td>30897.0</td>\n",
              "      <td>26.0</td>\n",
              "      <td>69.0</td>\n",
              "      <td>0</td>\n",
              "    </tr>\n",
              "    <tr>\n",
              "      <th>30014</th>\n",
              "      <td>Wanita</td>\n",
              "      <td>66.0</td>\n",
              "      <td>1.0</td>\n",
              "      <td>28.0</td>\n",
              "      <td>1.0</td>\n",
              "      <td>1-2 Tahun</td>\n",
              "      <td>Tidak</td>\n",
              "      <td>22165.0</td>\n",
              "      <td>122.0</td>\n",
              "      <td>139.0</td>\n",
              "      <td>0</td>\n",
              "    </tr>\n",
              "    <tr>\n",
              "      <th>6014</th>\n",
              "      <td>Pria</td>\n",
              "      <td>23.0</td>\n",
              "      <td>1.0</td>\n",
              "      <td>6.0</td>\n",
              "      <td>1.0</td>\n",
              "      <td>&lt; 1 Tahun</td>\n",
              "      <td>Tidak</td>\n",
              "      <td>30494.0</td>\n",
              "      <td>152.0</td>\n",
              "      <td>104.0</td>\n",
              "      <td>0</td>\n",
              "    </tr>\n",
              "    <tr>\n",
              "      <th>40040</th>\n",
              "      <td>Pria</td>\n",
              "      <td>46.0</td>\n",
              "      <td>1.0</td>\n",
              "      <td>28.0</td>\n",
              "      <td>0.0</td>\n",
              "      <td>&gt; 2 Tahun</td>\n",
              "      <td>Pernah</td>\n",
              "      <td>47609.0</td>\n",
              "      <td>79.0</td>\n",
              "      <td>120.0</td>\n",
              "      <td>0</td>\n",
              "    </tr>\n",
              "    <tr>\n",
              "      <th>82344</th>\n",
              "      <td>Pria</td>\n",
              "      <td>23.0</td>\n",
              "      <td>1.0</td>\n",
              "      <td>47.0</td>\n",
              "      <td>1.0</td>\n",
              "      <td>&lt; 1 Tahun</td>\n",
              "      <td>Tidak</td>\n",
              "      <td>39274.0</td>\n",
              "      <td>152.0</td>\n",
              "      <td>NaN</td>\n",
              "      <td>0</td>\n",
              "    </tr>\n",
              "    <tr>\n",
              "      <th>265088</th>\n",
              "      <td>Pria</td>\n",
              "      <td>30.0</td>\n",
              "      <td>1.0</td>\n",
              "      <td>46.0</td>\n",
              "      <td>1.0</td>\n",
              "      <td>&lt; 1 Tahun</td>\n",
              "      <td>Tidak</td>\n",
              "      <td>NaN</td>\n",
              "      <td>160.0</td>\n",
              "      <td>231.0</td>\n",
              "      <td>0</td>\n",
              "    </tr>\n",
              "    <tr>\n",
              "      <th>131613</th>\n",
              "      <td>Pria</td>\n",
              "      <td>20.0</td>\n",
              "      <td>NaN</td>\n",
              "      <td>17.0</td>\n",
              "      <td>0.0</td>\n",
              "      <td>&lt; 1 Tahun</td>\n",
              "      <td>Pernah</td>\n",
              "      <td>69402.0</td>\n",
              "      <td>160.0</td>\n",
              "      <td>66.0</td>\n",
              "      <td>0</td>\n",
              "    </tr>\n",
              "    <tr>\n",
              "      <th>169020</th>\n",
              "      <td>Wanita</td>\n",
              "      <td>35.0</td>\n",
              "      <td>1.0</td>\n",
              "      <td>30.0</td>\n",
              "      <td>1.0</td>\n",
              "      <td>1-2 Tahun</td>\n",
              "      <td>Tidak</td>\n",
              "      <td>28838.0</td>\n",
              "      <td>152.0</td>\n",
              "      <td>288.0</td>\n",
              "      <td>0</td>\n",
              "    </tr>\n",
              "  </tbody>\n",
              "</table>\n",
              "</div>"
            ],
            "text/plain": [
              "       Jenis_Kelamin  Umur  SIM  ...  Kanal_Penjualan  Lama_Berlangganan Tertarik\n",
              "176048        Wanita   NaN  NaN  ...              NaN               98.0        0\n",
              "220686          Pria  30.0  1.0  ...            152.0              152.0        0\n",
              "145039          Pria  39.0  1.0  ...             26.0               69.0        0\n",
              "30014         Wanita  66.0  1.0  ...            122.0              139.0        0\n",
              "6014            Pria  23.0  1.0  ...            152.0              104.0        0\n",
              "40040           Pria  46.0  1.0  ...             79.0              120.0        0\n",
              "82344           Pria  23.0  1.0  ...            152.0                NaN        0\n",
              "265088          Pria  30.0  1.0  ...            160.0              231.0        0\n",
              "131613          Pria  20.0  NaN  ...            160.0               66.0        0\n",
              "169020        Wanita  35.0  1.0  ...            152.0              288.0        0\n",
              "\n",
              "[10 rows x 11 columns]"
            ]
          },
          "metadata": {},
          "execution_count": 62
        }
      ]
    },
    {
      "cell_type": "markdown",
      "metadata": {
        "id": "5YXq_y-bMEDY"
      },
      "source": [
        "<br>"
      ]
    },
    {
      "cell_type": "markdown",
      "metadata": {
        "id": "2jTYpBLcNXvc"
      },
      "source": [
        "<br>"
      ]
    },
    {
      "cell_type": "markdown",
      "metadata": {
        "id": "SJ24fAVziMAz"
      },
      "source": [
        "### **Check Data Info**\n",
        "\n",
        "Mengeksplorasi informasi tentang dataset, agar memberikan gambaran yang jelas terkait pesebaran data."
      ]
    },
    {
      "cell_type": "markdown",
      "metadata": {
        "id": "wxD-TY3cP9Yr"
      },
      "source": [
        "<br>"
      ]
    },
    {
      "cell_type": "markdown",
      "metadata": {
        "id": "u1tRa2OFsPa_"
      },
      "source": [
        "#### **Check Data Type**"
      ]
    },
    {
      "cell_type": "code",
      "metadata": {
        "colab": {
          "base_uri": "https://localhost:8080/"
        },
        "id": "cSdnLZyehad4",
        "outputId": "97661ee4-6ee1-4280-afbd-ade89e2e2a95"
      },
      "source": [
        "# Mengetahui data type tiap kolom\n",
        "df.dtypes"
      ],
      "execution_count": 63,
      "outputs": [
        {
          "output_type": "execute_result",
          "data": {
            "text/plain": [
              "Jenis_Kelamin         object\n",
              "Umur                 float64\n",
              "SIM                  float64\n",
              "Kode_Daerah          float64\n",
              "Sudah_Asuransi       float64\n",
              "Umur_Kendaraan        object\n",
              "Kendaraan_Rusak       object\n",
              "Premi                float64\n",
              "Kanal_Penjualan      float64\n",
              "Lama_Berlangganan    float64\n",
              "Tertarik               int64\n",
              "dtype: object"
            ]
          },
          "metadata": {},
          "execution_count": 63
        }
      ]
    },
    {
      "cell_type": "markdown",
      "metadata": {
        "id": "Cx3RAIZENalz"
      },
      "source": [
        "<br>"
      ]
    },
    {
      "cell_type": "markdown",
      "metadata": {
        "id": "lvcIYT8usYiZ"
      },
      "source": [
        "#### **Statistical Summary**\n",
        "\n",
        "Melihat summary setiap atribut dengan fungsi describe. Fungsi ini menampilkan summary statistik untuk atribut numerik dari dataset kita, termasuk di dalamnya count, mean, nilai minimum dan maksimum, serta nilai-nilai persentilnya."
      ]
    },
    {
      "cell_type": "code",
      "metadata": {
        "colab": {
          "base_uri": "https://localhost:8080/",
          "height": 300
        },
        "id": "9zrQ8Haxpf6k",
        "outputId": "55c9f22d-3441-4ae7-bb8b-9d8b9895e5d3"
      },
      "source": [
        "# Mengetahui Count, Mean, Min, Persentase\n",
        "df.describe()"
      ],
      "execution_count": 64,
      "outputs": [
        {
          "output_type": "execute_result",
          "data": {
            "text/html": [
              "<div>\n",
              "<style scoped>\n",
              "    .dataframe tbody tr th:only-of-type {\n",
              "        vertical-align: middle;\n",
              "    }\n",
              "\n",
              "    .dataframe tbody tr th {\n",
              "        vertical-align: top;\n",
              "    }\n",
              "\n",
              "    .dataframe thead th {\n",
              "        text-align: right;\n",
              "    }\n",
              "</style>\n",
              "<table border=\"1\" class=\"dataframe\">\n",
              "  <thead>\n",
              "    <tr style=\"text-align: right;\">\n",
              "      <th></th>\n",
              "      <th>Umur</th>\n",
              "      <th>SIM</th>\n",
              "      <th>Kode_Daerah</th>\n",
              "      <th>Sudah_Asuransi</th>\n",
              "      <th>Premi</th>\n",
              "      <th>Kanal_Penjualan</th>\n",
              "      <th>Lama_Berlangganan</th>\n",
              "      <th>Tertarik</th>\n",
              "    </tr>\n",
              "  </thead>\n",
              "  <tbody>\n",
              "    <tr>\n",
              "      <th>count</th>\n",
              "      <td>319256.000000</td>\n",
              "      <td>319066.000000</td>\n",
              "      <td>319164.000000</td>\n",
              "      <td>319241.000000</td>\n",
              "      <td>318901.000000</td>\n",
              "      <td>319171.000000</td>\n",
              "      <td>319478.000000</td>\n",
              "      <td>333470.000000</td>\n",
              "    </tr>\n",
              "    <tr>\n",
              "      <th>mean</th>\n",
              "      <td>38.840028</td>\n",
              "      <td>0.997859</td>\n",
              "      <td>26.394380</td>\n",
              "      <td>0.458603</td>\n",
              "      <td>30550.097899</td>\n",
              "      <td>112.045299</td>\n",
              "      <td>154.310350</td>\n",
              "      <td>0.122551</td>\n",
              "    </tr>\n",
              "    <tr>\n",
              "      <th>std</th>\n",
              "      <td>15.526398</td>\n",
              "      <td>0.046217</td>\n",
              "      <td>13.246852</td>\n",
              "      <td>0.498284</td>\n",
              "      <td>17192.548724</td>\n",
              "      <td>54.196470</td>\n",
              "      <td>83.686932</td>\n",
              "      <td>0.327921</td>\n",
              "    </tr>\n",
              "    <tr>\n",
              "      <th>min</th>\n",
              "      <td>20.000000</td>\n",
              "      <td>0.000000</td>\n",
              "      <td>0.000000</td>\n",
              "      <td>0.000000</td>\n",
              "      <td>2630.000000</td>\n",
              "      <td>1.000000</td>\n",
              "      <td>10.000000</td>\n",
              "      <td>0.000000</td>\n",
              "    </tr>\n",
              "    <tr>\n",
              "      <th>25%</th>\n",
              "      <td>25.000000</td>\n",
              "      <td>1.000000</td>\n",
              "      <td>15.000000</td>\n",
              "      <td>0.000000</td>\n",
              "      <td>24397.000000</td>\n",
              "      <td>29.000000</td>\n",
              "      <td>82.000000</td>\n",
              "      <td>0.000000</td>\n",
              "    </tr>\n",
              "    <tr>\n",
              "      <th>50%</th>\n",
              "      <td>36.000000</td>\n",
              "      <td>1.000000</td>\n",
              "      <td>28.000000</td>\n",
              "      <td>0.000000</td>\n",
              "      <td>31660.000000</td>\n",
              "      <td>133.000000</td>\n",
              "      <td>154.000000</td>\n",
              "      <td>0.000000</td>\n",
              "    </tr>\n",
              "    <tr>\n",
              "      <th>75%</th>\n",
              "      <td>49.000000</td>\n",
              "      <td>1.000000</td>\n",
              "      <td>35.000000</td>\n",
              "      <td>1.000000</td>\n",
              "      <td>39392.000000</td>\n",
              "      <td>152.000000</td>\n",
              "      <td>227.000000</td>\n",
              "      <td>0.000000</td>\n",
              "    </tr>\n",
              "    <tr>\n",
              "      <th>max</th>\n",
              "      <td>85.000000</td>\n",
              "      <td>1.000000</td>\n",
              "      <td>52.000000</td>\n",
              "      <td>1.000000</td>\n",
              "      <td>540165.000000</td>\n",
              "      <td>163.000000</td>\n",
              "      <td>299.000000</td>\n",
              "      <td>1.000000</td>\n",
              "    </tr>\n",
              "  </tbody>\n",
              "</table>\n",
              "</div>"
            ],
            "text/plain": [
              "                Umur            SIM  ...  Lama_Berlangganan       Tertarik\n",
              "count  319256.000000  319066.000000  ...      319478.000000  333470.000000\n",
              "mean       38.840028       0.997859  ...         154.310350       0.122551\n",
              "std        15.526398       0.046217  ...          83.686932       0.327921\n",
              "min        20.000000       0.000000  ...          10.000000       0.000000\n",
              "25%        25.000000       1.000000  ...          82.000000       0.000000\n",
              "50%        36.000000       1.000000  ...         154.000000       0.000000\n",
              "75%        49.000000       1.000000  ...         227.000000       0.000000\n",
              "max        85.000000       1.000000  ...         299.000000       1.000000\n",
              "\n",
              "[8 rows x 8 columns]"
            ]
          },
          "metadata": {},
          "execution_count": 64
        }
      ]
    },
    {
      "cell_type": "markdown",
      "metadata": {
        "id": "bUnuvO-fNbvD"
      },
      "source": [
        "<br>"
      ]
    },
    {
      "cell_type": "markdown",
      "metadata": {
        "id": "BV4BYQ7FsBG2"
      },
      "source": [
        "#### **Check Missing Value**"
      ]
    },
    {
      "cell_type": "code",
      "metadata": {
        "colab": {
          "base_uri": "https://localhost:8080/"
        },
        "id": "PoN1s2M-paTs",
        "outputId": "657923a1-df37-443f-cd6c-9e8c15f4ab02"
      },
      "source": [
        "# Mengecek apakah ada missing value pada DataFrame , terdapat 142.916 data yang missing, sehingga tidak bisa jika langsung di drop.r\n",
        "df.isnull().sum()"
      ],
      "execution_count": 65,
      "outputs": [
        {
          "output_type": "execute_result",
          "data": {
            "text/plain": [
              "Jenis_Kelamin        14440\n",
              "Umur                 14214\n",
              "SIM                  14404\n",
              "Kode_Daerah          14306\n",
              "Sudah_Asuransi       14229\n",
              "Umur_Kendaraan       14275\n",
              "Kendaraan_Rusak      14188\n",
              "Premi                14569\n",
              "Kanal_Penjualan      14299\n",
              "Lama_Berlangganan    13992\n",
              "Tertarik                 0\n",
              "dtype: int64"
            ]
          },
          "metadata": {},
          "execution_count": 65
        }
      ]
    },
    {
      "cell_type": "markdown",
      "metadata": {
        "id": "qjSHoZHWNc49"
      },
      "source": [
        "<br>"
      ]
    },
    {
      "cell_type": "markdown",
      "metadata": {
        "id": "I7s9Q0cbsHmc"
      },
      "source": [
        "#### **Check Duplicate Data**"
      ]
    },
    {
      "cell_type": "code",
      "metadata": {
        "colab": {
          "base_uri": "https://localhost:8080/"
        },
        "id": "73T1Q2FKqElM",
        "outputId": "ac006500-130a-4162-ed8a-d3aa17940865"
      },
      "source": [
        "duplicate = list(df.duplicated())\n",
        "print(\"Data Duplikasi :\", duplicate.count(True))"
      ],
      "execution_count": 66,
      "outputs": [
        {
          "output_type": "stream",
          "name": "stdout",
          "text": [
            "Data Duplikasi : 204\n"
          ]
        }
      ]
    },
    {
      "cell_type": "markdown",
      "metadata": {
        "id": "bD3XhXmBNdws"
      },
      "source": [
        "<br>"
      ]
    },
    {
      "cell_type": "markdown",
      "metadata": {
        "id": "0cq2d27-sK9s"
      },
      "source": [
        "#### **Check Data Value**\n",
        "\n",
        "Melihat jumlah persebaran untuk data-data yang kategorikal"
      ]
    },
    {
      "cell_type": "code",
      "metadata": {
        "colab": {
          "base_uri": "https://localhost:8080/"
        },
        "id": "ZPa7US51hg-0",
        "outputId": "83165d37-312f-4f2e-a7ff-d1d56fb520c5"
      },
      "source": [
        "# Menghitung jumlah \"Pria\" dan \"Wanita\" pada Dataset\n",
        "df[\"Jenis_Kelamin\"].value_counts()"
      ],
      "execution_count": 67,
      "outputs": [
        {
          "output_type": "execute_result",
          "data": {
            "text/plain": [
              "Pria      172548\n",
              "Wanita    146482\n",
              "Name: Jenis_Kelamin, dtype: int64"
            ]
          },
          "metadata": {},
          "execution_count": 67
        }
      ]
    },
    {
      "cell_type": "code",
      "metadata": {
        "colab": {
          "base_uri": "https://localhost:8080/"
        },
        "id": "RtZgs8RtibOG",
        "outputId": "cdfac996-4c4d-493b-8587-7f3b3e6a3394"
      },
      "source": [
        "# Menghitung berapa orang yang sudah memiliki SIM dan belum\n",
        "df[\"SIM\"].value_counts()"
      ],
      "execution_count": 68,
      "outputs": [
        {
          "output_type": "execute_result",
          "data": {
            "text/plain": [
              "1.0    318383\n",
              "0.0       683\n",
              "Name: SIM, dtype: int64"
            ]
          },
          "metadata": {},
          "execution_count": 68
        }
      ]
    },
    {
      "cell_type": "code",
      "metadata": {
        "colab": {
          "base_uri": "https://localhost:8080/"
        },
        "id": "BmuJoXt9i2il",
        "outputId": "ac56c962-9349-4aa5-e98c-b290f8cecb8d"
      },
      "source": [
        "# Menghitung berapa jumlah kendaraan yang sudah asuransi dan belum\n",
        "df[\"Sudah_Asuransi\"].value_counts()"
      ],
      "execution_count": 69,
      "outputs": [
        {
          "output_type": "execute_result",
          "data": {
            "text/plain": [
              "0.0    172836\n",
              "1.0    146405\n",
              "Name: Sudah_Asuransi, dtype: int64"
            ]
          },
          "metadata": {},
          "execution_count": 69
        }
      ]
    },
    {
      "cell_type": "code",
      "metadata": {
        "colab": {
          "base_uri": "https://localhost:8080/"
        },
        "id": "SY1VQGARoMwq",
        "outputId": "9a3d1023-e857-44b0-9c4e-216ad162dc6f"
      },
      "source": [
        "# Menghitung rentang umur kendaraan\n",
        "df[\"Umur_Kendaraan\"].value_counts()"
      ],
      "execution_count": 70,
      "outputs": [
        {
          "output_type": "execute_result",
          "data": {
            "text/plain": [
              "1-2 Tahun    167727\n",
              "< 1 Tahun    138070\n",
              "> 2 Tahun     13398\n",
              "Name: Umur_Kendaraan, dtype: int64"
            ]
          },
          "metadata": {},
          "execution_count": 70
        }
      ]
    },
    {
      "cell_type": "code",
      "metadata": {
        "colab": {
          "base_uri": "https://localhost:8080/"
        },
        "id": "SfVVRFygoRVZ",
        "outputId": "14dcc1f2-3fa9-481f-de6c-40ea378d6c2d"
      },
      "source": [
        "# Menghitung berapa jumlah kendaraan yang pernah mengalami kerusakan dan tidak\n",
        "df[\"Kendaraan_Rusak\"].value_counts()"
      ],
      "execution_count": 71,
      "outputs": [
        {
          "output_type": "execute_result",
          "data": {
            "text/plain": [
              "Pernah    161164\n",
              "Tidak     158118\n",
              "Name: Kendaraan_Rusak, dtype: int64"
            ]
          },
          "metadata": {},
          "execution_count": 71
        }
      ]
    },
    {
      "cell_type": "code",
      "metadata": {
        "colab": {
          "base_uri": "https://localhost:8080/"
        },
        "id": "xliVm9sDoW7t",
        "outputId": "1bc72b2e-0b4a-4fb4-a1db-1be24a3ccab7"
      },
      "source": [
        "# Menghitung jumlah ketertarikan\n",
        "df[\"Tertarik\"].value_counts()"
      ],
      "execution_count": 72,
      "outputs": [
        {
          "output_type": "execute_result",
          "data": {
            "text/plain": [
              "0    292603\n",
              "1     40867\n",
              "Name: Tertarik, dtype: int64"
            ]
          },
          "metadata": {},
          "execution_count": 72
        }
      ]
    },
    {
      "cell_type": "markdown",
      "metadata": {
        "id": "Ha6RjcD2NerI"
      },
      "source": [
        "<br>"
      ]
    },
    {
      "cell_type": "markdown",
      "metadata": {
        "id": "kukB9--qrxOk"
      },
      "source": [
        "#### **Delete Duplicate Data**\n",
        "\n",
        "Duplikat adalah kasus ekstrim pengambilan sampel nonrandom, dan membuat bias model.\n",
        "\n",
        "Faktor yang menentukan\n",
        "- Memastikan itu bukan data nyata yang kebetulan memiliki nilai yang identik\n",
        "- Mencoba mencari tahu mengapa Anda memiliki duplikat dalam data Anda. Misalnya, terkadang orang dengan sengaja 'mengambil sampel berlebihan' kategori langka dalam data pelatihan"
      ]
    },
    {
      "cell_type": "code",
      "metadata": {
        "id": "b8sdEOYMtVCg"
      },
      "source": [
        "df.drop_duplicates(inplace=True)"
      ],
      "execution_count": 73,
      "outputs": []
    },
    {
      "cell_type": "code",
      "metadata": {
        "colab": {
          "base_uri": "https://localhost:8080/"
        },
        "id": "6gMfzH4OtYcR",
        "outputId": "96a99bb3-1451-45a2-cb34-2ba5e993aae8"
      },
      "source": [
        "duplicate = list(df.duplicated())\n",
        "print(\"Data Duplikasi :\", duplicate.count(True))"
      ],
      "execution_count": 74,
      "outputs": [
        {
          "output_type": "stream",
          "name": "stdout",
          "text": [
            "Data Duplikasi : 0\n"
          ]
        }
      ]
    },
    {
      "cell_type": "markdown",
      "metadata": {
        "id": "3Wia1o24Nfpr"
      },
      "source": [
        "<br>"
      ]
    },
    {
      "cell_type": "markdown",
      "metadata": {
        "id": "SBpzG8b7so6w"
      },
      "source": [
        "#### **Handling Missing Value**\n",
        "\n",
        "Menghapus missing value dengan menggunakan dropna(), dimana akan menghapus secara langsung, dikarenakan missing value pada dataset ini terbilang sangat kecil dan tidak akan memengaruhi proses selanjutnya dari total 333.470 data menjadi 333.266 data."
      ]
    },
    {
      "cell_type": "code",
      "metadata": {
        "colab": {
          "base_uri": "https://localhost:8080/"
        },
        "id": "pcBRoqc1LvlW",
        "outputId": "0407fde4-28fa-4560-cdbe-09ef50c0044d"
      },
      "source": [
        "df = df.dropna()\n",
        "len(df)"
      ],
      "execution_count": 75,
      "outputs": [
        {
          "output_type": "execute_result",
          "data": {
            "text/plain": [
              "218621"
            ]
          },
          "metadata": {},
          "execution_count": 75
        }
      ]
    },
    {
      "cell_type": "code",
      "metadata": {
        "colab": {
          "base_uri": "https://localhost:8080/"
        },
        "id": "CfRlyBqOL4MT",
        "outputId": "94290d1e-8431-4587-927e-f86cf0d53911"
      },
      "source": [
        "# Missing value pada data sudah bersih\n",
        "df.isnull().sum()"
      ],
      "execution_count": 76,
      "outputs": [
        {
          "output_type": "execute_result",
          "data": {
            "text/plain": [
              "Jenis_Kelamin        0\n",
              "Umur                 0\n",
              "SIM                  0\n",
              "Kode_Daerah          0\n",
              "Sudah_Asuransi       0\n",
              "Umur_Kendaraan       0\n",
              "Kendaraan_Rusak      0\n",
              "Premi                0\n",
              "Kanal_Penjualan      0\n",
              "Lama_Berlangganan    0\n",
              "Tertarik             0\n",
              "dtype: int64"
            ]
          },
          "metadata": {},
          "execution_count": 76
        }
      ]
    },
    {
      "cell_type": "markdown",
      "metadata": {
        "id": "5Sjz4uvyNgmT"
      },
      "source": [
        "<br>"
      ]
    },
    {
      "cell_type": "markdown",
      "metadata": {
        "id": "7neUcEq7NyVs"
      },
      "source": [
        "#### **Label Encoding**"
      ]
    },
    {
      "cell_type": "markdown",
      "metadata": {
        "id": "cWhQYx6FN3sT"
      },
      "source": [
        "Mengubah fitur data yang bukan numerik seperti **Jenis_Kelamin, Umur_Kendaraan, dan Kendaraan_Rusak** menjadi data numerik."
      ]
    },
    {
      "cell_type": "code",
      "metadata": {
        "colab": {
          "base_uri": "https://localhost:8080/",
          "height": 363
        },
        "id": "iAY6w6ibRs7u",
        "outputId": "b64199f7-779a-4a8d-d833-acb34e121b13"
      },
      "source": [
        "df.head(10)"
      ],
      "execution_count": 77,
      "outputs": [
        {
          "output_type": "execute_result",
          "data": {
            "text/html": [
              "<div>\n",
              "<style scoped>\n",
              "    .dataframe tbody tr th:only-of-type {\n",
              "        vertical-align: middle;\n",
              "    }\n",
              "\n",
              "    .dataframe tbody tr th {\n",
              "        vertical-align: top;\n",
              "    }\n",
              "\n",
              "    .dataframe thead th {\n",
              "        text-align: right;\n",
              "    }\n",
              "</style>\n",
              "<table border=\"1\" class=\"dataframe\">\n",
              "  <thead>\n",
              "    <tr style=\"text-align: right;\">\n",
              "      <th></th>\n",
              "      <th>Jenis_Kelamin</th>\n",
              "      <th>Umur</th>\n",
              "      <th>SIM</th>\n",
              "      <th>Kode_Daerah</th>\n",
              "      <th>Sudah_Asuransi</th>\n",
              "      <th>Umur_Kendaraan</th>\n",
              "      <th>Kendaraan_Rusak</th>\n",
              "      <th>Premi</th>\n",
              "      <th>Kanal_Penjualan</th>\n",
              "      <th>Lama_Berlangganan</th>\n",
              "      <th>Tertarik</th>\n",
              "    </tr>\n",
              "  </thead>\n",
              "  <tbody>\n",
              "    <tr>\n",
              "      <th>0</th>\n",
              "      <td>Wanita</td>\n",
              "      <td>30.0</td>\n",
              "      <td>1.0</td>\n",
              "      <td>33.0</td>\n",
              "      <td>1.0</td>\n",
              "      <td>&lt; 1 Tahun</td>\n",
              "      <td>Tidak</td>\n",
              "      <td>28029.0</td>\n",
              "      <td>152.0</td>\n",
              "      <td>97.0</td>\n",
              "      <td>0</td>\n",
              "    </tr>\n",
              "    <tr>\n",
              "      <th>1</th>\n",
              "      <td>Pria</td>\n",
              "      <td>48.0</td>\n",
              "      <td>1.0</td>\n",
              "      <td>39.0</td>\n",
              "      <td>0.0</td>\n",
              "      <td>&gt; 2 Tahun</td>\n",
              "      <td>Pernah</td>\n",
              "      <td>25800.0</td>\n",
              "      <td>29.0</td>\n",
              "      <td>158.0</td>\n",
              "      <td>0</td>\n",
              "    </tr>\n",
              "    <tr>\n",
              "      <th>3</th>\n",
              "      <td>Wanita</td>\n",
              "      <td>58.0</td>\n",
              "      <td>1.0</td>\n",
              "      <td>48.0</td>\n",
              "      <td>0.0</td>\n",
              "      <td>1-2 Tahun</td>\n",
              "      <td>Tidak</td>\n",
              "      <td>2630.0</td>\n",
              "      <td>124.0</td>\n",
              "      <td>63.0</td>\n",
              "      <td>0</td>\n",
              "    </tr>\n",
              "    <tr>\n",
              "      <th>5</th>\n",
              "      <td>Pria</td>\n",
              "      <td>21.0</td>\n",
              "      <td>1.0</td>\n",
              "      <td>35.0</td>\n",
              "      <td>1.0</td>\n",
              "      <td>&lt; 1 Tahun</td>\n",
              "      <td>Tidak</td>\n",
              "      <td>22735.0</td>\n",
              "      <td>152.0</td>\n",
              "      <td>171.0</td>\n",
              "      <td>0</td>\n",
              "    </tr>\n",
              "    <tr>\n",
              "      <th>8</th>\n",
              "      <td>Wanita</td>\n",
              "      <td>20.0</td>\n",
              "      <td>1.0</td>\n",
              "      <td>8.0</td>\n",
              "      <td>1.0</td>\n",
              "      <td>&lt; 1 Tahun</td>\n",
              "      <td>Tidak</td>\n",
              "      <td>30786.0</td>\n",
              "      <td>160.0</td>\n",
              "      <td>31.0</td>\n",
              "      <td>0</td>\n",
              "    </tr>\n",
              "    <tr>\n",
              "      <th>10</th>\n",
              "      <td>Pria</td>\n",
              "      <td>25.0</td>\n",
              "      <td>1.0</td>\n",
              "      <td>14.0</td>\n",
              "      <td>1.0</td>\n",
              "      <td>&lt; 1 Tahun</td>\n",
              "      <td>Tidak</td>\n",
              "      <td>34212.0</td>\n",
              "      <td>152.0</td>\n",
              "      <td>282.0</td>\n",
              "      <td>0</td>\n",
              "    </tr>\n",
              "    <tr>\n",
              "      <th>14</th>\n",
              "      <td>Pria</td>\n",
              "      <td>66.0</td>\n",
              "      <td>1.0</td>\n",
              "      <td>24.0</td>\n",
              "      <td>1.0</td>\n",
              "      <td>1-2 Tahun</td>\n",
              "      <td>Tidak</td>\n",
              "      <td>38616.0</td>\n",
              "      <td>145.0</td>\n",
              "      <td>281.0</td>\n",
              "      <td>0</td>\n",
              "    </tr>\n",
              "    <tr>\n",
              "      <th>15</th>\n",
              "      <td>Pria</td>\n",
              "      <td>31.0</td>\n",
              "      <td>1.0</td>\n",
              "      <td>8.0</td>\n",
              "      <td>0.0</td>\n",
              "      <td>&lt; 1 Tahun</td>\n",
              "      <td>Pernah</td>\n",
              "      <td>2630.0</td>\n",
              "      <td>152.0</td>\n",
              "      <td>132.0</td>\n",
              "      <td>0</td>\n",
              "    </tr>\n",
              "    <tr>\n",
              "      <th>16</th>\n",
              "      <td>Wanita</td>\n",
              "      <td>24.0</td>\n",
              "      <td>1.0</td>\n",
              "      <td>30.0</td>\n",
              "      <td>1.0</td>\n",
              "      <td>&lt; 1 Tahun</td>\n",
              "      <td>Tidak</td>\n",
              "      <td>27285.0</td>\n",
              "      <td>152.0</td>\n",
              "      <td>215.0</td>\n",
              "      <td>0</td>\n",
              "    </tr>\n",
              "    <tr>\n",
              "      <th>17</th>\n",
              "      <td>Wanita</td>\n",
              "      <td>22.0</td>\n",
              "      <td>1.0</td>\n",
              "      <td>15.0</td>\n",
              "      <td>0.0</td>\n",
              "      <td>&lt; 1 Tahun</td>\n",
              "      <td>Pernah</td>\n",
              "      <td>38289.0</td>\n",
              "      <td>152.0</td>\n",
              "      <td>225.0</td>\n",
              "      <td>0</td>\n",
              "    </tr>\n",
              "  </tbody>\n",
              "</table>\n",
              "</div>"
            ],
            "text/plain": [
              "   Jenis_Kelamin  Umur  SIM  ...  Kanal_Penjualan  Lama_Berlangganan Tertarik\n",
              "0         Wanita  30.0  1.0  ...            152.0               97.0        0\n",
              "1           Pria  48.0  1.0  ...             29.0              158.0        0\n",
              "3         Wanita  58.0  1.0  ...            124.0               63.0        0\n",
              "5           Pria  21.0  1.0  ...            152.0              171.0        0\n",
              "8         Wanita  20.0  1.0  ...            160.0               31.0        0\n",
              "10          Pria  25.0  1.0  ...            152.0              282.0        0\n",
              "14          Pria  66.0  1.0  ...            145.0              281.0        0\n",
              "15          Pria  31.0  1.0  ...            152.0              132.0        0\n",
              "16        Wanita  24.0  1.0  ...            152.0              215.0        0\n",
              "17        Wanita  22.0  1.0  ...            152.0              225.0        0\n",
              "\n",
              "[10 rows x 11 columns]"
            ]
          },
          "metadata": {},
          "execution_count": 77
        }
      ]
    },
    {
      "cell_type": "code",
      "metadata": {
        "colab": {
          "base_uri": "https://localhost:8080/",
          "height": 424
        },
        "id": "a4_N4lBIN_wB",
        "outputId": "52bb98eb-ebbd-440b-9148-dc46dd42c2b2"
      },
      "source": [
        "# Import library\n",
        "from sklearn.preprocessing import LabelEncoder\n",
        "\n",
        "encoder = LabelEncoder()\n",
        "df[\"Jenis_Kelamin\"] = encoder.fit_transform(df[\"Jenis_Kelamin\"])\n",
        "df"
      ],
      "execution_count": 78,
      "outputs": [
        {
          "output_type": "execute_result",
          "data": {
            "text/html": [
              "<div>\n",
              "<style scoped>\n",
              "    .dataframe tbody tr th:only-of-type {\n",
              "        vertical-align: middle;\n",
              "    }\n",
              "\n",
              "    .dataframe tbody tr th {\n",
              "        vertical-align: top;\n",
              "    }\n",
              "\n",
              "    .dataframe thead th {\n",
              "        text-align: right;\n",
              "    }\n",
              "</style>\n",
              "<table border=\"1\" class=\"dataframe\">\n",
              "  <thead>\n",
              "    <tr style=\"text-align: right;\">\n",
              "      <th></th>\n",
              "      <th>Jenis_Kelamin</th>\n",
              "      <th>Umur</th>\n",
              "      <th>SIM</th>\n",
              "      <th>Kode_Daerah</th>\n",
              "      <th>Sudah_Asuransi</th>\n",
              "      <th>Umur_Kendaraan</th>\n",
              "      <th>Kendaraan_Rusak</th>\n",
              "      <th>Premi</th>\n",
              "      <th>Kanal_Penjualan</th>\n",
              "      <th>Lama_Berlangganan</th>\n",
              "      <th>Tertarik</th>\n",
              "    </tr>\n",
              "  </thead>\n",
              "  <tbody>\n",
              "    <tr>\n",
              "      <th>0</th>\n",
              "      <td>1</td>\n",
              "      <td>30.0</td>\n",
              "      <td>1.0</td>\n",
              "      <td>33.0</td>\n",
              "      <td>1.0</td>\n",
              "      <td>&lt; 1 Tahun</td>\n",
              "      <td>Tidak</td>\n",
              "      <td>28029.0</td>\n",
              "      <td>152.0</td>\n",
              "      <td>97.0</td>\n",
              "      <td>0</td>\n",
              "    </tr>\n",
              "    <tr>\n",
              "      <th>1</th>\n",
              "      <td>0</td>\n",
              "      <td>48.0</td>\n",
              "      <td>1.0</td>\n",
              "      <td>39.0</td>\n",
              "      <td>0.0</td>\n",
              "      <td>&gt; 2 Tahun</td>\n",
              "      <td>Pernah</td>\n",
              "      <td>25800.0</td>\n",
              "      <td>29.0</td>\n",
              "      <td>158.0</td>\n",
              "      <td>0</td>\n",
              "    </tr>\n",
              "    <tr>\n",
              "      <th>3</th>\n",
              "      <td>1</td>\n",
              "      <td>58.0</td>\n",
              "      <td>1.0</td>\n",
              "      <td>48.0</td>\n",
              "      <td>0.0</td>\n",
              "      <td>1-2 Tahun</td>\n",
              "      <td>Tidak</td>\n",
              "      <td>2630.0</td>\n",
              "      <td>124.0</td>\n",
              "      <td>63.0</td>\n",
              "      <td>0</td>\n",
              "    </tr>\n",
              "    <tr>\n",
              "      <th>5</th>\n",
              "      <td>0</td>\n",
              "      <td>21.0</td>\n",
              "      <td>1.0</td>\n",
              "      <td>35.0</td>\n",
              "      <td>1.0</td>\n",
              "      <td>&lt; 1 Tahun</td>\n",
              "      <td>Tidak</td>\n",
              "      <td>22735.0</td>\n",
              "      <td>152.0</td>\n",
              "      <td>171.0</td>\n",
              "      <td>0</td>\n",
              "    </tr>\n",
              "    <tr>\n",
              "      <th>8</th>\n",
              "      <td>1</td>\n",
              "      <td>20.0</td>\n",
              "      <td>1.0</td>\n",
              "      <td>8.0</td>\n",
              "      <td>1.0</td>\n",
              "      <td>&lt; 1 Tahun</td>\n",
              "      <td>Tidak</td>\n",
              "      <td>30786.0</td>\n",
              "      <td>160.0</td>\n",
              "      <td>31.0</td>\n",
              "      <td>0</td>\n",
              "    </tr>\n",
              "    <tr>\n",
              "      <th>...</th>\n",
              "      <td>...</td>\n",
              "      <td>...</td>\n",
              "      <td>...</td>\n",
              "      <td>...</td>\n",
              "      <td>...</td>\n",
              "      <td>...</td>\n",
              "      <td>...</td>\n",
              "      <td>...</td>\n",
              "      <td>...</td>\n",
              "      <td>...</td>\n",
              "      <td>...</td>\n",
              "    </tr>\n",
              "    <tr>\n",
              "      <th>47634</th>\n",
              "      <td>0</td>\n",
              "      <td>61.0</td>\n",
              "      <td>1.0</td>\n",
              "      <td>46.0</td>\n",
              "      <td>0.0</td>\n",
              "      <td>&gt; 2 Tahun</td>\n",
              "      <td>Pernah</td>\n",
              "      <td>31039.0</td>\n",
              "      <td>124.0</td>\n",
              "      <td>67.0</td>\n",
              "      <td>0</td>\n",
              "    </tr>\n",
              "    <tr>\n",
              "      <th>47635</th>\n",
              "      <td>0</td>\n",
              "      <td>41.0</td>\n",
              "      <td>1.0</td>\n",
              "      <td>15.0</td>\n",
              "      <td>0.0</td>\n",
              "      <td>1-2 Tahun</td>\n",
              "      <td>Pernah</td>\n",
              "      <td>2630.0</td>\n",
              "      <td>157.0</td>\n",
              "      <td>232.0</td>\n",
              "      <td>0</td>\n",
              "    </tr>\n",
              "    <tr>\n",
              "      <th>47636</th>\n",
              "      <td>0</td>\n",
              "      <td>24.0</td>\n",
              "      <td>1.0</td>\n",
              "      <td>29.0</td>\n",
              "      <td>1.0</td>\n",
              "      <td>&lt; 1 Tahun</td>\n",
              "      <td>Tidak</td>\n",
              "      <td>33101.0</td>\n",
              "      <td>152.0</td>\n",
              "      <td>211.0</td>\n",
              "      <td>0</td>\n",
              "    </tr>\n",
              "    <tr>\n",
              "      <th>47637</th>\n",
              "      <td>0</td>\n",
              "      <td>59.0</td>\n",
              "      <td>1.0</td>\n",
              "      <td>30.0</td>\n",
              "      <td>0.0</td>\n",
              "      <td>1-2 Tahun</td>\n",
              "      <td>Pernah</td>\n",
              "      <td>37788.0</td>\n",
              "      <td>26.0</td>\n",
              "      <td>239.0</td>\n",
              "      <td>1</td>\n",
              "    </tr>\n",
              "    <tr>\n",
              "      <th>47638</th>\n",
              "      <td>0</td>\n",
              "      <td>52.0</td>\n",
              "      <td>1.0</td>\n",
              "      <td>31.0</td>\n",
              "      <td>0.0</td>\n",
              "      <td>1-2 Tahun</td>\n",
              "      <td>Tidak</td>\n",
              "      <td>2630.0</td>\n",
              "      <td>124.0</td>\n",
              "      <td>170.0</td>\n",
              "      <td>0</td>\n",
              "    </tr>\n",
              "  </tbody>\n",
              "</table>\n",
              "<p>218621 rows × 11 columns</p>\n",
              "</div>"
            ],
            "text/plain": [
              "       Jenis_Kelamin  Umur  SIM  ...  Kanal_Penjualan  Lama_Berlangganan Tertarik\n",
              "0                  1  30.0  1.0  ...            152.0               97.0        0\n",
              "1                  0  48.0  1.0  ...             29.0              158.0        0\n",
              "3                  1  58.0  1.0  ...            124.0               63.0        0\n",
              "5                  0  21.0  1.0  ...            152.0              171.0        0\n",
              "8                  1  20.0  1.0  ...            160.0               31.0        0\n",
              "...              ...   ...  ...  ...              ...                ...      ...\n",
              "47634              0  61.0  1.0  ...            124.0               67.0        0\n",
              "47635              0  41.0  1.0  ...            157.0              232.0        0\n",
              "47636              0  24.0  1.0  ...            152.0              211.0        0\n",
              "47637              0  59.0  1.0  ...             26.0              239.0        1\n",
              "47638              0  52.0  1.0  ...            124.0              170.0        0\n",
              "\n",
              "[218621 rows x 11 columns]"
            ]
          },
          "metadata": {},
          "execution_count": 78
        }
      ]
    },
    {
      "cell_type": "code",
      "metadata": {
        "colab": {
          "base_uri": "https://localhost:8080/"
        },
        "id": "lavn-FobSAnv",
        "outputId": "403c0875-5d79-4f09-9b6f-42584a85d352"
      },
      "source": [
        "# Pria = 0, Wanita = 1\n",
        "encoder.classes_"
      ],
      "execution_count": 79,
      "outputs": [
        {
          "output_type": "execute_result",
          "data": {
            "text/plain": [
              "array(['Pria', 'Wanita'], dtype=object)"
            ]
          },
          "metadata": {},
          "execution_count": 79
        }
      ]
    },
    {
      "cell_type": "code",
      "metadata": {
        "colab": {
          "base_uri": "https://localhost:8080/",
          "height": 424
        },
        "id": "hfIc2qHASWoD",
        "outputId": "84520f44-27b7-48e9-a49e-8df9dc981aeb"
      },
      "source": [
        "encoder = LabelEncoder()\n",
        "df[\"Umur_Kendaraan\"] = encoder.fit_transform(df[\"Umur_Kendaraan\"])\n",
        "df"
      ],
      "execution_count": 80,
      "outputs": [
        {
          "output_type": "execute_result",
          "data": {
            "text/html": [
              "<div>\n",
              "<style scoped>\n",
              "    .dataframe tbody tr th:only-of-type {\n",
              "        vertical-align: middle;\n",
              "    }\n",
              "\n",
              "    .dataframe tbody tr th {\n",
              "        vertical-align: top;\n",
              "    }\n",
              "\n",
              "    .dataframe thead th {\n",
              "        text-align: right;\n",
              "    }\n",
              "</style>\n",
              "<table border=\"1\" class=\"dataframe\">\n",
              "  <thead>\n",
              "    <tr style=\"text-align: right;\">\n",
              "      <th></th>\n",
              "      <th>Jenis_Kelamin</th>\n",
              "      <th>Umur</th>\n",
              "      <th>SIM</th>\n",
              "      <th>Kode_Daerah</th>\n",
              "      <th>Sudah_Asuransi</th>\n",
              "      <th>Umur_Kendaraan</th>\n",
              "      <th>Kendaraan_Rusak</th>\n",
              "      <th>Premi</th>\n",
              "      <th>Kanal_Penjualan</th>\n",
              "      <th>Lama_Berlangganan</th>\n",
              "      <th>Tertarik</th>\n",
              "    </tr>\n",
              "  </thead>\n",
              "  <tbody>\n",
              "    <tr>\n",
              "      <th>0</th>\n",
              "      <td>1</td>\n",
              "      <td>30.0</td>\n",
              "      <td>1.0</td>\n",
              "      <td>33.0</td>\n",
              "      <td>1.0</td>\n",
              "      <td>1</td>\n",
              "      <td>Tidak</td>\n",
              "      <td>28029.0</td>\n",
              "      <td>152.0</td>\n",
              "      <td>97.0</td>\n",
              "      <td>0</td>\n",
              "    </tr>\n",
              "    <tr>\n",
              "      <th>1</th>\n",
              "      <td>0</td>\n",
              "      <td>48.0</td>\n",
              "      <td>1.0</td>\n",
              "      <td>39.0</td>\n",
              "      <td>0.0</td>\n",
              "      <td>2</td>\n",
              "      <td>Pernah</td>\n",
              "      <td>25800.0</td>\n",
              "      <td>29.0</td>\n",
              "      <td>158.0</td>\n",
              "      <td>0</td>\n",
              "    </tr>\n",
              "    <tr>\n",
              "      <th>3</th>\n",
              "      <td>1</td>\n",
              "      <td>58.0</td>\n",
              "      <td>1.0</td>\n",
              "      <td>48.0</td>\n",
              "      <td>0.0</td>\n",
              "      <td>0</td>\n",
              "      <td>Tidak</td>\n",
              "      <td>2630.0</td>\n",
              "      <td>124.0</td>\n",
              "      <td>63.0</td>\n",
              "      <td>0</td>\n",
              "    </tr>\n",
              "    <tr>\n",
              "      <th>5</th>\n",
              "      <td>0</td>\n",
              "      <td>21.0</td>\n",
              "      <td>1.0</td>\n",
              "      <td>35.0</td>\n",
              "      <td>1.0</td>\n",
              "      <td>1</td>\n",
              "      <td>Tidak</td>\n",
              "      <td>22735.0</td>\n",
              "      <td>152.0</td>\n",
              "      <td>171.0</td>\n",
              "      <td>0</td>\n",
              "    </tr>\n",
              "    <tr>\n",
              "      <th>8</th>\n",
              "      <td>1</td>\n",
              "      <td>20.0</td>\n",
              "      <td>1.0</td>\n",
              "      <td>8.0</td>\n",
              "      <td>1.0</td>\n",
              "      <td>1</td>\n",
              "      <td>Tidak</td>\n",
              "      <td>30786.0</td>\n",
              "      <td>160.0</td>\n",
              "      <td>31.0</td>\n",
              "      <td>0</td>\n",
              "    </tr>\n",
              "    <tr>\n",
              "      <th>...</th>\n",
              "      <td>...</td>\n",
              "      <td>...</td>\n",
              "      <td>...</td>\n",
              "      <td>...</td>\n",
              "      <td>...</td>\n",
              "      <td>...</td>\n",
              "      <td>...</td>\n",
              "      <td>...</td>\n",
              "      <td>...</td>\n",
              "      <td>...</td>\n",
              "      <td>...</td>\n",
              "    </tr>\n",
              "    <tr>\n",
              "      <th>47634</th>\n",
              "      <td>0</td>\n",
              "      <td>61.0</td>\n",
              "      <td>1.0</td>\n",
              "      <td>46.0</td>\n",
              "      <td>0.0</td>\n",
              "      <td>2</td>\n",
              "      <td>Pernah</td>\n",
              "      <td>31039.0</td>\n",
              "      <td>124.0</td>\n",
              "      <td>67.0</td>\n",
              "      <td>0</td>\n",
              "    </tr>\n",
              "    <tr>\n",
              "      <th>47635</th>\n",
              "      <td>0</td>\n",
              "      <td>41.0</td>\n",
              "      <td>1.0</td>\n",
              "      <td>15.0</td>\n",
              "      <td>0.0</td>\n",
              "      <td>0</td>\n",
              "      <td>Pernah</td>\n",
              "      <td>2630.0</td>\n",
              "      <td>157.0</td>\n",
              "      <td>232.0</td>\n",
              "      <td>0</td>\n",
              "    </tr>\n",
              "    <tr>\n",
              "      <th>47636</th>\n",
              "      <td>0</td>\n",
              "      <td>24.0</td>\n",
              "      <td>1.0</td>\n",
              "      <td>29.0</td>\n",
              "      <td>1.0</td>\n",
              "      <td>1</td>\n",
              "      <td>Tidak</td>\n",
              "      <td>33101.0</td>\n",
              "      <td>152.0</td>\n",
              "      <td>211.0</td>\n",
              "      <td>0</td>\n",
              "    </tr>\n",
              "    <tr>\n",
              "      <th>47637</th>\n",
              "      <td>0</td>\n",
              "      <td>59.0</td>\n",
              "      <td>1.0</td>\n",
              "      <td>30.0</td>\n",
              "      <td>0.0</td>\n",
              "      <td>0</td>\n",
              "      <td>Pernah</td>\n",
              "      <td>37788.0</td>\n",
              "      <td>26.0</td>\n",
              "      <td>239.0</td>\n",
              "      <td>1</td>\n",
              "    </tr>\n",
              "    <tr>\n",
              "      <th>47638</th>\n",
              "      <td>0</td>\n",
              "      <td>52.0</td>\n",
              "      <td>1.0</td>\n",
              "      <td>31.0</td>\n",
              "      <td>0.0</td>\n",
              "      <td>0</td>\n",
              "      <td>Tidak</td>\n",
              "      <td>2630.0</td>\n",
              "      <td>124.0</td>\n",
              "      <td>170.0</td>\n",
              "      <td>0</td>\n",
              "    </tr>\n",
              "  </tbody>\n",
              "</table>\n",
              "<p>218621 rows × 11 columns</p>\n",
              "</div>"
            ],
            "text/plain": [
              "       Jenis_Kelamin  Umur  SIM  ...  Kanal_Penjualan  Lama_Berlangganan  Tertarik\n",
              "0                  1  30.0  1.0  ...            152.0               97.0         0\n",
              "1                  0  48.0  1.0  ...             29.0              158.0         0\n",
              "3                  1  58.0  1.0  ...            124.0               63.0         0\n",
              "5                  0  21.0  1.0  ...            152.0              171.0         0\n",
              "8                  1  20.0  1.0  ...            160.0               31.0         0\n",
              "...              ...   ...  ...  ...              ...                ...       ...\n",
              "47634              0  61.0  1.0  ...            124.0               67.0         0\n",
              "47635              0  41.0  1.0  ...            157.0              232.0         0\n",
              "47636              0  24.0  1.0  ...            152.0              211.0         0\n",
              "47637              0  59.0  1.0  ...             26.0              239.0         1\n",
              "47638              0  52.0  1.0  ...            124.0              170.0         0\n",
              "\n",
              "[218621 rows x 11 columns]"
            ]
          },
          "metadata": {},
          "execution_count": 80
        }
      ]
    },
    {
      "cell_type": "code",
      "metadata": {
        "colab": {
          "base_uri": "https://localhost:8080/"
        },
        "id": "zNonXJUjSZUb",
        "outputId": "e3205d81-1254-40ce-df5b-9b1f846344cf"
      },
      "source": [
        "# 1-2 Tahun = 0, < 1 = 1, >2 = 2\n",
        "encoder.classes_"
      ],
      "execution_count": 81,
      "outputs": [
        {
          "output_type": "execute_result",
          "data": {
            "text/plain": [
              "array(['1-2 Tahun', '< 1 Tahun', '> 2 Tahun'], dtype=object)"
            ]
          },
          "metadata": {},
          "execution_count": 81
        }
      ]
    },
    {
      "cell_type": "code",
      "metadata": {
        "colab": {
          "base_uri": "https://localhost:8080/",
          "height": 424
        },
        "id": "cSze68_7SfJm",
        "outputId": "0f0504ae-6d64-4bd7-d70c-d169d7ccf5e7"
      },
      "source": [
        "encoder = LabelEncoder()\n",
        "df[\"Kendaraan_Rusak\"] = encoder.fit_transform(df[\"Kendaraan_Rusak\"])\n",
        "df"
      ],
      "execution_count": 82,
      "outputs": [
        {
          "output_type": "execute_result",
          "data": {
            "text/html": [
              "<div>\n",
              "<style scoped>\n",
              "    .dataframe tbody tr th:only-of-type {\n",
              "        vertical-align: middle;\n",
              "    }\n",
              "\n",
              "    .dataframe tbody tr th {\n",
              "        vertical-align: top;\n",
              "    }\n",
              "\n",
              "    .dataframe thead th {\n",
              "        text-align: right;\n",
              "    }\n",
              "</style>\n",
              "<table border=\"1\" class=\"dataframe\">\n",
              "  <thead>\n",
              "    <tr style=\"text-align: right;\">\n",
              "      <th></th>\n",
              "      <th>Jenis_Kelamin</th>\n",
              "      <th>Umur</th>\n",
              "      <th>SIM</th>\n",
              "      <th>Kode_Daerah</th>\n",
              "      <th>Sudah_Asuransi</th>\n",
              "      <th>Umur_Kendaraan</th>\n",
              "      <th>Kendaraan_Rusak</th>\n",
              "      <th>Premi</th>\n",
              "      <th>Kanal_Penjualan</th>\n",
              "      <th>Lama_Berlangganan</th>\n",
              "      <th>Tertarik</th>\n",
              "    </tr>\n",
              "  </thead>\n",
              "  <tbody>\n",
              "    <tr>\n",
              "      <th>0</th>\n",
              "      <td>1</td>\n",
              "      <td>30.0</td>\n",
              "      <td>1.0</td>\n",
              "      <td>33.0</td>\n",
              "      <td>1.0</td>\n",
              "      <td>1</td>\n",
              "      <td>1</td>\n",
              "      <td>28029.0</td>\n",
              "      <td>152.0</td>\n",
              "      <td>97.0</td>\n",
              "      <td>0</td>\n",
              "    </tr>\n",
              "    <tr>\n",
              "      <th>1</th>\n",
              "      <td>0</td>\n",
              "      <td>48.0</td>\n",
              "      <td>1.0</td>\n",
              "      <td>39.0</td>\n",
              "      <td>0.0</td>\n",
              "      <td>2</td>\n",
              "      <td>0</td>\n",
              "      <td>25800.0</td>\n",
              "      <td>29.0</td>\n",
              "      <td>158.0</td>\n",
              "      <td>0</td>\n",
              "    </tr>\n",
              "    <tr>\n",
              "      <th>3</th>\n",
              "      <td>1</td>\n",
              "      <td>58.0</td>\n",
              "      <td>1.0</td>\n",
              "      <td>48.0</td>\n",
              "      <td>0.0</td>\n",
              "      <td>0</td>\n",
              "      <td>1</td>\n",
              "      <td>2630.0</td>\n",
              "      <td>124.0</td>\n",
              "      <td>63.0</td>\n",
              "      <td>0</td>\n",
              "    </tr>\n",
              "    <tr>\n",
              "      <th>5</th>\n",
              "      <td>0</td>\n",
              "      <td>21.0</td>\n",
              "      <td>1.0</td>\n",
              "      <td>35.0</td>\n",
              "      <td>1.0</td>\n",
              "      <td>1</td>\n",
              "      <td>1</td>\n",
              "      <td>22735.0</td>\n",
              "      <td>152.0</td>\n",
              "      <td>171.0</td>\n",
              "      <td>0</td>\n",
              "    </tr>\n",
              "    <tr>\n",
              "      <th>8</th>\n",
              "      <td>1</td>\n",
              "      <td>20.0</td>\n",
              "      <td>1.0</td>\n",
              "      <td>8.0</td>\n",
              "      <td>1.0</td>\n",
              "      <td>1</td>\n",
              "      <td>1</td>\n",
              "      <td>30786.0</td>\n",
              "      <td>160.0</td>\n",
              "      <td>31.0</td>\n",
              "      <td>0</td>\n",
              "    </tr>\n",
              "    <tr>\n",
              "      <th>...</th>\n",
              "      <td>...</td>\n",
              "      <td>...</td>\n",
              "      <td>...</td>\n",
              "      <td>...</td>\n",
              "      <td>...</td>\n",
              "      <td>...</td>\n",
              "      <td>...</td>\n",
              "      <td>...</td>\n",
              "      <td>...</td>\n",
              "      <td>...</td>\n",
              "      <td>...</td>\n",
              "    </tr>\n",
              "    <tr>\n",
              "      <th>47634</th>\n",
              "      <td>0</td>\n",
              "      <td>61.0</td>\n",
              "      <td>1.0</td>\n",
              "      <td>46.0</td>\n",
              "      <td>0.0</td>\n",
              "      <td>2</td>\n",
              "      <td>0</td>\n",
              "      <td>31039.0</td>\n",
              "      <td>124.0</td>\n",
              "      <td>67.0</td>\n",
              "      <td>0</td>\n",
              "    </tr>\n",
              "    <tr>\n",
              "      <th>47635</th>\n",
              "      <td>0</td>\n",
              "      <td>41.0</td>\n",
              "      <td>1.0</td>\n",
              "      <td>15.0</td>\n",
              "      <td>0.0</td>\n",
              "      <td>0</td>\n",
              "      <td>0</td>\n",
              "      <td>2630.0</td>\n",
              "      <td>157.0</td>\n",
              "      <td>232.0</td>\n",
              "      <td>0</td>\n",
              "    </tr>\n",
              "    <tr>\n",
              "      <th>47636</th>\n",
              "      <td>0</td>\n",
              "      <td>24.0</td>\n",
              "      <td>1.0</td>\n",
              "      <td>29.0</td>\n",
              "      <td>1.0</td>\n",
              "      <td>1</td>\n",
              "      <td>1</td>\n",
              "      <td>33101.0</td>\n",
              "      <td>152.0</td>\n",
              "      <td>211.0</td>\n",
              "      <td>0</td>\n",
              "    </tr>\n",
              "    <tr>\n",
              "      <th>47637</th>\n",
              "      <td>0</td>\n",
              "      <td>59.0</td>\n",
              "      <td>1.0</td>\n",
              "      <td>30.0</td>\n",
              "      <td>0.0</td>\n",
              "      <td>0</td>\n",
              "      <td>0</td>\n",
              "      <td>37788.0</td>\n",
              "      <td>26.0</td>\n",
              "      <td>239.0</td>\n",
              "      <td>1</td>\n",
              "    </tr>\n",
              "    <tr>\n",
              "      <th>47638</th>\n",
              "      <td>0</td>\n",
              "      <td>52.0</td>\n",
              "      <td>1.0</td>\n",
              "      <td>31.0</td>\n",
              "      <td>0.0</td>\n",
              "      <td>0</td>\n",
              "      <td>1</td>\n",
              "      <td>2630.0</td>\n",
              "      <td>124.0</td>\n",
              "      <td>170.0</td>\n",
              "      <td>0</td>\n",
              "    </tr>\n",
              "  </tbody>\n",
              "</table>\n",
              "<p>218621 rows × 11 columns</p>\n",
              "</div>"
            ],
            "text/plain": [
              "       Jenis_Kelamin  Umur  SIM  ...  Kanal_Penjualan  Lama_Berlangganan  Tertarik\n",
              "0                  1  30.0  1.0  ...            152.0               97.0         0\n",
              "1                  0  48.0  1.0  ...             29.0              158.0         0\n",
              "3                  1  58.0  1.0  ...            124.0               63.0         0\n",
              "5                  0  21.0  1.0  ...            152.0              171.0         0\n",
              "8                  1  20.0  1.0  ...            160.0               31.0         0\n",
              "...              ...   ...  ...  ...              ...                ...       ...\n",
              "47634              0  61.0  1.0  ...            124.0               67.0         0\n",
              "47635              0  41.0  1.0  ...            157.0              232.0         0\n",
              "47636              0  24.0  1.0  ...            152.0              211.0         0\n",
              "47637              0  59.0  1.0  ...             26.0              239.0         1\n",
              "47638              0  52.0  1.0  ...            124.0              170.0         0\n",
              "\n",
              "[218621 rows x 11 columns]"
            ]
          },
          "metadata": {},
          "execution_count": 82
        }
      ]
    },
    {
      "cell_type": "code",
      "metadata": {
        "colab": {
          "base_uri": "https://localhost:8080/"
        },
        "id": "X3AgdfWqSf1i",
        "outputId": "b748821c-3cb5-4f93-ede9-4696198a8d98"
      },
      "source": [
        "# Pernah = 0, Tidak = 1\n",
        "encoder.classes_"
      ],
      "execution_count": 83,
      "outputs": [
        {
          "output_type": "execute_result",
          "data": {
            "text/plain": [
              "array(['Pernah', 'Tidak'], dtype=object)"
            ]
          },
          "metadata": {},
          "execution_count": 83
        }
      ]
    },
    {
      "cell_type": "markdown",
      "metadata": {
        "id": "jI3-RomnNhga"
      },
      "source": [
        "<br>"
      ]
    },
    {
      "cell_type": "markdown",
      "metadata": {
        "id": "QjWl0BiSXF3-"
      },
      "source": [
        "#### **Check Data Outlier**\n",
        "\n",
        "Salah satu masalah saat pra-pemrosesan data adalah data outlier dimana bisa mengurangi kualitas dari akhir dari algoritma. Oleh karena itu perlu untuk mengecek apakah ada outlier atau tidak, dan jika ada sebaiknya dihapus."
      ]
    },
    {
      "cell_type": "code",
      "metadata": {
        "colab": {
          "base_uri": "https://localhost:8080/",
          "height": 376
        },
        "id": "fU0GJiZGXX9H",
        "outputId": "6680da69-d975-4953-9f03-5060b4579d02"
      },
      "source": [
        "# Membuat boxplot agar mengetahui apakah ada data outlier\n",
        "fig, (Jenis_Kelamin, Umur, Kode_Daerah, Sudah_Asuransi, \n",
        "      Umur_Kendaraan, Kendaraan_Rusak, Premi, Kanal_Penjualan, \n",
        "      Lama_Berlangganan) = plt.subplots(1,9)\n",
        "fig.tight_layout()\n",
        "fig.set_size_inches(20,5)\n",
        "\n",
        "# Jenis_Kelamin\n",
        "Jenis_Kelamin.boxplot(df[\"Jenis_Kelamin\"])\n",
        "Jenis_Kelamin.set_title(\"Jenis_Kelamin\")\n",
        "\n",
        "# Umur\n",
        "Umur.boxplot(df[\"Umur\"])\n",
        "Umur.set_title(\"Umur\")\n",
        "\n",
        "# Kode_Daerah\n",
        "Kode_Daerah.boxplot(df[\"Kode_Daerah\"])\n",
        "Kode_Daerah.set_title(\"Kode_Daerah\")\n",
        "\n",
        "# Sudah_Asuransi\n",
        "Sudah_Asuransi.boxplot(df[\"Sudah_Asuransi\"])\n",
        "Sudah_Asuransi.set_title(\"Sudah_Asuransi\")\n",
        "\n",
        "# Umur_Kendaraan\n",
        "Umur_Kendaraan.boxplot(df[\"Umur_Kendaraan\"])\n",
        "Umur_Kendaraan.set_title(\"Umur_Kendaraan\")\n",
        "\n",
        "# Kendaraan_Rusak\n",
        "Kendaraan_Rusak.boxplot(df[\"Kendaraan_Rusak\"])\n",
        "Kendaraan_Rusak.set_title(\"Kendaraan_Rusak\")\n",
        "\n",
        "# Premi\n",
        "Premi.boxplot(df[\"Premi\"])\n",
        "Premi.set_title(\"Premi\")\n",
        "\n",
        "# Kanal_Penjualan\n",
        "Kanal_Penjualan.boxplot(df[\"Kanal_Penjualan\"])\n",
        "Kanal_Penjualan.set_title(\"Kanal_Penjualan\")\n",
        "\n",
        "# Lama_Berlangganan\n",
        "Lama_Berlangganan.boxplot(df[\"Lama_Berlangganan\"])\n",
        "Lama_Berlangganan.set_title(\"Lama Berlangganan\")"
      ],
      "execution_count": 84,
      "outputs": [
        {
          "output_type": "execute_result",
          "data": {
            "text/plain": [
              "Text(0.5, 1.0, 'Lama Berlangganan')"
            ]
          },
          "metadata": {},
          "execution_count": 84
        },
        {
          "output_type": "display_data",
          "data": {
            "image/png": "[encoded data removed]",
            "text/plain": [
              "<Figure size 1440x360 with 9 Axes>"
            ]
          },
          "metadata": {
            "needs_background": "light"
          }
        }
      ]
    },
    {
      "cell_type": "markdown",
      "metadata": {
        "id": "2No5ynmENiXf"
      },
      "source": [
        "<br>"
      ]
    },
    {
      "cell_type": "markdown",
      "metadata": {
        "id": "qc2qH7KoZaiw"
      },
      "source": [
        "#### **Delete Data Outlier**\n",
        "\n",
        "Untuk menghapus data outlier digunakan metode IQR yaitu menggambarkan 50% nilai tengah ketika diurutkan dari terendah ke tertinggi. Untuk menemukan rentang interkuartil (IQR), pertama-tama temukan median (nilai tengah) dari bagian bawah dan atas data. Nilai-nilai tersebut adalah kuartil 1 (Q1) dan kuartil 3 (Q3). IQR adalah perbedaan antara Q3 dan Q1."
      ]
    },
    {
      "cell_type": "code",
      "metadata": {
        "id": "N9Le6hXyZfBV"
      },
      "source": [
        "# Menghapus data menggunakan IQR Method\n",
        "\n",
        "# Mengetahui Mean, Pesentil dari dataframe\n",
        "data_describe = df.describe()\n",
        "\n",
        "Premi75 = data_describe[\"Premi\"].loc[\"75%\"]\n",
        "Premi25 = data_describe[\"Premi\"].loc[\"25%\"]\n",
        "\n",
        "IQR = float(Premi75 - Premi25)\n",
        "Q1 = float(Premi25 - (IQR * 1.5))\n",
        "Q2 = float(Premi75 + (IQR * 1.5))\n",
        "\n",
        "df = df[(df[\"Premi\"] > Q1) & (df[\"Premi\"] < Q2)]"
      ],
      "execution_count": 85,
      "outputs": []
    },
    {
      "cell_type": "code",
      "metadata": {
        "colab": {
          "base_uri": "https://localhost:8080/",
          "height": 376
        },
        "id": "TnNuBP5QZiih",
        "outputId": "542c67b4-674b-4b9d-ceb4-ccf89fbd8e0e"
      },
      "source": [
        "# Membuat boxplot agar mengetahui apakah ada data outlier\n",
        "fig, (Jenis_Kelamin, Umur, Kode_Daerah, Sudah_Asuransi, \n",
        "      Umur_Kendaraan, Kendaraan_Rusak, Premi, Kanal_Penjualan, \n",
        "      Lama_Berlangganan) = plt.subplots(1,9)\n",
        "fig.tight_layout()\n",
        "fig.set_size_inches(20,5)\n",
        "\n",
        "# Jenis_Kelamin\n",
        "Jenis_Kelamin.boxplot(df[\"Jenis_Kelamin\"])\n",
        "Jenis_Kelamin.set_title(\"Jenis_Kelamin\")\n",
        "\n",
        "# Umur\n",
        "Umur.boxplot(df[\"Umur\"])\n",
        "Umur.set_title(\"Umur\")\n",
        "\n",
        "# Kode_Daerah\n",
        "Kode_Daerah.boxplot(df[\"Kode_Daerah\"])\n",
        "Kode_Daerah.set_title(\"Kode_Daerah\")\n",
        "\n",
        "# Sudah_Asuransi\n",
        "Sudah_Asuransi.boxplot(df[\"Sudah_Asuransi\"])\n",
        "Sudah_Asuransi.set_title(\"Sudah_Asuransi\")\n",
        "\n",
        "# Umur_Kendaraan\n",
        "Umur_Kendaraan.boxplot(df[\"Umur_Kendaraan\"])\n",
        "Umur_Kendaraan.set_title(\"Umur_Kendaraan\")\n",
        "\n",
        "# Kendaraan_Rusak\n",
        "Kendaraan_Rusak.boxplot(df[\"Kendaraan_Rusak\"])\n",
        "Kendaraan_Rusak.set_title(\"Kendaraan_Rusak\")\n",
        "\n",
        "# Premi\n",
        "Premi.boxplot(df[\"Premi\"])\n",
        "Premi.set_title(\"Premi\")\n",
        "\n",
        "# Kanal_Penjualan\n",
        "Kanal_Penjualan.boxplot(df[\"Kanal_Penjualan\"])\n",
        "Kanal_Penjualan.set_title(\"Kanal_Penjualan\")\n",
        "\n",
        "# Lama_Berlangganan\n",
        "Lama_Berlangganan.boxplot(df[\"Lama_Berlangganan\"])\n",
        "Lama_Berlangganan.set_title(\"Lama Berlangganan\")"
      ],
      "execution_count": 86,
      "outputs": [
        {
          "output_type": "execute_result",
          "data": {
            "text/plain": [
              "Text(0.5, 1.0, 'Lama Berlangganan')"
            ]
          },
          "metadata": {},
          "execution_count": 86
        },
        {
          "output_type": "display_data",
          "data": {
            "image/png": "[encoded data removed]",
            "text/plain": [
              "<Figure size 1440x360 with 9 Axes>"
            ]
          },
          "metadata": {
            "needs_background": "light"
          }
        }
      ]
    },
    {
      "cell_type": "markdown",
      "metadata": {
        "id": "kTVUIePRNjPn"
      },
      "source": [
        "<br>"
      ]
    },
    {
      "cell_type": "markdown",
      "metadata": {
        "id": "xVAxb41mZs5X"
      },
      "source": [
        "#### **Normalisasi Data**\n",
        "\n",
        "Tujuan Normalisasi Database adalah untuk menghilangkan dan mengurangi redudansi data dan tujuan yang kedua adalah memastikan dependensi data. Menggunakan library SKlearn yang bernama StandarScaler untuk mempermudah normalisasi.\n",
        "\n"
      ]
    },
    {
      "cell_type": "code",
      "metadata": {
        "colab": {
          "base_uri": "https://localhost:8080/",
          "height": 424
        },
        "id": "5lP3iKBeZyr3",
        "outputId": "a9df2084-002d-4955-e450-2944746eda62"
      },
      "source": [
        "from sklearn.preprocessing import MinMaxScaler\n",
        "column = [\n",
        "          'Jenis_Kelamin', 'Umur', 'SIM', 'Kode_Daerah', 'Sudah_Asuransi',\n",
        "       'Umur_Kendaraan', 'Kendaraan_Rusak', 'Premi', 'Kanal_Penjualan',\n",
        "       'Lama_Berlangganan', 'Tertarik'\n",
        "]\n",
        "scaler = MinMaxScaler()\n",
        "df_scaled = scaler.fit_transform(df.loc[:, 'Jenis_Kelamin':'Tertarik'].values)\n",
        "pd.DataFrame(data=df_scaled, columns=column)"
      ],
      "execution_count": 87,
      "outputs": [
        {
          "output_type": "execute_result",
          "data": {
            "text/html": [
              "<div>\n",
              "<style scoped>\n",
              "    .dataframe tbody tr th:only-of-type {\n",
              "        vertical-align: middle;\n",
              "    }\n",
              "\n",
              "    .dataframe tbody tr th {\n",
              "        vertical-align: top;\n",
              "    }\n",
              "\n",
              "    .dataframe thead th {\n",
              "        text-align: right;\n",
              "    }\n",
              "</style>\n",
              "<table border=\"1\" class=\"dataframe\">\n",
              "  <thead>\n",
              "    <tr style=\"text-align: right;\">\n",
              "      <th></th>\n",
              "      <th>Jenis_Kelamin</th>\n",
              "      <th>Umur</th>\n",
              "      <th>SIM</th>\n",
              "      <th>Kode_Daerah</th>\n",
              "      <th>Sudah_Asuransi</th>\n",
              "      <th>Umur_Kendaraan</th>\n",
              "      <th>Kendaraan_Rusak</th>\n",
              "      <th>Premi</th>\n",
              "      <th>Kanal_Penjualan</th>\n",
              "      <th>Lama_Berlangganan</th>\n",
              "      <th>Tertarik</th>\n",
              "    </tr>\n",
              "  </thead>\n",
              "  <tbody>\n",
              "    <tr>\n",
              "      <th>0</th>\n",
              "      <td>1.0</td>\n",
              "      <td>0.153846</td>\n",
              "      <td>1.0</td>\n",
              "      <td>0.634615</td>\n",
              "      <td>1.0</td>\n",
              "      <td>0.5</td>\n",
              "      <td>1.0</td>\n",
              "      <td>0.429044</td>\n",
              "      <td>0.932099</td>\n",
              "      <td>0.301038</td>\n",
              "      <td>0.0</td>\n",
              "    </tr>\n",
              "    <tr>\n",
              "      <th>1</th>\n",
              "      <td>0.0</td>\n",
              "      <td>0.430769</td>\n",
              "      <td>1.0</td>\n",
              "      <td>0.750000</td>\n",
              "      <td>0.0</td>\n",
              "      <td>1.0</td>\n",
              "      <td>0.0</td>\n",
              "      <td>0.391392</td>\n",
              "      <td>0.172840</td>\n",
              "      <td>0.512111</td>\n",
              "      <td>0.0</td>\n",
              "    </tr>\n",
              "    <tr>\n",
              "      <th>2</th>\n",
              "      <td>1.0</td>\n",
              "      <td>0.584615</td>\n",
              "      <td>1.0</td>\n",
              "      <td>0.923077</td>\n",
              "      <td>0.0</td>\n",
              "      <td>0.0</td>\n",
              "      <td>1.0</td>\n",
              "      <td>0.000000</td>\n",
              "      <td>0.759259</td>\n",
              "      <td>0.183391</td>\n",
              "      <td>0.0</td>\n",
              "    </tr>\n",
              "    <tr>\n",
              "      <th>3</th>\n",
              "      <td>0.0</td>\n",
              "      <td>0.015385</td>\n",
              "      <td>1.0</td>\n",
              "      <td>0.673077</td>\n",
              "      <td>1.0</td>\n",
              "      <td>0.5</td>\n",
              "      <td>1.0</td>\n",
              "      <td>0.339617</td>\n",
              "      <td>0.932099</td>\n",
              "      <td>0.557093</td>\n",
              "      <td>0.0</td>\n",
              "    </tr>\n",
              "    <tr>\n",
              "      <th>4</th>\n",
              "      <td>1.0</td>\n",
              "      <td>0.000000</td>\n",
              "      <td>1.0</td>\n",
              "      <td>0.153846</td>\n",
              "      <td>1.0</td>\n",
              "      <td>0.5</td>\n",
              "      <td>1.0</td>\n",
              "      <td>0.475616</td>\n",
              "      <td>0.981481</td>\n",
              "      <td>0.072664</td>\n",
              "      <td>0.0</td>\n",
              "    </tr>\n",
              "    <tr>\n",
              "      <th>...</th>\n",
              "      <td>...</td>\n",
              "      <td>...</td>\n",
              "      <td>...</td>\n",
              "      <td>...</td>\n",
              "      <td>...</td>\n",
              "      <td>...</td>\n",
              "      <td>...</td>\n",
              "      <td>...</td>\n",
              "      <td>...</td>\n",
              "      <td>...</td>\n",
              "      <td>...</td>\n",
              "    </tr>\n",
              "    <tr>\n",
              "      <th>212680</th>\n",
              "      <td>0.0</td>\n",
              "      <td>0.630769</td>\n",
              "      <td>1.0</td>\n",
              "      <td>0.884615</td>\n",
              "      <td>0.0</td>\n",
              "      <td>1.0</td>\n",
              "      <td>0.0</td>\n",
              "      <td>0.479890</td>\n",
              "      <td>0.759259</td>\n",
              "      <td>0.197232</td>\n",
              "      <td>0.0</td>\n",
              "    </tr>\n",
              "    <tr>\n",
              "      <th>212681</th>\n",
              "      <td>0.0</td>\n",
              "      <td>0.323077</td>\n",
              "      <td>1.0</td>\n",
              "      <td>0.288462</td>\n",
              "      <td>0.0</td>\n",
              "      <td>0.0</td>\n",
              "      <td>0.0</td>\n",
              "      <td>0.000000</td>\n",
              "      <td>0.962963</td>\n",
              "      <td>0.768166</td>\n",
              "      <td>0.0</td>\n",
              "    </tr>\n",
              "    <tr>\n",
              "      <th>212682</th>\n",
              "      <td>0.0</td>\n",
              "      <td>0.061538</td>\n",
              "      <td>1.0</td>\n",
              "      <td>0.557692</td>\n",
              "      <td>1.0</td>\n",
              "      <td>0.5</td>\n",
              "      <td>1.0</td>\n",
              "      <td>0.514722</td>\n",
              "      <td>0.932099</td>\n",
              "      <td>0.695502</td>\n",
              "      <td>0.0</td>\n",
              "    </tr>\n",
              "    <tr>\n",
              "      <th>212683</th>\n",
              "      <td>0.0</td>\n",
              "      <td>0.600000</td>\n",
              "      <td>1.0</td>\n",
              "      <td>0.576923</td>\n",
              "      <td>0.0</td>\n",
              "      <td>0.0</td>\n",
              "      <td>0.0</td>\n",
              "      <td>0.593895</td>\n",
              "      <td>0.154321</td>\n",
              "      <td>0.792388</td>\n",
              "      <td>1.0</td>\n",
              "    </tr>\n",
              "    <tr>\n",
              "      <th>212684</th>\n",
              "      <td>0.0</td>\n",
              "      <td>0.492308</td>\n",
              "      <td>1.0</td>\n",
              "      <td>0.596154</td>\n",
              "      <td>0.0</td>\n",
              "      <td>0.0</td>\n",
              "      <td>1.0</td>\n",
              "      <td>0.000000</td>\n",
              "      <td>0.759259</td>\n",
              "      <td>0.553633</td>\n",
              "      <td>0.0</td>\n",
              "    </tr>\n",
              "  </tbody>\n",
              "</table>\n",
              "<p>212685 rows × 11 columns</p>\n",
              "</div>"
            ],
            "text/plain": [
              "        Jenis_Kelamin      Umur  ...  Lama_Berlangganan  Tertarik\n",
              "0                 1.0  0.153846  ...           0.301038       0.0\n",
              "1                 0.0  0.430769  ...           0.512111       0.0\n",
              "2                 1.0  0.584615  ...           0.183391       0.0\n",
              "3                 0.0  0.015385  ...           0.557093       0.0\n",
              "4                 1.0  0.000000  ...           0.072664       0.0\n",
              "...               ...       ...  ...                ...       ...\n",
              "212680            0.0  0.630769  ...           0.197232       0.0\n",
              "212681            0.0  0.323077  ...           0.768166       0.0\n",
              "212682            0.0  0.061538  ...           0.695502       0.0\n",
              "212683            0.0  0.600000  ...           0.792388       1.0\n",
              "212684            0.0  0.492308  ...           0.553633       0.0\n",
              "\n",
              "[212685 rows x 11 columns]"
            ]
          },
          "metadata": {},
          "execution_count": 87
        }
      ]
    },
    {
      "cell_type": "markdown",
      "metadata": {
        "id": "fOCd9wtLNkDr"
      },
      "source": [
        "<br>"
      ]
    },
    {
      "cell_type": "markdown",
      "metadata": {
        "id": "wTHtUUDIRTHq"
      },
      "source": [
        "### **Check Data Value Before Export**\n",
        "\n",
        "Melihat jumlah persebaran untuk data-data yang kategorikal"
      ]
    },
    {
      "cell_type": "code",
      "metadata": {
        "colab": {
          "base_uri": "https://localhost:8080/"
        },
        "id": "LaReui0qRnUb",
        "outputId": "fe45b099-1967-48fb-d375-d84cf1d8c954"
      },
      "source": [
        "df.shape"
      ],
      "execution_count": 105,
      "outputs": [
        {
          "output_type": "execute_result",
          "data": {
            "text/plain": [
              "(212685, 11)"
            ]
          },
          "metadata": {},
          "execution_count": 105
        }
      ]
    },
    {
      "cell_type": "code",
      "metadata": {
        "colab": {
          "base_uri": "https://localhost:8080/"
        },
        "id": "ofSvti0JRTHq",
        "outputId": "7356a6ae-c95b-4afd-c213-8013f872dead"
      },
      "source": [
        "# Menghitung jumlah \"Pria\" dan \"Wanita\" pada Dataset\n",
        "df[\"Jenis_Kelamin\"].value_counts()"
      ],
      "execution_count": 98,
      "outputs": [
        {
          "output_type": "execute_result",
          "data": {
            "text/plain": [
              "0    115013\n",
              "1     97672\n",
              "Name: Jenis_Kelamin, dtype: int64"
            ]
          },
          "metadata": {},
          "execution_count": 98
        }
      ]
    },
    {
      "cell_type": "code",
      "metadata": {
        "colab": {
          "base_uri": "https://localhost:8080/"
        },
        "id": "65Iz-pkvRTHr",
        "outputId": "1ba93613-708a-4fb6-9e5f-e7d847d3666f"
      },
      "source": [
        "# Menghitung berapa orang yang sudah memiliki SIM dan belum\n",
        "df[\"SIM\"].value_counts()"
      ],
      "execution_count": 99,
      "outputs": [
        {
          "output_type": "execute_result",
          "data": {
            "text/plain": [
              "1.0    212260\n",
              "0.0       425\n",
              "Name: SIM, dtype: int64"
            ]
          },
          "metadata": {},
          "execution_count": 99
        }
      ]
    },
    {
      "cell_type": "code",
      "metadata": {
        "colab": {
          "base_uri": "https://localhost:8080/"
        },
        "id": "Gt2J6AL2RTHr",
        "outputId": "3aaec75a-ca35-498a-fe86-027cfaabbca5"
      },
      "source": [
        "# Menghitung berapa jumlah kendaraan yang sudah asuransi dan belum\n",
        "df[\"Sudah_Asuransi\"].value_counts()"
      ],
      "execution_count": 100,
      "outputs": [
        {
          "output_type": "execute_result",
          "data": {
            "text/plain": [
              "0.0    114680\n",
              "1.0     98005\n",
              "Name: Sudah_Asuransi, dtype: int64"
            ]
          },
          "metadata": {},
          "execution_count": 100
        }
      ]
    },
    {
      "cell_type": "code",
      "metadata": {
        "colab": {
          "base_uri": "https://localhost:8080/"
        },
        "id": "tYij_KvzRTHr",
        "outputId": "e3758a65-82d9-4afe-9760-972cec3ae3e4"
      },
      "source": [
        "# Menghitung rentang umur kendaraan\n",
        "df[\"Umur_Kendaraan\"].value_counts()"
      ],
      "execution_count": 101,
      "outputs": [
        {
          "output_type": "execute_result",
          "data": {
            "text/plain": [
              "0    111055\n",
              "1     93026\n",
              "2      8604\n",
              "Name: Umur_Kendaraan, dtype: int64"
            ]
          },
          "metadata": {},
          "execution_count": 101
        }
      ]
    },
    {
      "cell_type": "code",
      "metadata": {
        "colab": {
          "base_uri": "https://localhost:8080/"
        },
        "id": "PI2MGqvZRTHr",
        "outputId": "e94f44ab-ca77-454f-d183-0170e00d102c"
      },
      "source": [
        "# Menghitung berapa jumlah kendaraan yang pernah mengalami kerusakan dan tidak\n",
        "df[\"Kendaraan_Rusak\"].value_counts()"
      ],
      "execution_count": 102,
      "outputs": [
        {
          "output_type": "execute_result",
          "data": {
            "text/plain": [
              "0    106941\n",
              "1    105744\n",
              "Name: Kendaraan_Rusak, dtype: int64"
            ]
          },
          "metadata": {},
          "execution_count": 102
        }
      ]
    },
    {
      "cell_type": "code",
      "metadata": {
        "colab": {
          "base_uri": "https://localhost:8080/"
        },
        "id": "Ar51Tw3_RTHr",
        "outputId": "243f68d0-6f9d-4d10-e358-a6c2fa611fa5"
      },
      "source": [
        "# Menghitung jumlah ketertarikan\n",
        "df[\"Tertarik\"].value_counts()"
      ],
      "execution_count": 103,
      "outputs": [
        {
          "output_type": "execute_result",
          "data": {
            "text/plain": [
              "0    186884\n",
              "1     25801\n",
              "Name: Tertarik, dtype: int64"
            ]
          },
          "metadata": {},
          "execution_count": 103
        }
      ]
    },
    {
      "cell_type": "markdown",
      "metadata": {
        "id": "PliBINHcRTHs"
      },
      "source": [
        "<br>"
      ]
    },
    {
      "cell_type": "markdown",
      "metadata": {
        "id": "vKBzGxW-fb_J"
      },
      "source": [
        "### **Export Data Hasil Eksplorasi dan Persiapan**"
      ]
    },
    {
      "cell_type": "code",
      "metadata": {
        "id": "Z8EZ7MAmfk9b"
      },
      "source": [
        "# Menyimpan hasil eksplorasi data\n",
        "df.to_csv(\"kendaraan_clean.csv\", index=False, header=True)"
      ],
      "execution_count": 88,
      "outputs": []
    }
  ]
}