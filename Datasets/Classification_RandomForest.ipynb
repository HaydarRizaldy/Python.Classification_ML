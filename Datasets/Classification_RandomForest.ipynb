{
  "nbformat": 4,
  "nbformat_minor": 0,
  "metadata": {
    "colab": {
      "name": "Classification.ipynb",
      "provenance": [],
      "collapsed_sections": []
    },
    "kernelspec": {
      "name": "python3",
      "display_name": "Python 3"
    },
    "language_info": {
      "name": "python"
    }
  },
  "cells": [
    {
      "cell_type": "markdown",
      "metadata": {
        "id": "r2T4K_UNvl3-"
      },
      "source": [
        "# **Tugas Besar Pembelajaran Mesin (Classification)**\n",
        "\n",
        "Kelas : IF-43-12\n",
        "\n",
        "Anggota : \n",
        "- Raihan Romzi Rakhman (1301194376)\n",
        "- Haydar Rizaldy Putera Prayudi (1301194388)"
      ]
    },
    {
      "cell_type": "markdown",
      "metadata": {
        "id": "5NC7UvmbvtgZ"
      },
      "source": [
        "### **Task:**\n",
        "\n",
        "1.   **Formulasi Masalah** → jelaskan apa permasalahan yang akan diselesaikan.\n",
        "\n",
        "2.   **Eksplorasi dan Persiapan Data** (termasuk data splitting) →\tlakukan semua teknik eksplorasi dan persiapan data yang menurut Anda perlu dilakukan. Jelaskan\n",
        "mengapa perlu melakukan teknik tersebut, dan lakukan analisis terhadap hasilnya.\n",
        "\n",
        "3.   **Pemodelan** → bangunlah model menggunakan data hasil praproses 2.b, dan  lakukan proses training untuk mendapatkan hasil terbaik. Jelaskan secara detail semua proses yang Anda lakukan dilengkapi dengan justifikasi dan analisis hasilnya.\n",
        "\n",
        "4.   **Evaluasi** → pilih metode evaluasi yang sesuai beserta justifikasinya.  Lakukan evaluasi terhadap model yang telah dihasilkan. Berikan analisis  terhadap hasil evaluasi.\n",
        "\n",
        "5.   **Eksperimen** → lakukan berbagai eksperimen yang melibatkan tahapan Eksplorasi dan Persiapan Data, Pemodelan, dan Evaluasi untuk mendapatkan hasil terbaik. Laporkan semua Eksperimen yang Anda lakukan beserta analisis hasil dan\n",
        "perbandingannya.\n",
        "\n",
        "6.   **Kesimpulan** → berikan kesimpulan dari semua proses yang dijalankan beserta hasil akhir dari berbagai eksperimen yang telah dilakukan."
      ]
    },
    {
      "cell_type": "markdown",
      "metadata": {
        "id": "cjJREKWl9-eZ"
      },
      "source": [
        "## **Import Library**"
      ]
    },
    {
      "cell_type": "code",
      "metadata": {
        "id": "zxxX3_DhvYZL"
      },
      "source": [
        "import pandas as pd\n",
        "import matplotlib.pyplot as plt\n",
        "import seaborn as sns\n",
        "import numpy as np\n",
        "import warnings\n",
        "warnings.filterwarnings('ignore')"
      ],
      "execution_count": null,
      "outputs": []
    },
    {
      "cell_type": "markdown",
      "metadata": {
        "id": "n7LTMjYM-IiS"
      },
      "source": [
        "## **Import Dataset**"
      ]
    },
    {
      "cell_type": "code",
      "metadata": {
        "colab": {
          "base_uri": "https://localhost:8080/",
          "height": 363
        },
        "id": "V2qhzLib-MmC",
        "outputId": "7fc074a1-df9c-4a06-d449-2b2dcd4485f4"
      },
      "source": [
        "df = pd.read_csv(\"https://raw.githubusercontent.com/raihanromzi/Python.Classification_ML/main/Datasets/kendaraan_clean.csv\")\n",
        "df.sample(10)"
      ],
      "execution_count": null,
      "outputs": [
        {
          "output_type": "execute_result",
          "data": {
            "text/html": [
              "<div>\n",
              "<style scoped>\n",
              "    .dataframe tbody tr th:only-of-type {\n",
              "        vertical-align: middle;\n",
              "    }\n",
              "\n",
              "    .dataframe tbody tr th {\n",
              "        vertical-align: top;\n",
              "    }\n",
              "\n",
              "    .dataframe thead th {\n",
              "        text-align: right;\n",
              "    }\n",
              "</style>\n",
              "<table border=\"1\" class=\"dataframe\">\n",
              "  <thead>\n",
              "    <tr style=\"text-align: right;\">\n",
              "      <th></th>\n",
              "      <th>Jenis_Kelamin</th>\n",
              "      <th>Umur</th>\n",
              "      <th>SIM</th>\n",
              "      <th>Kode_Daerah</th>\n",
              "      <th>Sudah_Asuransi</th>\n",
              "      <th>Umur_Kendaraan</th>\n",
              "      <th>Kendaraan_Rusak</th>\n",
              "      <th>Premi</th>\n",
              "      <th>Kanal_Penjualan</th>\n",
              "      <th>Lama_Berlangganan</th>\n",
              "      <th>Tertarik</th>\n",
              "    </tr>\n",
              "  </thead>\n",
              "  <tbody>\n",
              "    <tr>\n",
              "      <th>179640</th>\n",
              "      <td>0.0</td>\n",
              "      <td>0.292308</td>\n",
              "      <td>1.0</td>\n",
              "      <td>0.903846</td>\n",
              "      <td>1.0</td>\n",
              "      <td>0.0</td>\n",
              "      <td>1.0</td>\n",
              "      <td>0.379246</td>\n",
              "      <td>0.932099</td>\n",
              "      <td>0.190311</td>\n",
              "      <td>0</td>\n",
              "    </tr>\n",
              "    <tr>\n",
              "      <th>168537</th>\n",
              "      <td>1.0</td>\n",
              "      <td>0.446154</td>\n",
              "      <td>1.0</td>\n",
              "      <td>0.153846</td>\n",
              "      <td>1.0</td>\n",
              "      <td>0.0</td>\n",
              "      <td>1.0</td>\n",
              "      <td>0.415125</td>\n",
              "      <td>0.759259</td>\n",
              "      <td>0.356401</td>\n",
              "      <td>0</td>\n",
              "    </tr>\n",
              "    <tr>\n",
              "      <th>128857</th>\n",
              "      <td>0.0</td>\n",
              "      <td>0.400000</td>\n",
              "      <td>1.0</td>\n",
              "      <td>0.961538</td>\n",
              "      <td>0.0</td>\n",
              "      <td>0.0</td>\n",
              "      <td>0.0</td>\n",
              "      <td>0.592155</td>\n",
              "      <td>0.759259</td>\n",
              "      <td>0.027682</td>\n",
              "      <td>0</td>\n",
              "    </tr>\n",
              "    <tr>\n",
              "      <th>66209</th>\n",
              "      <td>1.0</td>\n",
              "      <td>0.061538</td>\n",
              "      <td>1.0</td>\n",
              "      <td>0.711538</td>\n",
              "      <td>1.0</td>\n",
              "      <td>0.5</td>\n",
              "      <td>1.0</td>\n",
              "      <td>0.477440</td>\n",
              "      <td>0.932099</td>\n",
              "      <td>0.598616</td>\n",
              "      <td>0</td>\n",
              "    </tr>\n",
              "    <tr>\n",
              "      <th>160646</th>\n",
              "      <td>1.0</td>\n",
              "      <td>0.076923</td>\n",
              "      <td>1.0</td>\n",
              "      <td>0.211538</td>\n",
              "      <td>1.0</td>\n",
              "      <td>0.5</td>\n",
              "      <td>1.0</td>\n",
              "      <td>0.359820</td>\n",
              "      <td>0.932099</td>\n",
              "      <td>0.217993</td>\n",
              "      <td>0</td>\n",
              "    </tr>\n",
              "    <tr>\n",
              "      <th>176462</th>\n",
              "      <td>1.0</td>\n",
              "      <td>0.030769</td>\n",
              "      <td>1.0</td>\n",
              "      <td>0.153846</td>\n",
              "      <td>0.0</td>\n",
              "      <td>0.5</td>\n",
              "      <td>0.0</td>\n",
              "      <td>0.503370</td>\n",
              "      <td>0.932099</td>\n",
              "      <td>0.487889</td>\n",
              "      <td>0</td>\n",
              "    </tr>\n",
              "    <tr>\n",
              "      <th>169382</th>\n",
              "      <td>1.0</td>\n",
              "      <td>0.338462</td>\n",
              "      <td>1.0</td>\n",
              "      <td>0.903846</td>\n",
              "      <td>0.0</td>\n",
              "      <td>0.0</td>\n",
              "      <td>1.0</td>\n",
              "      <td>0.353013</td>\n",
              "      <td>0.932099</td>\n",
              "      <td>0.010381</td>\n",
              "      <td>0</td>\n",
              "    </tr>\n",
              "    <tr>\n",
              "      <th>112945</th>\n",
              "      <td>1.0</td>\n",
              "      <td>0.046154</td>\n",
              "      <td>1.0</td>\n",
              "      <td>0.096154</td>\n",
              "      <td>0.0</td>\n",
              "      <td>0.5</td>\n",
              "      <td>1.0</td>\n",
              "      <td>0.460920</td>\n",
              "      <td>0.932099</td>\n",
              "      <td>0.435986</td>\n",
              "      <td>0</td>\n",
              "    </tr>\n",
              "    <tr>\n",
              "      <th>204126</th>\n",
              "      <td>1.0</td>\n",
              "      <td>0.169231</td>\n",
              "      <td>1.0</td>\n",
              "      <td>0.346154</td>\n",
              "      <td>1.0</td>\n",
              "      <td>0.5</td>\n",
              "      <td>1.0</td>\n",
              "      <td>0.319043</td>\n",
              "      <td>0.932099</td>\n",
              "      <td>0.207612</td>\n",
              "      <td>0</td>\n",
              "    </tr>\n",
              "    <tr>\n",
              "      <th>107296</th>\n",
              "      <td>0.0</td>\n",
              "      <td>0.092308</td>\n",
              "      <td>1.0</td>\n",
              "      <td>0.153846</td>\n",
              "      <td>1.0</td>\n",
              "      <td>0.5</td>\n",
              "      <td>1.0</td>\n",
              "      <td>0.424534</td>\n",
              "      <td>0.932099</td>\n",
              "      <td>0.809689</td>\n",
              "      <td>0</td>\n",
              "    </tr>\n",
              "  </tbody>\n",
              "</table>\n",
              "</div>"
            ],
            "text/plain": [
              "        Jenis_Kelamin      Umur  ...  Lama_Berlangganan  Tertarik\n",
              "179640            0.0  0.292308  ...           0.190311         0\n",
              "168537            1.0  0.446154  ...           0.356401         0\n",
              "128857            0.0  0.400000  ...           0.027682         0\n",
              "66209             1.0  0.061538  ...           0.598616         0\n",
              "160646            1.0  0.076923  ...           0.217993         0\n",
              "176462            1.0  0.030769  ...           0.487889         0\n",
              "169382            1.0  0.338462  ...           0.010381         0\n",
              "112945            1.0  0.046154  ...           0.435986         0\n",
              "204126            1.0  0.169231  ...           0.207612         0\n",
              "107296            0.0  0.092308  ...           0.809689         0\n",
              "\n",
              "[10 rows x 11 columns]"
            ]
          },
          "metadata": {},
          "execution_count": 2
        }
      ]
    },
    {
      "cell_type": "markdown",
      "metadata": {
        "id": "TX8ZyUMv9kZS"
      },
      "source": [
        "## **Feature & Target**"
      ]
    },
    {
      "cell_type": "code",
      "metadata": {
        "colab": {
          "base_uri": "https://localhost:8080/",
          "height": 206
        },
        "id": "sBiK2oQ3ydru",
        "outputId": "b247b185-bd35-4f59-d763-c997061ca4ec"
      },
      "source": [
        "# Memisahkan antara data yang dijadikan Feature dan Target\n",
        "data = ['Jenis_Kelamin', 'Umur', 'SIM', 'Kode_Daerah', 'Sudah_Asuransi',\n",
        "       'Umur_Kendaraan', 'Kendaraan_Rusak', 'Premi', 'Kanal_Penjualan',\n",
        "       'Lama_Berlangganan']\n",
        "target = ['Tertarik']\n",
        "\n",
        "X = df[data]\n",
        "X.head(5)"
      ],
      "execution_count": null,
      "outputs": [
        {
          "output_type": "execute_result",
          "data": {
            "text/html": [
              "<div>\n",
              "<style scoped>\n",
              "    .dataframe tbody tr th:only-of-type {\n",
              "        vertical-align: middle;\n",
              "    }\n",
              "\n",
              "    .dataframe tbody tr th {\n",
              "        vertical-align: top;\n",
              "    }\n",
              "\n",
              "    .dataframe thead th {\n",
              "        text-align: right;\n",
              "    }\n",
              "</style>\n",
              "<table border=\"1\" class=\"dataframe\">\n",
              "  <thead>\n",
              "    <tr style=\"text-align: right;\">\n",
              "      <th></th>\n",
              "      <th>Jenis_Kelamin</th>\n",
              "      <th>Umur</th>\n",
              "      <th>SIM</th>\n",
              "      <th>Kode_Daerah</th>\n",
              "      <th>Sudah_Asuransi</th>\n",
              "      <th>Umur_Kendaraan</th>\n",
              "      <th>Kendaraan_Rusak</th>\n",
              "      <th>Premi</th>\n",
              "      <th>Kanal_Penjualan</th>\n",
              "      <th>Lama_Berlangganan</th>\n",
              "    </tr>\n",
              "  </thead>\n",
              "  <tbody>\n",
              "    <tr>\n",
              "      <th>0</th>\n",
              "      <td>1.0</td>\n",
              "      <td>0.153846</td>\n",
              "      <td>1.0</td>\n",
              "      <td>0.634615</td>\n",
              "      <td>1.0</td>\n",
              "      <td>0.5</td>\n",
              "      <td>1.0</td>\n",
              "      <td>0.429044</td>\n",
              "      <td>0.932099</td>\n",
              "      <td>0.301038</td>\n",
              "    </tr>\n",
              "    <tr>\n",
              "      <th>1</th>\n",
              "      <td>0.0</td>\n",
              "      <td>0.430769</td>\n",
              "      <td>1.0</td>\n",
              "      <td>0.750000</td>\n",
              "      <td>0.0</td>\n",
              "      <td>1.0</td>\n",
              "      <td>0.0</td>\n",
              "      <td>0.391392</td>\n",
              "      <td>0.172840</td>\n",
              "      <td>0.512111</td>\n",
              "    </tr>\n",
              "    <tr>\n",
              "      <th>2</th>\n",
              "      <td>1.0</td>\n",
              "      <td>0.584615</td>\n",
              "      <td>1.0</td>\n",
              "      <td>0.923077</td>\n",
              "      <td>0.0</td>\n",
              "      <td>0.0</td>\n",
              "      <td>1.0</td>\n",
              "      <td>0.000000</td>\n",
              "      <td>0.759259</td>\n",
              "      <td>0.183391</td>\n",
              "    </tr>\n",
              "    <tr>\n",
              "      <th>3</th>\n",
              "      <td>0.0</td>\n",
              "      <td>0.015385</td>\n",
              "      <td>1.0</td>\n",
              "      <td>0.673077</td>\n",
              "      <td>1.0</td>\n",
              "      <td>0.5</td>\n",
              "      <td>1.0</td>\n",
              "      <td>0.339617</td>\n",
              "      <td>0.932099</td>\n",
              "      <td>0.557093</td>\n",
              "    </tr>\n",
              "    <tr>\n",
              "      <th>4</th>\n",
              "      <td>1.0</td>\n",
              "      <td>0.000000</td>\n",
              "      <td>1.0</td>\n",
              "      <td>0.153846</td>\n",
              "      <td>1.0</td>\n",
              "      <td>0.5</td>\n",
              "      <td>1.0</td>\n",
              "      <td>0.475616</td>\n",
              "      <td>0.981481</td>\n",
              "      <td>0.072664</td>\n",
              "    </tr>\n",
              "  </tbody>\n",
              "</table>\n",
              "</div>"
            ],
            "text/plain": [
              "   Jenis_Kelamin      Umur  SIM  ...     Premi  Kanal_Penjualan  Lama_Berlangganan\n",
              "0            1.0  0.153846  1.0  ...  0.429044         0.932099           0.301038\n",
              "1            0.0  0.430769  1.0  ...  0.391392         0.172840           0.512111\n",
              "2            1.0  0.584615  1.0  ...  0.000000         0.759259           0.183391\n",
              "3            0.0  0.015385  1.0  ...  0.339617         0.932099           0.557093\n",
              "4            1.0  0.000000  1.0  ...  0.475616         0.981481           0.072664\n",
              "\n",
              "[5 rows x 10 columns]"
            ]
          },
          "metadata": {},
          "execution_count": 3
        }
      ]
    },
    {
      "cell_type": "code",
      "metadata": {
        "colab": {
          "base_uri": "https://localhost:8080/",
          "height": 206
        },
        "id": "ri68eMzZ2_Sg",
        "outputId": "6aabe437-fb01-4f2d-ea81-45845817c1ec"
      },
      "source": [
        "Y = df[target]\n",
        "Y.head(5)"
      ],
      "execution_count": null,
      "outputs": [
        {
          "output_type": "execute_result",
          "data": {
            "text/html": [
              "<div>\n",
              "<style scoped>\n",
              "    .dataframe tbody tr th:only-of-type {\n",
              "        vertical-align: middle;\n",
              "    }\n",
              "\n",
              "    .dataframe tbody tr th {\n",
              "        vertical-align: top;\n",
              "    }\n",
              "\n",
              "    .dataframe thead th {\n",
              "        text-align: right;\n",
              "    }\n",
              "</style>\n",
              "<table border=\"1\" class=\"dataframe\">\n",
              "  <thead>\n",
              "    <tr style=\"text-align: right;\">\n",
              "      <th></th>\n",
              "      <th>Tertarik</th>\n",
              "    </tr>\n",
              "  </thead>\n",
              "  <tbody>\n",
              "    <tr>\n",
              "      <th>0</th>\n",
              "      <td>0</td>\n",
              "    </tr>\n",
              "    <tr>\n",
              "      <th>1</th>\n",
              "      <td>0</td>\n",
              "    </tr>\n",
              "    <tr>\n",
              "      <th>2</th>\n",
              "      <td>0</td>\n",
              "    </tr>\n",
              "    <tr>\n",
              "      <th>3</th>\n",
              "      <td>0</td>\n",
              "    </tr>\n",
              "    <tr>\n",
              "      <th>4</th>\n",
              "      <td>0</td>\n",
              "    </tr>\n",
              "  </tbody>\n",
              "</table>\n",
              "</div>"
            ],
            "text/plain": [
              "   Tertarik\n",
              "0         0\n",
              "1         0\n",
              "2         0\n",
              "3         0\n",
              "4         0"
            ]
          },
          "metadata": {},
          "execution_count": 4
        }
      ]
    },
    {
      "cell_type": "markdown",
      "metadata": {
        "id": "Mtic5mdcxS6v"
      },
      "source": [
        "## **Splitting Dataset**"
      ]
    },
    {
      "cell_type": "markdown",
      "metadata": {
        "id": "cgfrKMU3yPfs"
      },
      "source": [
        "Reference : \n",
        "- https://machinelearningmastery.com/train-test-split-for-evaluating-machine-learning-algorithms/\n",
        "- https://towardsdatascience.com/intro-to-feature-selection-methods-for-data-science-4cae2178a00a"
      ]
    },
    {
      "cell_type": "code",
      "metadata": {
        "id": "4av5zPEqxbp7"
      },
      "source": [
        "# Memisahkan Dataset menjadi Training dan Test, data yang digunakan untuk test adalah 20% dari keseluruhan data\n",
        "from sklearn.model_selection import train_test_split\n",
        "X_train, X_test, Y_train, Y_test = train_test_split(X, Y, test_size=0.2, random_state=1)"
      ],
      "execution_count": null,
      "outputs": []
    },
    {
      "cell_type": "code",
      "metadata": {
        "colab": {
          "base_uri": "https://localhost:8080/",
          "height": 206
        },
        "id": "9Bg36SxXxR-K",
        "outputId": "6762a9da-6e94-4e7c-9c2b-c331c2d8471d"
      },
      "source": [
        "X_train.head(5)"
      ],
      "execution_count": null,
      "outputs": [
        {
          "output_type": "execute_result",
          "data": {
            "text/html": [
              "<div>\n",
              "<style scoped>\n",
              "    .dataframe tbody tr th:only-of-type {\n",
              "        vertical-align: middle;\n",
              "    }\n",
              "\n",
              "    .dataframe tbody tr th {\n",
              "        vertical-align: top;\n",
              "    }\n",
              "\n",
              "    .dataframe thead th {\n",
              "        text-align: right;\n",
              "    }\n",
              "</style>\n",
              "<table border=\"1\" class=\"dataframe\">\n",
              "  <thead>\n",
              "    <tr style=\"text-align: right;\">\n",
              "      <th></th>\n",
              "      <th>Jenis_Kelamin</th>\n",
              "      <th>Umur</th>\n",
              "      <th>SIM</th>\n",
              "      <th>Kode_Daerah</th>\n",
              "      <th>Sudah_Asuransi</th>\n",
              "      <th>Umur_Kendaraan</th>\n",
              "      <th>Kendaraan_Rusak</th>\n",
              "      <th>Premi</th>\n",
              "      <th>Kanal_Penjualan</th>\n",
              "      <th>Lama_Berlangganan</th>\n",
              "    </tr>\n",
              "  </thead>\n",
              "  <tbody>\n",
              "    <tr>\n",
              "      <th>53927</th>\n",
              "      <td>0.0</td>\n",
              "      <td>0.123077</td>\n",
              "      <td>1.0</td>\n",
              "      <td>0.692308</td>\n",
              "      <td>1.0</td>\n",
              "      <td>0.5</td>\n",
              "      <td>1.0</td>\n",
              "      <td>0.000000</td>\n",
              "      <td>0.932099</td>\n",
              "      <td>0.865052</td>\n",
              "    </tr>\n",
              "    <tr>\n",
              "      <th>46766</th>\n",
              "      <td>0.0</td>\n",
              "      <td>0.030769</td>\n",
              "      <td>1.0</td>\n",
              "      <td>0.230769</td>\n",
              "      <td>1.0</td>\n",
              "      <td>0.5</td>\n",
              "      <td>1.0</td>\n",
              "      <td>0.373756</td>\n",
              "      <td>0.932099</td>\n",
              "      <td>0.460208</td>\n",
              "    </tr>\n",
              "    <tr>\n",
              "      <th>72577</th>\n",
              "      <td>1.0</td>\n",
              "      <td>0.000000</td>\n",
              "      <td>1.0</td>\n",
              "      <td>0.961538</td>\n",
              "      <td>1.0</td>\n",
              "      <td>0.5</td>\n",
              "      <td>1.0</td>\n",
              "      <td>0.652714</td>\n",
              "      <td>0.981481</td>\n",
              "      <td>0.826990</td>\n",
              "    </tr>\n",
              "    <tr>\n",
              "      <th>47490</th>\n",
              "      <td>1.0</td>\n",
              "      <td>0.046154</td>\n",
              "      <td>1.0</td>\n",
              "      <td>0.884615</td>\n",
              "      <td>1.0</td>\n",
              "      <td>0.5</td>\n",
              "      <td>1.0</td>\n",
              "      <td>0.425041</td>\n",
              "      <td>0.932099</td>\n",
              "      <td>0.252595</td>\n",
              "    </tr>\n",
              "    <tr>\n",
              "      <th>99737</th>\n",
              "      <td>1.0</td>\n",
              "      <td>0.092308</td>\n",
              "      <td>1.0</td>\n",
              "      <td>0.788462</td>\n",
              "      <td>1.0</td>\n",
              "      <td>0.5</td>\n",
              "      <td>1.0</td>\n",
              "      <td>0.512272</td>\n",
              "      <td>0.932099</td>\n",
              "      <td>0.975779</td>\n",
              "    </tr>\n",
              "  </tbody>\n",
              "</table>\n",
              "</div>"
            ],
            "text/plain": [
              "       Jenis_Kelamin      Umur  ...  Kanal_Penjualan  Lama_Berlangganan\n",
              "53927            0.0  0.123077  ...         0.932099           0.865052\n",
              "46766            0.0  0.030769  ...         0.932099           0.460208\n",
              "72577            1.0  0.000000  ...         0.981481           0.826990\n",
              "47490            1.0  0.046154  ...         0.932099           0.252595\n",
              "99737            1.0  0.092308  ...         0.932099           0.975779\n",
              "\n",
              "[5 rows x 10 columns]"
            ]
          },
          "metadata": {},
          "execution_count": 6
        }
      ]
    },
    {
      "cell_type": "code",
      "metadata": {
        "colab": {
          "base_uri": "https://localhost:8080/",
          "height": 206
        },
        "id": "S15HnyMAxX0K",
        "outputId": "c78b12fb-4715-4054-db9c-6e314c5b0043"
      },
      "source": [
        "Y_train.head(5)"
      ],
      "execution_count": null,
      "outputs": [
        {
          "output_type": "execute_result",
          "data": {
            "text/html": [
              "<div>\n",
              "<style scoped>\n",
              "    .dataframe tbody tr th:only-of-type {\n",
              "        vertical-align: middle;\n",
              "    }\n",
              "\n",
              "    .dataframe tbody tr th {\n",
              "        vertical-align: top;\n",
              "    }\n",
              "\n",
              "    .dataframe thead th {\n",
              "        text-align: right;\n",
              "    }\n",
              "</style>\n",
              "<table border=\"1\" class=\"dataframe\">\n",
              "  <thead>\n",
              "    <tr style=\"text-align: right;\">\n",
              "      <th></th>\n",
              "      <th>Tertarik</th>\n",
              "    </tr>\n",
              "  </thead>\n",
              "  <tbody>\n",
              "    <tr>\n",
              "      <th>53927</th>\n",
              "      <td>0</td>\n",
              "    </tr>\n",
              "    <tr>\n",
              "      <th>46766</th>\n",
              "      <td>0</td>\n",
              "    </tr>\n",
              "    <tr>\n",
              "      <th>72577</th>\n",
              "      <td>0</td>\n",
              "    </tr>\n",
              "    <tr>\n",
              "      <th>47490</th>\n",
              "      <td>0</td>\n",
              "    </tr>\n",
              "    <tr>\n",
              "      <th>99737</th>\n",
              "      <td>0</td>\n",
              "    </tr>\n",
              "  </tbody>\n",
              "</table>\n",
              "</div>"
            ],
            "text/plain": [
              "       Tertarik\n",
              "53927         0\n",
              "46766         0\n",
              "72577         0\n",
              "47490         0\n",
              "99737         0"
            ]
          },
          "metadata": {},
          "execution_count": 7
        }
      ]
    },
    {
      "cell_type": "markdown",
      "metadata": {
        "id": "PvH4HIdX91-8"
      },
      "source": [
        "## **Feature Selection**"
      ]
    },
    {
      "cell_type": "markdown",
      "metadata": {
        "id": "jGtXjYWZ8IvK"
      },
      "source": [
        "Reference : \n",
        "- https://towardsdatascience.com/intro-to-feature-selection-methods-for-data-science-4cae2178a00a\n",
        "- https://towardsdatascience.com/feature-selection-with-pandas-e3690ad8504b\n",
        "- https://machinelearningmastery.com/feature-selection-with-real-and-categorical-data/\n"
      ]
    },
    {
      "cell_type": "markdown",
      "metadata": {
        "id": "9P684Hf6-FYt"
      },
      "source": [
        "### **Filtering Method (Pearson Correlation)**"
      ]
    },
    {
      "cell_type": "markdown",
      "metadata": {
        "id": "JQ0jkKrL-Xew"
      },
      "source": [
        "Seperti namanya, dalam metode ini, memfilter dan hanya mengambil sebagian dari fitur yang relevan. Model dibangun setelah memilih fitur. Penyaringan di sini dilakukan dengan menggunakan **correlation matrix** dan **Pearson correlation**."
      ]
    },
    {
      "cell_type": "code",
      "metadata": {
        "colab": {
          "base_uri": "https://localhost:8080/",
          "height": 700
        },
        "id": "77xI5QfB40du",
        "outputId": "dd57ca90-2291-4e98-d528-40708971450f"
      },
      "source": [
        "# Heatmap untuk melihat Pearson Correlation\n",
        "plt.figure(figsize=(12,10))\n",
        "cor = df.corr()\n",
        "mask = np.triu(np.ones_like(cor, dtype=np.bool))\n",
        "heatmap = sns.heatmap(cor, mask=mask, annot=True, cmap=plt.cm.Reds)\n",
        "heatmap.set_title('Pearson Correlation Heatmap')\n",
        "plt.show()"
      ],
      "execution_count": null,
      "outputs": [
        {
          "output_type": "display_data",
          "data": {
            "image/png": "[encoded data removed]",
            "text/plain": [
              "<Figure size 864x720 with 2 Axes>"
            ]
          },
          "metadata": {
            "needs_background": "light"
          }
        }
      ]
    },
    {
      "cell_type": "code",
      "metadata": {
        "id": "QhV-27vR6x3x",
        "colab": {
          "base_uri": "https://localhost:8080/"
        },
        "outputId": "890515f1-f7ab-4cdb-b245-e80fb73f6458"
      },
      "source": [
        "#Korelasi tiap fitur data dengan target yaitu \"Tertarik\"\n",
        "cor_target = abs(cor[\"Tertarik\"])\n",
        "print(cor_target)"
      ],
      "execution_count": null,
      "outputs": [
        {
          "output_type": "stream",
          "name": "stdout",
          "text": [
            "Jenis_Kelamin        0.052210\n",
            "Umur                 0.109327\n",
            "SIM                  0.009532\n",
            "Kode_Daerah          0.011039\n",
            "Sudah_Asuransi       0.340889\n",
            "Umur_Kendaraan       0.108770\n",
            "Kendaraan_Rusak      0.353636\n",
            "Premi                0.018467\n",
            "Kanal_Penjualan      0.137933\n",
            "Lama_Berlangganan    0.002453\n",
            "Tertarik             1.000000\n",
            "Name: Tertarik, dtype: float64\n"
          ]
        }
      ]
    },
    {
      "cell_type": "code",
      "metadata": {
        "id": "W9cLlzY84_ku",
        "colab": {
          "base_uri": "https://localhost:8080/"
        },
        "outputId": "7aed5923-c00c-470f-9d75-93d142a5479a"
      },
      "source": [
        "#Memilih nilai korelasi tertinggi (diatas 0.3)\n",
        "relevant_features = cor_target[cor_target>0.3]\n",
        "relevant_features"
      ],
      "execution_count": null,
      "outputs": [
        {
          "output_type": "execute_result",
          "data": {
            "text/plain": [
              "Sudah_Asuransi     0.340889\n",
              "Kendaraan_Rusak    0.353636\n",
              "Tertarik           1.000000\n",
              "Name: Tertarik, dtype: float64"
            ]
          },
          "metadata": {},
          "execution_count": 10
        }
      ]
    },
    {
      "cell_type": "code",
      "metadata": {
        "id": "xmIqW_Qi6Pd_",
        "colab": {
          "base_uri": "https://localhost:8080/"
        },
        "outputId": "b3c67ea0-f1e5-48ff-ae0f-e7625d667f53"
      },
      "source": [
        "print(df[[\"Sudah_Asuransi\",\"Kendaraan_Rusak\"]].corr())"
      ],
      "execution_count": null,
      "outputs": [
        {
          "output_type": "stream",
          "name": "stdout",
          "text": [
            "                 Sudah_Asuransi  Kendaraan_Rusak\n",
            "Sudah_Asuransi         1.000000         0.824674\n",
            "Kendaraan_Rusak        0.824674         1.000000\n"
          ]
        }
      ]
    },
    {
      "cell_type": "code",
      "metadata": {
        "id": "gn37XtkLC3aY"
      },
      "source": [
        "selected_feature = [\"Sudah_Asuransi\",\"Kendaraan_Rusak\"]\n",
        "X_train_PCorr = X_train[selected_feature]\n",
        "X_test_PCorr = X_test[selected_feature]"
      ],
      "execution_count": null,
      "outputs": []
    },
    {
      "cell_type": "markdown",
      "metadata": {
        "id": "2C9lJDWaAFLW"
      },
      "source": [
        "#### **Kesimpulan Filter Method (Pearson Correlation)** : \n",
        "Dengan menggunakanmetode ini, didapatkan 2 data yang memiliki korelasi tinggi, namun hasilnya tidaklah akurat sebab nilai negatif dianggap positif pada saat memilih nilai korelasi tertinggi."
      ]
    },
    {
      "cell_type": "markdown",
      "metadata": {
        "id": "9pICZPODA2tR"
      },
      "source": [
        "### **Filtering Method (Analysis of Variance (ANOVA))**"
      ]
    },
    {
      "cell_type": "code",
      "metadata": {
        "id": "2sJnPm3tkq3Z"
      },
      "source": [
        "from sklearn.feature_selection import f_classif, f_regression"
      ],
      "execution_count": null,
      "outputs": []
    },
    {
      "cell_type": "markdown",
      "metadata": {
        "id": "sMp14mkJwicA"
      },
      "source": [
        "#### **F-Test**"
      ]
    },
    {
      "cell_type": "code",
      "metadata": {
        "id": "xU5F7oGsuZCs",
        "colab": {
          "base_uri": "https://localhost:8080/"
        },
        "outputId": "115cade5-024e-47b1-d68a-9727af8e1079"
      },
      "source": [
        "# Membuat Array 2 Dimensi, Dimensi 1 berisi F-Socre, Dimensi 2 berisi P Value\n",
        "selected = f_classif(X_train, Y_train)\n",
        "selected"
      ],
      "execution_count": null,
      "outputs": [
        {
          "output_type": "execute_result",
          "data": {
            "text/plain": [
              "(array([4.76661033e+02, 2.05827179e+03, 1.65303769e+01, 1.94035249e+01,\n",
              "        2.24127663e+04, 2.03684923e+03, 2.43982607e+04, 4.47099652e+01,\n",
              "        3.17246494e+03, 2.82376099e+00]),\n",
              " array([1.59082291e-105, 0.00000000e+000, 4.78983848e-005, 1.05876053e-005,\n",
              "        0.00000000e+000, 0.00000000e+000, 0.00000000e+000, 2.29193241e-011,\n",
              "        0.00000000e+000, 9.28803783e-002]))"
            ]
          },
          "metadata": {},
          "execution_count": 14
        }
      ]
    },
    {
      "cell_type": "code",
      "metadata": {
        "id": "iYFt5N5h3jiF"
      },
      "source": [
        "# Mengambil nilai P Value dari perhitungan dengan f_classif, lalu selanjutnya mengurutkan dari yang terkecil\n",
        "p_values = pd.Series(selected[1])\n",
        "p_values.index = X_train.columns\n",
        "p_values.sort_values(ascending=True, inplace=True)"
      ],
      "execution_count": null,
      "outputs": []
    },
    {
      "cell_type": "code",
      "metadata": {
        "id": "Bu-ySwfk6O5V",
        "colab": {
          "base_uri": "https://localhost:8080/",
          "height": 429
        },
        "outputId": "69db9e3f-bb30-4f0d-bab3-e527e5e8f46f"
      },
      "source": [
        "# Membuat visualisasi P Value\n",
        "p_values.plot.bar(figsize = (16,5))"
      ],
      "execution_count": null,
      "outputs": [
        {
          "output_type": "execute_result",
          "data": {
            "text/plain": [
              "<matplotlib.axes._subplots.AxesSubplot at 0x7f814b30d290>"
            ]
          },
          "metadata": {},
          "execution_count": 16
        },
        {
          "output_type": "display_data",
          "data": {
            "image/png": "[encoded data removed]",
            "text/plain": [
              "<Figure size 1152x360 with 1 Axes>"
            ]
          },
          "metadata": {
            "needs_background": "light"
          }
        }
      ]
    },
    {
      "cell_type": "code",
      "metadata": {
        "id": "AfCqJnsN5tm-",
        "colab": {
          "base_uri": "https://localhost:8080/"
        },
        "outputId": "d78c9981-2cf8-4390-e7c7-fccfd8cd3f4f"
      },
      "source": [
        "# Menyeleksi P Value yang memiliki nilai lebih kecil dari 0.05. Yang mana jika memiliki nilai dibawah 0.05 maka fitur tersebut sangat penting.\n",
        "p_values = p_values[p_values<0.05]\n",
        "p_values"
      ],
      "execution_count": null,
      "outputs": [
        {
          "output_type": "execute_result",
          "data": {
            "text/plain": [
              "Umur                0.000000e+00\n",
              "Sudah_Asuransi      0.000000e+00\n",
              "Umur_Kendaraan      0.000000e+00\n",
              "Kendaraan_Rusak     0.000000e+00\n",
              "Kanal_Penjualan     0.000000e+00\n",
              "Jenis_Kelamin      1.590823e-105\n",
              "Premi               2.291932e-11\n",
              "Kode_Daerah         1.058761e-05\n",
              "SIM                 4.789838e-05\n",
              "dtype: float64"
            ]
          },
          "metadata": {},
          "execution_count": 17
        }
      ]
    },
    {
      "cell_type": "code",
      "metadata": {
        "id": "tm1OBvN859GS",
        "colab": {
          "base_uri": "https://localhost:8080/"
        },
        "outputId": "83b55537-809c-42c4-afd4-a18f562cb479"
      },
      "source": [
        "# Maka fitur index ke 0-8 adalah fitur-fitur yang penting.\n",
        "p_values.index"
      ],
      "execution_count": null,
      "outputs": [
        {
          "output_type": "execute_result",
          "data": {
            "text/plain": [
              "Index(['Umur', 'Sudah_Asuransi', 'Umur_Kendaraan', 'Kendaraan_Rusak',\n",
              "       'Kanal_Penjualan', 'Jenis_Kelamin', 'Premi', 'Kode_Daerah', 'SIM'],\n",
              "      dtype='object')"
            ]
          },
          "metadata": {},
          "execution_count": 18
        }
      ]
    },
    {
      "cell_type": "code",
      "metadata": {
        "id": "JKlMF2Bg7kRj"
      },
      "source": [
        "# Buat Variable baru untuk menampung dataset X_train dan X_test yang berisi index-index fitur yang penting.\n",
        "X_train_PValue = X_train[p_values.index]\n",
        "X_test_PValue = X_test[p_values.index]"
      ],
      "execution_count": null,
      "outputs": []
    },
    {
      "cell_type": "markdown",
      "metadata": {
        "id": "i3NvfqbS8EJW"
      },
      "source": [
        "#### **Kesimpulan Filtering Method (Analysis of Variance (ANOVA))** : \n",
        "Dengan menggunakan metode ini, didapatkan 8 fitur penting yaitu **Jenis_Kelamin, Umur, SIM, Kode_Daerah, Sudah_Asuransi, Umur_Kendaraan, Kendaraan_Rusak, Premi, Kanal_Penjualan**"
      ]
    },
    {
      "cell_type": "markdown",
      "metadata": {
        "id": "Z8igzB5vGRM8"
      },
      "source": [
        "### **Wrapper Method (Step Forward Selection - SFS)**"
      ]
    },
    {
      "cell_type": "markdown",
      "metadata": {
        "id": "YUheME4oGoXO"
      },
      "source": [
        "Library : https://github.com/rasbt/mlxtend\n",
        "\n",
        "Docs : https://rasbt.github.io/mlxtend/"
      ]
    },
    {
      "cell_type": "code",
      "metadata": {
        "id": "sbxPJvdUGV3d"
      },
      "source": [
        "# # Install dan Update the library\n",
        "!pip install mlxtend\n",
        "!pip install mlxtend --upgrade --no-deps"
      ],
      "execution_count": null,
      "outputs": []
    },
    {
      "cell_type": "code",
      "metadata": {
        "id": "bOF4WljdJLYf"
      },
      "source": [
        "# Import Library\n",
        "from sklearn.ensemble import RandomForestRegressor, RandomForestClassifier\n",
        "from mlxtend.feature_selection import SequentialFeatureSelector as SFS\n",
        "from sklearn.metrics import accuracy_score"
      ],
      "execution_count": null,
      "outputs": []
    },
    {
      "cell_type": "code",
      "metadata": {
        "id": "YVw-67mmMLVi",
        "colab": {
          "base_uri": "https://localhost:8080/"
        },
        "outputId": "9b24c943-1488-4535-dcf2-a73f2848fcc8"
      },
      "source": [
        "# Menggunakan Random Forest untuk menghitung akurasi\n",
        "sfs = SFS(RandomForestClassifier(n_estimators=100, random_state=0, n_jobs = -1),k_features = (1,4), forward = True, floating = False, verbose = 2, scoring = 'accuracy', cv = 4, n_jobs = -1).fit(X_train, Y_train)"
      ],
      "execution_count": null,
      "outputs": [
        {
          "output_type": "stream",
          "name": "stderr",
          "text": [
            "[Parallel(n_jobs=-1)]: Using backend LokyBackend with 2 concurrent workers.\n",
            "[Parallel(n_jobs=-1)]: Done  10 out of  10 | elapsed:  4.9min finished\n",
            "\n",
            "[2021-11-22 10:16:24] Features: 1/4 -- score: 0.8782177868679033[Parallel(n_jobs=-1)]: Using backend LokyBackend with 2 concurrent workers.\n",
            "[Parallel(n_jobs=-1)]: Done   9 out of   9 | elapsed:  4.6min finished\n",
            "\n",
            "[2021-11-22 10:20:58] Features: 2/4 -- score: 0.8782177868679033[Parallel(n_jobs=-1)]: Using backend LokyBackend with 2 concurrent workers.\n",
            "[Parallel(n_jobs=-1)]: Done   8 out of   8 | elapsed:  4.3min finished\n",
            "\n",
            "[2021-11-22 10:25:18] Features: 3/4 -- score: 0.8782177868679033[Parallel(n_jobs=-1)]: Using backend LokyBackend with 2 concurrent workers.\n"
          ]
        }
      ]
    },
    {
      "cell_type": "code",
      "metadata": {
        "id": "-VFeVf8cjqAx",
        "colab": {
          "base_uri": "https://localhost:8080/"
        },
        "outputId": "eeb8942f-e50e-41f6-b3d1-8207758ab686"
      },
      "source": [
        "# Skor akurasi terbaik\n",
        "sfs.k_score_"
      ],
      "execution_count": null,
      "outputs": [
        {
          "output_type": "execute_result",
          "data": {
            "text/plain": [
              "0.8782177868679033"
            ]
          },
          "metadata": {},
          "execution_count": 45
        }
      ]
    },
    {
      "cell_type": "code",
      "metadata": {
        "id": "YQpHtn_JlQMf",
        "colab": {
          "base_uri": "https://localhost:8080/",
          "height": 175
        },
        "outputId": "1409c656-b1ae-4379-eece-8d017d90ed9d"
      },
      "source": [
        "# Nilai perubahan fitur dan skor akurasi nya\n",
        "pd.DataFrame.from_dict(sfs.get_metric_dict()).T"
      ],
      "execution_count": null,
      "outputs": [
        {
          "output_type": "execute_result",
          "data": {
            "text/html": [
              "<div>\n",
              "<style scoped>\n",
              "    .dataframe tbody tr th:only-of-type {\n",
              "        vertical-align: middle;\n",
              "    }\n",
              "\n",
              "    .dataframe tbody tr th {\n",
              "        vertical-align: top;\n",
              "    }\n",
              "\n",
              "    .dataframe thead th {\n",
              "        text-align: right;\n",
              "    }\n",
              "</style>\n",
              "<table border=\"1\" class=\"dataframe\">\n",
              "  <thead>\n",
              "    <tr style=\"text-align: right;\">\n",
              "      <th></th>\n",
              "      <th>feature_idx</th>\n",
              "      <th>cv_scores</th>\n",
              "      <th>avg_score</th>\n",
              "      <th>feature_names</th>\n",
              "      <th>ci_bound</th>\n",
              "      <th>std_dev</th>\n",
              "      <th>std_err</th>\n",
              "    </tr>\n",
              "  </thead>\n",
              "  <tbody>\n",
              "    <tr>\n",
              "      <th>1</th>\n",
              "      <td>(0,)</td>\n",
              "      <td>[0.8782236641041916, 0.8782236641041916, 0.878...</td>\n",
              "      <td>0.878218</td>\n",
              "      <td>(Jenis_Kelamin,)</td>\n",
              "      <td>1.63178e-05</td>\n",
              "      <td>1.01797e-05</td>\n",
              "      <td>5.87724e-06</td>\n",
              "    </tr>\n",
              "    <tr>\n",
              "      <th>2</th>\n",
              "      <td>(0, 1)</td>\n",
              "      <td>[0.8782236641041916, 0.8782236641041916, 0.878...</td>\n",
              "      <td>0.878218</td>\n",
              "      <td>(Jenis_Kelamin, Umur)</td>\n",
              "      <td>1.63178e-05</td>\n",
              "      <td>1.01797e-05</td>\n",
              "      <td>5.87724e-06</td>\n",
              "    </tr>\n",
              "    <tr>\n",
              "      <th>3</th>\n",
              "      <td>(0, 1, 4)</td>\n",
              "      <td>[0.8782236641041916, 0.8782236641041916, 0.878...</td>\n",
              "      <td>0.878218</td>\n",
              "      <td>(Jenis_Kelamin, Umur, Sudah_Asuransi)</td>\n",
              "      <td>1.63178e-05</td>\n",
              "      <td>1.01797e-05</td>\n",
              "      <td>5.87724e-06</td>\n",
              "    </tr>\n",
              "    <tr>\n",
              "      <th>4</th>\n",
              "      <td>(0, 1, 4, 6)</td>\n",
              "      <td>[0.8782236641041916, 0.8782236641041916, 0.878...</td>\n",
              "      <td>0.878218</td>\n",
              "      <td>(Jenis_Kelamin, Umur, Sudah_Asuransi, Kendaraa...</td>\n",
              "      <td>1.63178e-05</td>\n",
              "      <td>1.01797e-05</td>\n",
              "      <td>5.87724e-06</td>\n",
              "    </tr>\n",
              "  </tbody>\n",
              "</table>\n",
              "</div>"
            ],
            "text/plain": [
              "    feature_idx  ...      std_err\n",
              "1          (0,)  ...  5.87724e-06\n",
              "2        (0, 1)  ...  5.87724e-06\n",
              "3     (0, 1, 4)  ...  5.87724e-06\n",
              "4  (0, 1, 4, 6)  ...  5.87724e-06\n",
              "\n",
              "[4 rows x 7 columns]"
            ]
          },
          "metadata": {},
          "execution_count": 46
        }
      ]
    },
    {
      "cell_type": "code",
      "metadata": {
        "id": "ipwpRy3kAF4L"
      },
      "source": [
        "selected_feature = [\"Jenis_Kelamin\", \"Umur\",\"Sudah_Asuransi\",\"Kendaraan_Rusak\"]\n",
        "X_train_Wrapper = X_train[selected_feature]\n",
        "X_test_Wrapper = X_test[selected_feature]"
      ],
      "execution_count": null,
      "outputs": []
    },
    {
      "cell_type": "markdown",
      "metadata": {
        "id": "ZYsrgeILvGv-"
      },
      "source": [
        "#### **Kesimpulan Wrapper Method (Step Foward Selection - SFS)** : \n",
        "Dengan menggunakan metode ini didapatkan beberapa kombinasi untuk fitur dengan nilai akurasi paling tinggi diangka 87%."
      ]
    },
    {
      "cell_type": "markdown",
      "metadata": {
        "id": "saYqy5Qu9LBz"
      },
      "source": [
        "## **Classification & Compare The Performance**"
      ]
    },
    {
      "cell_type": "markdown",
      "metadata": {
        "id": "TeHsgRw7JEeL"
      },
      "source": [
        "### **Random Forest**"
      ]
    },
    {
      "cell_type": "code",
      "metadata": {
        "id": "OaMmZ76C9T4-"
      },
      "source": [
        "from sklearn.metrics import classification_report"
      ],
      "execution_count": null,
      "outputs": []
    },
    {
      "cell_type": "code",
      "metadata": {
        "colab": {
          "base_uri": "https://localhost:8080/"
        },
        "id": "uMqCuayyFO3H",
        "outputId": "42045972-4906-480a-bac0-6b27ed2c482f"
      },
      "source": [
        "# Menggunakan Data sebelum dilakukan feature selection apapun\n",
        "%%time\n",
        "classifier = RandomForestClassifier(n_estimators=100, random_state=0)\n",
        "classifier.fit(X_train, Y_train)\n",
        "pred_No_Feature_Selection = classifier.predict(X_test)\n",
        "classes = ['class 0', 'class 1']\n",
        "print('Accuracy Random Forest : ', accuracy_score(Y_test, pred_No_Feature_Selection))\n",
        "print('\\n', classification_report(Y_test, pred_No_Feature_Selection, target_names=classes))"
      ],
      "execution_count": null,
      "outputs": [
        {
          "output_type": "stream",
          "name": "stdout",
          "text": [
            "Accuracy Random Forest :  0.8699720243552672\n",
            "\n",
            "               precision    recall  f1-score   support\n",
            "\n",
            "     class 0       0.89      0.97      0.93     37457\n",
            "     class 1       0.37      0.12      0.18      5080\n",
            "\n",
            "    accuracy                           0.87     42537\n",
            "   macro avg       0.63      0.55      0.56     42537\n",
            "weighted avg       0.83      0.87      0.84     42537\n",
            "\n",
            "CPU times: user 25.2 s, sys: 458 ms, total: 25.7 s\n",
            "Wall time: 25.6 s\n"
          ]
        }
      ]
    },
    {
      "cell_type": "code",
      "metadata": {
        "colab": {
          "base_uri": "https://localhost:8080/"
        },
        "id": "aR7TV1hVGNfi",
        "outputId": "f7f2cf41-63a3-42ac-efc2-f4c66ccea995"
      },
      "source": [
        "# Menggunakan Data Hasil ANOVA\n",
        "%%time\n",
        "classifier = RandomForestClassifier(n_estimators=100, random_state=0)\n",
        "classifier.fit(X_train_PValue, Y_train)\n",
        "pred_ANOVA = classifier.predict(X_test_PValue)\n",
        "classes = ['class 0', 'class 1']\n",
        "print('Accuracy Random Forest : ', accuracy_score(Y_test, pred_ANOVA))\n",
        "print('\\n', classification_report(Y_test, pred_ANOVA, target_names=classes))"
      ],
      "execution_count": null,
      "outputs": [
        {
          "output_type": "stream",
          "name": "stdout",
          "text": [
            "Accuracy Random Forest :  0.8546441921150998\n",
            "\n",
            "               precision    recall  f1-score   support\n",
            "\n",
            "     class 0       0.90      0.94      0.92     37457\n",
            "     class 1       0.33      0.20      0.25      5080\n",
            "\n",
            "    accuracy                           0.85     42537\n",
            "   macro avg       0.61      0.57      0.58     42537\n",
            "weighted avg       0.83      0.85      0.84     42537\n",
            "\n",
            "CPU times: user 21.9 s, sys: 405 ms, total: 22.3 s\n",
            "Wall time: 22.2 s\n"
          ]
        }
      ]
    },
    {
      "cell_type": "code",
      "metadata": {
        "id": "DHiDJ5DcC1XB",
        "colab": {
          "base_uri": "https://localhost:8080/"
        },
        "outputId": "db6be0cb-12c7-4360-b89e-40cdc7163ada"
      },
      "source": [
        "# Menggunakan Data Hasil Filter Method dengan Pearson Correlation\n",
        "%%time\n",
        "classifier = RandomForestClassifier(n_estimators=100, random_state=0)\n",
        "classifier.fit(X_train_PCorr, Y_train)\n",
        "pred_Pearson_Corr = classifier.predict(X_test_PCorr)\n",
        "classes = ['class 0', 'class 1']\n",
        "print('Accuracy Random Forest : ', accuracy_score(Y_test, pred_Pearson_Corr))\n",
        "print(classification_report(Y_test, pred_Pearson_Corr, target_names=classes))"
      ],
      "execution_count": null,
      "outputs": [
        {
          "output_type": "stream",
          "name": "stdout",
          "text": [
            "Accuracy Random Forest :  0.8805745586195547\n",
            "              precision    recall  f1-score   support\n",
            "\n",
            "     class 0       0.88      1.00      0.94     37457\n",
            "     class 1       0.00      0.00      0.00      5080\n",
            "\n",
            "    accuracy                           0.88     42537\n",
            "   macro avg       0.44      0.50      0.47     42537\n",
            "weighted avg       0.78      0.88      0.82     42537\n",
            "\n",
            "CPU times: user 3.04 s, sys: 154 ms, total: 3.2 s\n",
            "Wall time: 3.18 s\n"
          ]
        }
      ]
    },
    {
      "cell_type": "code",
      "metadata": {
        "id": "Vq-ZCXSm0Ldk",
        "colab": {
          "base_uri": "https://localhost:8080/"
        },
        "outputId": "3369f74b-a27a-48c2-e0cb-506f79280b5a"
      },
      "source": [
        "# Menggunakan Data Hasil Filter Method dengan Wrapper\n",
        "%%time\n",
        "classifier = RandomForestClassifier(n_estimators=100, random_state=0)\n",
        "classifier.fit(X_train_Wrapper, Y_train)\n",
        "pred_Wrapper_SFS = classifier.predict(X_test_Wrapper)\n",
        "classes = ['class 0', 'class 1']\n",
        "print('Accuracy Random Forest : ', accuracy_score(Y_test, pred_Wrapper_SFS))\n",
        "print(classification_report(Y_test, pred_Wrapper_SFS, target_names=classes))"
      ],
      "execution_count": null,
      "outputs": [
        {
          "output_type": "stream",
          "name": "stdout",
          "text": [
            "Accuracy Random Forest :  0.8805745586195547\n",
            "              precision    recall  f1-score   support\n",
            "\n",
            "     class 0       0.88      1.00      0.94     37457\n",
            "     class 1       0.00      0.00      0.00      5080\n",
            "\n",
            "    accuracy                           0.88     42537\n",
            "   macro avg       0.44      0.50      0.47     42537\n",
            "weighted avg       0.78      0.88      0.82     42537\n",
            "\n",
            "CPU times: user 6.74 s, sys: 46.7 ms, total: 6.79 s\n",
            "Wall time: 6.77 s\n"
          ]
        }
      ]
    },
    {
      "cell_type": "code",
      "metadata": {
        "colab": {
          "base_uri": "https://localhost:8080/"
        },
        "id": "UeSbge8zNVva",
        "outputId": "13c22f10-b70d-41bb-8013-f4a7a72933b3"
      },
      "source": [
        "type(X_test)"
      ],
      "execution_count": 55,
      "outputs": [
        {
          "output_type": "execute_result",
          "data": {
            "text/plain": [
              "pandas.core.frame.DataFrame"
            ]
          },
          "metadata": {},
          "execution_count": 55
        }
      ]
    },
    {
      "cell_type": "code",
      "metadata": {
        "colab": {
          "base_uri": "https://localhost:8080/",
          "height": 444
        },
        "id": "Pf-W0ZjBQVjw",
        "outputId": "17eadeed-6a69-4213-80ac-c7aa3e5821f2"
      },
      "source": [
        "df_final_pred = X_test\n",
        "df_final_pred"
      ],
      "execution_count": 56,
      "outputs": [
        {
          "output_type": "execute_result",
          "data": {
            "text/html": [
              "<div>\n",
              "<style scoped>\n",
              "    .dataframe tbody tr th:only-of-type {\n",
              "        vertical-align: middle;\n",
              "    }\n",
              "\n",
              "    .dataframe tbody tr th {\n",
              "        vertical-align: top;\n",
              "    }\n",
              "\n",
              "    .dataframe thead th {\n",
              "        text-align: right;\n",
              "    }\n",
              "</style>\n",
              "<table border=\"1\" class=\"dataframe\">\n",
              "  <thead>\n",
              "    <tr style=\"text-align: right;\">\n",
              "      <th></th>\n",
              "      <th>Jenis_Kelamin</th>\n",
              "      <th>Umur</th>\n",
              "      <th>SIM</th>\n",
              "      <th>Kode_Daerah</th>\n",
              "      <th>Sudah_Asuransi</th>\n",
              "      <th>Umur_Kendaraan</th>\n",
              "      <th>Kendaraan_Rusak</th>\n",
              "      <th>Premi</th>\n",
              "      <th>Kanal_Penjualan</th>\n",
              "      <th>Lama_Berlangganan</th>\n",
              "    </tr>\n",
              "  </thead>\n",
              "  <tbody>\n",
              "    <tr>\n",
              "      <th>200105</th>\n",
              "      <td>0.0</td>\n",
              "      <td>0.169231</td>\n",
              "      <td>1.0</td>\n",
              "      <td>0.673077</td>\n",
              "      <td>0.0</td>\n",
              "      <td>0.5</td>\n",
              "      <td>0.0</td>\n",
              "      <td>0.438943</td>\n",
              "      <td>0.154321</td>\n",
              "      <td>0.491349</td>\n",
              "    </tr>\n",
              "    <tr>\n",
              "      <th>93179</th>\n",
              "      <td>1.0</td>\n",
              "      <td>0.892308</td>\n",
              "      <td>1.0</td>\n",
              "      <td>0.673077</td>\n",
              "      <td>0.0</td>\n",
              "      <td>0.0</td>\n",
              "      <td>0.0</td>\n",
              "      <td>0.000000</td>\n",
              "      <td>0.154321</td>\n",
              "      <td>0.598616</td>\n",
              "    </tr>\n",
              "    <tr>\n",
              "      <th>55716</th>\n",
              "      <td>0.0</td>\n",
              "      <td>0.538462</td>\n",
              "      <td>1.0</td>\n",
              "      <td>0.538462</td>\n",
              "      <td>0.0</td>\n",
              "      <td>0.0</td>\n",
              "      <td>0.0</td>\n",
              "      <td>0.762158</td>\n",
              "      <td>0.154321</td>\n",
              "      <td>0.000000</td>\n",
              "    </tr>\n",
              "    <tr>\n",
              "      <th>59265</th>\n",
              "      <td>1.0</td>\n",
              "      <td>0.230769</td>\n",
              "      <td>1.0</td>\n",
              "      <td>0.288462</td>\n",
              "      <td>0.0</td>\n",
              "      <td>0.0</td>\n",
              "      <td>0.0</td>\n",
              "      <td>0.549638</td>\n",
              "      <td>0.759259</td>\n",
              "      <td>0.927336</td>\n",
              "    </tr>\n",
              "    <tr>\n",
              "      <th>182565</th>\n",
              "      <td>0.0</td>\n",
              "      <td>0.384615</td>\n",
              "      <td>1.0</td>\n",
              "      <td>0.288462</td>\n",
              "      <td>0.0</td>\n",
              "      <td>0.0</td>\n",
              "      <td>0.0</td>\n",
              "      <td>0.000000</td>\n",
              "      <td>0.759259</td>\n",
              "      <td>0.453287</td>\n",
              "    </tr>\n",
              "    <tr>\n",
              "      <th>...</th>\n",
              "      <td>...</td>\n",
              "      <td>...</td>\n",
              "      <td>...</td>\n",
              "      <td>...</td>\n",
              "      <td>...</td>\n",
              "      <td>...</td>\n",
              "      <td>...</td>\n",
              "      <td>...</td>\n",
              "      <td>...</td>\n",
              "      <td>...</td>\n",
              "    </tr>\n",
              "    <tr>\n",
              "      <th>134737</th>\n",
              "      <td>0.0</td>\n",
              "      <td>0.723077</td>\n",
              "      <td>1.0</td>\n",
              "      <td>0.000000</td>\n",
              "      <td>1.0</td>\n",
              "      <td>0.0</td>\n",
              "      <td>1.0</td>\n",
              "      <td>0.000000</td>\n",
              "      <td>0.037037</td>\n",
              "      <td>0.858131</td>\n",
              "    </tr>\n",
              "    <tr>\n",
              "      <th>132879</th>\n",
              "      <td>1.0</td>\n",
              "      <td>0.523077</td>\n",
              "      <td>1.0</td>\n",
              "      <td>0.153846</td>\n",
              "      <td>1.0</td>\n",
              "      <td>0.0</td>\n",
              "      <td>1.0</td>\n",
              "      <td>0.883072</td>\n",
              "      <td>0.154321</td>\n",
              "      <td>0.200692</td>\n",
              "    </tr>\n",
              "    <tr>\n",
              "      <th>77626</th>\n",
              "      <td>0.0</td>\n",
              "      <td>0.061538</td>\n",
              "      <td>1.0</td>\n",
              "      <td>0.057692</td>\n",
              "      <td>1.0</td>\n",
              "      <td>0.5</td>\n",
              "      <td>1.0</td>\n",
              "      <td>0.335935</td>\n",
              "      <td>0.932099</td>\n",
              "      <td>0.325260</td>\n",
              "    </tr>\n",
              "    <tr>\n",
              "      <th>152002</th>\n",
              "      <td>0.0</td>\n",
              "      <td>0.507692</td>\n",
              "      <td>1.0</td>\n",
              "      <td>0.538462</td>\n",
              "      <td>0.0</td>\n",
              "      <td>0.0</td>\n",
              "      <td>0.0</td>\n",
              "      <td>0.700975</td>\n",
              "      <td>0.154321</td>\n",
              "      <td>0.328720</td>\n",
              "    </tr>\n",
              "    <tr>\n",
              "      <th>194518</th>\n",
              "      <td>0.0</td>\n",
              "      <td>0.015385</td>\n",
              "      <td>1.0</td>\n",
              "      <td>0.403846</td>\n",
              "      <td>0.0</td>\n",
              "      <td>0.5</td>\n",
              "      <td>0.0</td>\n",
              "      <td>0.421730</td>\n",
              "      <td>0.962963</td>\n",
              "      <td>0.020761</td>\n",
              "    </tr>\n",
              "  </tbody>\n",
              "</table>\n",
              "<p>42537 rows × 10 columns</p>\n",
              "</div>"
            ],
            "text/plain": [
              "        Jenis_Kelamin      Umur  ...  Kanal_Penjualan  Lama_Berlangganan\n",
              "200105            0.0  0.169231  ...         0.154321           0.491349\n",
              "93179             1.0  0.892308  ...         0.154321           0.598616\n",
              "55716             0.0  0.538462  ...         0.154321           0.000000\n",
              "59265             1.0  0.230769  ...         0.759259           0.927336\n",
              "182565            0.0  0.384615  ...         0.759259           0.453287\n",
              "...               ...       ...  ...              ...                ...\n",
              "134737            0.0  0.723077  ...         0.037037           0.858131\n",
              "132879            1.0  0.523077  ...         0.154321           0.200692\n",
              "77626             0.0  0.061538  ...         0.932099           0.325260\n",
              "152002            0.0  0.507692  ...         0.154321           0.328720\n",
              "194518            0.0  0.015385  ...         0.962963           0.020761\n",
              "\n",
              "[42537 rows x 10 columns]"
            ]
          },
          "metadata": {},
          "execution_count": 56
        }
      ]
    },
    {
      "cell_type": "code",
      "metadata": {
        "id": "RW9vAqnJQgGF"
      },
      "source": [
        "df_final_pred['Tertarik'] = pred_Pearson_Corr.tolist()"
      ],
      "execution_count": 57,
      "outputs": []
    },
    {
      "cell_type": "code",
      "metadata": {
        "id": "l5AxlOm4RGJP",
        "colab": {
          "base_uri": "https://localhost:8080/",
          "height": 444
        },
        "outputId": "f8608821-fdc5-4eb8-ec6a-915c024b7654"
      },
      "source": [
        "df_final_pred"
      ],
      "execution_count": 58,
      "outputs": [
        {
          "output_type": "execute_result",
          "data": {
            "text/html": [
              "<div>\n",
              "<style scoped>\n",
              "    .dataframe tbody tr th:only-of-type {\n",
              "        vertical-align: middle;\n",
              "    }\n",
              "\n",
              "    .dataframe tbody tr th {\n",
              "        vertical-align: top;\n",
              "    }\n",
              "\n",
              "    .dataframe thead th {\n",
              "        text-align: right;\n",
              "    }\n",
              "</style>\n",
              "<table border=\"1\" class=\"dataframe\">\n",
              "  <thead>\n",
              "    <tr style=\"text-align: right;\">\n",
              "      <th></th>\n",
              "      <th>Jenis_Kelamin</th>\n",
              "      <th>Umur</th>\n",
              "      <th>SIM</th>\n",
              "      <th>Kode_Daerah</th>\n",
              "      <th>Sudah_Asuransi</th>\n",
              "      <th>Umur_Kendaraan</th>\n",
              "      <th>Kendaraan_Rusak</th>\n",
              "      <th>Premi</th>\n",
              "      <th>Kanal_Penjualan</th>\n",
              "      <th>Lama_Berlangganan</th>\n",
              "      <th>Tertarik</th>\n",
              "    </tr>\n",
              "  </thead>\n",
              "  <tbody>\n",
              "    <tr>\n",
              "      <th>200105</th>\n",
              "      <td>0.0</td>\n",
              "      <td>0.169231</td>\n",
              "      <td>1.0</td>\n",
              "      <td>0.673077</td>\n",
              "      <td>0.0</td>\n",
              "      <td>0.5</td>\n",
              "      <td>0.0</td>\n",
              "      <td>0.438943</td>\n",
              "      <td>0.154321</td>\n",
              "      <td>0.491349</td>\n",
              "      <td>0</td>\n",
              "    </tr>\n",
              "    <tr>\n",
              "      <th>93179</th>\n",
              "      <td>1.0</td>\n",
              "      <td>0.892308</td>\n",
              "      <td>1.0</td>\n",
              "      <td>0.673077</td>\n",
              "      <td>0.0</td>\n",
              "      <td>0.0</td>\n",
              "      <td>0.0</td>\n",
              "      <td>0.000000</td>\n",
              "      <td>0.154321</td>\n",
              "      <td>0.598616</td>\n",
              "      <td>0</td>\n",
              "    </tr>\n",
              "    <tr>\n",
              "      <th>55716</th>\n",
              "      <td>0.0</td>\n",
              "      <td>0.538462</td>\n",
              "      <td>1.0</td>\n",
              "      <td>0.538462</td>\n",
              "      <td>0.0</td>\n",
              "      <td>0.0</td>\n",
              "      <td>0.0</td>\n",
              "      <td>0.762158</td>\n",
              "      <td>0.154321</td>\n",
              "      <td>0.000000</td>\n",
              "      <td>0</td>\n",
              "    </tr>\n",
              "    <tr>\n",
              "      <th>59265</th>\n",
              "      <td>1.0</td>\n",
              "      <td>0.230769</td>\n",
              "      <td>1.0</td>\n",
              "      <td>0.288462</td>\n",
              "      <td>0.0</td>\n",
              "      <td>0.0</td>\n",
              "      <td>0.0</td>\n",
              "      <td>0.549638</td>\n",
              "      <td>0.759259</td>\n",
              "      <td>0.927336</td>\n",
              "      <td>0</td>\n",
              "    </tr>\n",
              "    <tr>\n",
              "      <th>182565</th>\n",
              "      <td>0.0</td>\n",
              "      <td>0.384615</td>\n",
              "      <td>1.0</td>\n",
              "      <td>0.288462</td>\n",
              "      <td>0.0</td>\n",
              "      <td>0.0</td>\n",
              "      <td>0.0</td>\n",
              "      <td>0.000000</td>\n",
              "      <td>0.759259</td>\n",
              "      <td>0.453287</td>\n",
              "      <td>0</td>\n",
              "    </tr>\n",
              "    <tr>\n",
              "      <th>...</th>\n",
              "      <td>...</td>\n",
              "      <td>...</td>\n",
              "      <td>...</td>\n",
              "      <td>...</td>\n",
              "      <td>...</td>\n",
              "      <td>...</td>\n",
              "      <td>...</td>\n",
              "      <td>...</td>\n",
              "      <td>...</td>\n",
              "      <td>...</td>\n",
              "      <td>...</td>\n",
              "    </tr>\n",
              "    <tr>\n",
              "      <th>134737</th>\n",
              "      <td>0.0</td>\n",
              "      <td>0.723077</td>\n",
              "      <td>1.0</td>\n",
              "      <td>0.000000</td>\n",
              "      <td>1.0</td>\n",
              "      <td>0.0</td>\n",
              "      <td>1.0</td>\n",
              "      <td>0.000000</td>\n",
              "      <td>0.037037</td>\n",
              "      <td>0.858131</td>\n",
              "      <td>0</td>\n",
              "    </tr>\n",
              "    <tr>\n",
              "      <th>132879</th>\n",
              "      <td>1.0</td>\n",
              "      <td>0.523077</td>\n",
              "      <td>1.0</td>\n",
              "      <td>0.153846</td>\n",
              "      <td>1.0</td>\n",
              "      <td>0.0</td>\n",
              "      <td>1.0</td>\n",
              "      <td>0.883072</td>\n",
              "      <td>0.154321</td>\n",
              "      <td>0.200692</td>\n",
              "      <td>0</td>\n",
              "    </tr>\n",
              "    <tr>\n",
              "      <th>77626</th>\n",
              "      <td>0.0</td>\n",
              "      <td>0.061538</td>\n",
              "      <td>1.0</td>\n",
              "      <td>0.057692</td>\n",
              "      <td>1.0</td>\n",
              "      <td>0.5</td>\n",
              "      <td>1.0</td>\n",
              "      <td>0.335935</td>\n",
              "      <td>0.932099</td>\n",
              "      <td>0.325260</td>\n",
              "      <td>0</td>\n",
              "    </tr>\n",
              "    <tr>\n",
              "      <th>152002</th>\n",
              "      <td>0.0</td>\n",
              "      <td>0.507692</td>\n",
              "      <td>1.0</td>\n",
              "      <td>0.538462</td>\n",
              "      <td>0.0</td>\n",
              "      <td>0.0</td>\n",
              "      <td>0.0</td>\n",
              "      <td>0.700975</td>\n",
              "      <td>0.154321</td>\n",
              "      <td>0.328720</td>\n",
              "      <td>0</td>\n",
              "    </tr>\n",
              "    <tr>\n",
              "      <th>194518</th>\n",
              "      <td>0.0</td>\n",
              "      <td>0.015385</td>\n",
              "      <td>1.0</td>\n",
              "      <td>0.403846</td>\n",
              "      <td>0.0</td>\n",
              "      <td>0.5</td>\n",
              "      <td>0.0</td>\n",
              "      <td>0.421730</td>\n",
              "      <td>0.962963</td>\n",
              "      <td>0.020761</td>\n",
              "      <td>0</td>\n",
              "    </tr>\n",
              "  </tbody>\n",
              "</table>\n",
              "<p>42537 rows × 11 columns</p>\n",
              "</div>"
            ],
            "text/plain": [
              "        Jenis_Kelamin      Umur  ...  Lama_Berlangganan  Tertarik\n",
              "200105            0.0  0.169231  ...           0.491349         0\n",
              "93179             1.0  0.892308  ...           0.598616         0\n",
              "55716             0.0  0.538462  ...           0.000000         0\n",
              "59265             1.0  0.230769  ...           0.927336         0\n",
              "182565            0.0  0.384615  ...           0.453287         0\n",
              "...               ...       ...  ...                ...       ...\n",
              "134737            0.0  0.723077  ...           0.858131         0\n",
              "132879            1.0  0.523077  ...           0.200692         0\n",
              "77626             0.0  0.061538  ...           0.325260         0\n",
              "152002            0.0  0.507692  ...           0.328720         0\n",
              "194518            0.0  0.015385  ...           0.020761         0\n",
              "\n",
              "[42537 rows x 11 columns]"
            ]
          },
          "metadata": {},
          "execution_count": 58
        }
      ]
    },
    {
      "cell_type": "code",
      "metadata": {
        "id": "uvRBN05bRkNH"
      },
      "source": [
        "df_final_pred.to_csv(\"prediction_result_randomforest.csv\", header=True)"
      ],
      "execution_count": 59,
      "outputs": []
    },
    {
      "cell_type": "markdown",
      "metadata": {
        "id": "516s6x-LJP4X"
      },
      "source": [
        "#### **Kesimpulan**\n",
        "\n",
        "Didapatkan hasil terbaik dengan menggunakan Feature selection menggunakan Filtering Method (Pearson Correlation), dengan akurasi mencapai 88% dan Waktu eksekusi yang cepat."
      ]
    }
  ]
}
