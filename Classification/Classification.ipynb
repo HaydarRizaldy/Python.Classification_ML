{
  "nbformat": 4,
  "nbformat_minor": 0,
  "metadata": {
    "colab": {
      "name": "Classification.ipynb",
      "provenance": [],
      "collapsed_sections": [
        "TX8ZyUMv9kZS",
        "Mtic5mdcxS6v",
        "9P684Hf6-FYt",
        "9pICZPODA2tR",
        "Z8igzB5vGRM8",
        "Sa-s4WkmTpJU",
        "VnEA7HEjTxMf",
        "_O1zH6AtT5qb",
        "_jJssW_DUgdm",
        "6KgCLQo4UpXY",
        "zpmihSzYZvUn",
        "r2V9ORFoZ1Xo",
        "uq3ewnIkZ6C2",
        "kEULfc_kaBjV",
        "GtDlFRVfZf8b"
      ]
    },
    "kernelspec": {
      "name": "python3",
      "display_name": "Python 3"
    },
    "language_info": {
      "name": "python"
    }
  },
  "cells": [
    {
      "cell_type": "markdown",
      "metadata": {
        "id": "r2T4K_UNvl3-"
      },
      "source": [
        "# **Tugas Besar Pembelajaran Mesin (Classification)**\n",
        "\n",
        "Kelas : IF-43-12\n",
        "\n",
        "Anggota : \n",
        "- Raihan Romzi Rakhman (1301194376)\n",
        "- Haydar Rizaldy Putera Prayudi (1301194388)"
      ]
    },
    {
      "cell_type": "markdown",
      "metadata": {
        "id": "5NC7UvmbvtgZ"
      },
      "source": [
        "### **Task:**\n",
        "\n",
        "1.   **Formulasi Masalah** → jelaskan apa permasalahan yang akan diselesaikan.\n",
        "\n",
        "2.   **Eksplorasi dan Persiapan Data** (termasuk data splitting) →\tlakukan semua teknik eksplorasi dan persiapan data yang menurut Anda perlu dilakukan. Jelaskan\n",
        "mengapa perlu melakukan teknik tersebut, dan lakukan analisis terhadap hasilnya.\n",
        "\n",
        "3.   **Pemodelan** → bangunlah model menggunakan data hasil praproses 2.b, dan  lakukan proses training untuk mendapatkan hasil terbaik. Jelaskan secara detail semua proses yang Anda lakukan dilengkapi dengan justifikasi dan analisis hasilnya.\n",
        "\n",
        "4.   **Evaluasi** → pilih metode evaluasi yang sesuai beserta justifikasinya.  Lakukan evaluasi terhadap model yang telah dihasilkan. Berikan analisis  terhadap hasil evaluasi.\n",
        "\n",
        "5.   **Eksperimen** → lakukan berbagai eksperimen yang melibatkan tahapan Eksplorasi dan Persiapan Data, Pemodelan, dan Evaluasi untuk mendapatkan hasil terbaik. Laporkan semua Eksperimen yang Anda lakukan beserta analisis hasil dan\n",
        "perbandingannya.\n",
        "\n",
        "6.   **Kesimpulan** → berikan kesimpulan dari semua proses yang dijalankan beserta hasil akhir dari berbagai eksperimen yang telah dilakukan."
      ]
    },
    {
      "cell_type": "markdown",
      "metadata": {
        "id": "WCvkWIw9byar"
      },
      "source": [
        "<br><br>"
      ]
    },
    {
      "cell_type": "markdown",
      "metadata": {
        "id": "cjJREKWl9-eZ"
      },
      "source": [
        "\n",
        "\n",
        "\n",
        "\n",
        "\n",
        "\n",
        "\n",
        "\n",
        "\n",
        "\n",
        "\n",
        "\n",
        "## **Import Library**"
      ]
    },
    {
      "cell_type": "code",
      "metadata": {
        "id": "zxxX3_DhvYZL"
      },
      "source": [
        "import pandas as pd\n",
        "import matplotlib.pyplot as plt\n",
        "import seaborn as sns\n",
        "import numpy as np\n",
        "import warnings\n",
        "warnings.filterwarnings('ignore')"
      ],
      "execution_count": 83,
      "outputs": []
    },
    {
      "cell_type": "markdown",
      "metadata": {
        "id": "0FSLDht7SRVa"
      },
      "source": [
        "<br><br>"
      ]
    },
    {
      "cell_type": "markdown",
      "metadata": {
        "id": "n7LTMjYM-IiS"
      },
      "source": [
        "## **Import Dataset**"
      ]
    },
    {
      "cell_type": "code",
      "metadata": {
        "colab": {
          "base_uri": "https://localhost:8080/",
          "height": 363
        },
        "id": "V2qhzLib-MmC",
        "outputId": "0376af14-07d2-46f2-dcb0-e50d7fe2bd0d"
      },
      "source": [
        "df = pd.read_csv(\"https://raw.githubusercontent.com/raihanromzi/Python.Classification_ML/main/Datasets/kendaraan_clean.csv\")\n",
        "df.sample(10)"
      ],
      "execution_count": 84,
      "outputs": [
        {
          "output_type": "execute_result",
          "data": {
            "text/html": [
              "<div>\n",
              "<style scoped>\n",
              "    .dataframe tbody tr th:only-of-type {\n",
              "        vertical-align: middle;\n",
              "    }\n",
              "\n",
              "    .dataframe tbody tr th {\n",
              "        vertical-align: top;\n",
              "    }\n",
              "\n",
              "    .dataframe thead th {\n",
              "        text-align: right;\n",
              "    }\n",
              "</style>\n",
              "<table border=\"1\" class=\"dataframe\">\n",
              "  <thead>\n",
              "    <tr style=\"text-align: right;\">\n",
              "      <th></th>\n",
              "      <th>Jenis_Kelamin</th>\n",
              "      <th>Umur</th>\n",
              "      <th>SIM</th>\n",
              "      <th>Kode_Daerah</th>\n",
              "      <th>Sudah_Asuransi</th>\n",
              "      <th>Umur_Kendaraan</th>\n",
              "      <th>Kendaraan_Rusak</th>\n",
              "      <th>Premi</th>\n",
              "      <th>Kanal_Penjualan</th>\n",
              "      <th>Lama_Berlangganan</th>\n",
              "      <th>Tertarik</th>\n",
              "    </tr>\n",
              "  </thead>\n",
              "  <tbody>\n",
              "    <tr>\n",
              "      <th>25510</th>\n",
              "      <td>1.0</td>\n",
              "      <td>0.153846</td>\n",
              "      <td>1.0</td>\n",
              "      <td>0.288462</td>\n",
              "      <td>1.0</td>\n",
              "      <td>0.5</td>\n",
              "      <td>1.0</td>\n",
              "      <td>0.000000</td>\n",
              "      <td>0.932099</td>\n",
              "      <td>0.470588</td>\n",
              "      <td>0</td>\n",
              "    </tr>\n",
              "    <tr>\n",
              "      <th>138379</th>\n",
              "      <td>0.0</td>\n",
              "      <td>0.076923</td>\n",
              "      <td>1.0</td>\n",
              "      <td>0.153846</td>\n",
              "      <td>1.0</td>\n",
              "      <td>0.5</td>\n",
              "      <td>1.0</td>\n",
              "      <td>0.521073</td>\n",
              "      <td>0.925926</td>\n",
              "      <td>0.325260</td>\n",
              "      <td>0</td>\n",
              "    </tr>\n",
              "    <tr>\n",
              "      <th>143151</th>\n",
              "      <td>1.0</td>\n",
              "      <td>0.061538</td>\n",
              "      <td>1.0</td>\n",
              "      <td>0.538462</td>\n",
              "      <td>1.0</td>\n",
              "      <td>0.5</td>\n",
              "      <td>1.0</td>\n",
              "      <td>0.427913</td>\n",
              "      <td>0.932099</td>\n",
              "      <td>0.498270</td>\n",
              "      <td>0</td>\n",
              "    </tr>\n",
              "    <tr>\n",
              "      <th>122442</th>\n",
              "      <td>1.0</td>\n",
              "      <td>0.061538</td>\n",
              "      <td>1.0</td>\n",
              "      <td>0.711538</td>\n",
              "      <td>0.0</td>\n",
              "      <td>0.5</td>\n",
              "      <td>0.0</td>\n",
              "      <td>0.575719</td>\n",
              "      <td>0.932099</td>\n",
              "      <td>0.173010</td>\n",
              "      <td>0</td>\n",
              "    </tr>\n",
              "    <tr>\n",
              "      <th>40197</th>\n",
              "      <td>0.0</td>\n",
              "      <td>0.046154</td>\n",
              "      <td>1.0</td>\n",
              "      <td>0.692308</td>\n",
              "      <td>1.0</td>\n",
              "      <td>0.5</td>\n",
              "      <td>1.0</td>\n",
              "      <td>0.450666</td>\n",
              "      <td>0.932099</td>\n",
              "      <td>0.377163</td>\n",
              "      <td>0</td>\n",
              "    </tr>\n",
              "    <tr>\n",
              "      <th>124952</th>\n",
              "      <td>1.0</td>\n",
              "      <td>0.046154</td>\n",
              "      <td>1.0</td>\n",
              "      <td>0.230769</td>\n",
              "      <td>1.0</td>\n",
              "      <td>0.5</td>\n",
              "      <td>1.0</td>\n",
              "      <td>0.581074</td>\n",
              "      <td>0.925926</td>\n",
              "      <td>0.276817</td>\n",
              "      <td>0</td>\n",
              "    </tr>\n",
              "    <tr>\n",
              "      <th>178392</th>\n",
              "      <td>1.0</td>\n",
              "      <td>0.430769</td>\n",
              "      <td>1.0</td>\n",
              "      <td>0.884615</td>\n",
              "      <td>0.0</td>\n",
              "      <td>1.0</td>\n",
              "      <td>0.0</td>\n",
              "      <td>0.000000</td>\n",
              "      <td>0.956790</td>\n",
              "      <td>0.159170</td>\n",
              "      <td>0</td>\n",
              "    </tr>\n",
              "    <tr>\n",
              "      <th>146299</th>\n",
              "      <td>1.0</td>\n",
              "      <td>0.123077</td>\n",
              "      <td>1.0</td>\n",
              "      <td>0.788462</td>\n",
              "      <td>1.0</td>\n",
              "      <td>0.5</td>\n",
              "      <td>1.0</td>\n",
              "      <td>0.518235</td>\n",
              "      <td>0.932099</td>\n",
              "      <td>0.110727</td>\n",
              "      <td>0</td>\n",
              "    </tr>\n",
              "    <tr>\n",
              "      <th>70255</th>\n",
              "      <td>0.0</td>\n",
              "      <td>0.015385</td>\n",
              "      <td>1.0</td>\n",
              "      <td>0.115385</td>\n",
              "      <td>0.0</td>\n",
              "      <td>0.5</td>\n",
              "      <td>0.0</td>\n",
              "      <td>0.332776</td>\n",
              "      <td>0.932099</td>\n",
              "      <td>0.740484</td>\n",
              "      <td>1</td>\n",
              "    </tr>\n",
              "    <tr>\n",
              "      <th>185135</th>\n",
              "      <td>1.0</td>\n",
              "      <td>0.015385</td>\n",
              "      <td>1.0</td>\n",
              "      <td>0.750000</td>\n",
              "      <td>0.0</td>\n",
              "      <td>0.5</td>\n",
              "      <td>0.0</td>\n",
              "      <td>0.557138</td>\n",
              "      <td>0.981481</td>\n",
              "      <td>0.761246</td>\n",
              "      <td>0</td>\n",
              "    </tr>\n",
              "  </tbody>\n",
              "</table>\n",
              "</div>"
            ],
            "text/plain": [
              "        Jenis_Kelamin      Umur  ...  Lama_Berlangganan  Tertarik\n",
              "25510             1.0  0.153846  ...           0.470588         0\n",
              "138379            0.0  0.076923  ...           0.325260         0\n",
              "143151            1.0  0.061538  ...           0.498270         0\n",
              "122442            1.0  0.061538  ...           0.173010         0\n",
              "40197             0.0  0.046154  ...           0.377163         0\n",
              "124952            1.0  0.046154  ...           0.276817         0\n",
              "178392            1.0  0.430769  ...           0.159170         0\n",
              "146299            1.0  0.123077  ...           0.110727         0\n",
              "70255             0.0  0.015385  ...           0.740484         1\n",
              "185135            1.0  0.015385  ...           0.761246         0\n",
              "\n",
              "[10 rows x 11 columns]"
            ]
          },
          "metadata": {},
          "execution_count": 84
        }
      ]
    },
    {
      "cell_type": "markdown",
      "metadata": {
        "id": "JLOMdZR1SSmF"
      },
      "source": [
        "<br><br>"
      ]
    },
    {
      "cell_type": "markdown",
      "metadata": {
        "id": "TX8ZyUMv9kZS"
      },
      "source": [
        "## **Feature & Target**"
      ]
    },
    {
      "cell_type": "code",
      "metadata": {
        "id": "sBiK2oQ3ydru"
      },
      "source": [
        "# Memisahkan antara data yang dijadikan Feature dan Target\n",
        "data = ['Jenis_Kelamin', 'Umur', 'SIM', 'Kode_Daerah', 'Sudah_Asuransi',\n",
        "       'Umur_Kendaraan', 'Kendaraan_Rusak', 'Premi', 'Kanal_Penjualan',\n",
        "       'Lama_Berlangganan']\n",
        "target = ['Tertarik']\n",
        "\n",
        "X = df[data]\n",
        "Y = df[target]"
      ],
      "execution_count": 85,
      "outputs": []
    },
    {
      "cell_type": "markdown",
      "metadata": {
        "id": "_QidvVKwb7BD"
      },
      "source": [
        "<br><br>"
      ]
    },
    {
      "cell_type": "markdown",
      "metadata": {
        "id": "Mtic5mdcxS6v"
      },
      "source": [
        "## **Splitting Dataset**\n",
        "\n",
        "Reference : \n",
        "- https://machinelearningmastery.com/train-test-split-for-evaluating-machine-learning-algorithms/\n",
        "- https://towardsdatascience.com/intro-to-feature-selection-methods-for-data-science-4cae2178a00a"
      ]
    },
    {
      "cell_type": "code",
      "metadata": {
        "id": "4av5zPEqxbp7"
      },
      "source": [
        "# Memisahkan Dataset menjadi Training dan Test, data yang digunakan untuk test adalah 20% dari keseluruhan data\n",
        "from sklearn.model_selection import train_test_split\n",
        "X_train, X_test, Y_train, Y_test = train_test_split(X, Y, test_size=0.2, random_state=1)"
      ],
      "execution_count": 119,
      "outputs": []
    },
    {
      "cell_type": "code",
      "metadata": {
        "colab": {
          "base_uri": "https://localhost:8080/",
          "height": 206
        },
        "id": "9Bg36SxXxR-K",
        "outputId": "1a1db8ef-0bc3-4019-94e0-84755a5c8b87"
      },
      "source": [
        "X_train.head(5)"
      ],
      "execution_count": 87,
      "outputs": [
        {
          "output_type": "execute_result",
          "data": {
            "text/html": [
              "<div>\n",
              "<style scoped>\n",
              "    .dataframe tbody tr th:only-of-type {\n",
              "        vertical-align: middle;\n",
              "    }\n",
              "\n",
              "    .dataframe tbody tr th {\n",
              "        vertical-align: top;\n",
              "    }\n",
              "\n",
              "    .dataframe thead th {\n",
              "        text-align: right;\n",
              "    }\n",
              "</style>\n",
              "<table border=\"1\" class=\"dataframe\">\n",
              "  <thead>\n",
              "    <tr style=\"text-align: right;\">\n",
              "      <th></th>\n",
              "      <th>Jenis_Kelamin</th>\n",
              "      <th>Umur</th>\n",
              "      <th>SIM</th>\n",
              "      <th>Kode_Daerah</th>\n",
              "      <th>Sudah_Asuransi</th>\n",
              "      <th>Umur_Kendaraan</th>\n",
              "      <th>Kendaraan_Rusak</th>\n",
              "      <th>Premi</th>\n",
              "      <th>Kanal_Penjualan</th>\n",
              "      <th>Lama_Berlangganan</th>\n",
              "    </tr>\n",
              "  </thead>\n",
              "  <tbody>\n",
              "    <tr>\n",
              "      <th>53927</th>\n",
              "      <td>0.0</td>\n",
              "      <td>0.123077</td>\n",
              "      <td>1.0</td>\n",
              "      <td>0.692308</td>\n",
              "      <td>1.0</td>\n",
              "      <td>0.5</td>\n",
              "      <td>1.0</td>\n",
              "      <td>0.000000</td>\n",
              "      <td>0.932099</td>\n",
              "      <td>0.865052</td>\n",
              "    </tr>\n",
              "    <tr>\n",
              "      <th>46766</th>\n",
              "      <td>0.0</td>\n",
              "      <td>0.030769</td>\n",
              "      <td>1.0</td>\n",
              "      <td>0.230769</td>\n",
              "      <td>1.0</td>\n",
              "      <td>0.5</td>\n",
              "      <td>1.0</td>\n",
              "      <td>0.373756</td>\n",
              "      <td>0.932099</td>\n",
              "      <td>0.460208</td>\n",
              "    </tr>\n",
              "    <tr>\n",
              "      <th>72577</th>\n",
              "      <td>1.0</td>\n",
              "      <td>0.000000</td>\n",
              "      <td>1.0</td>\n",
              "      <td>0.961538</td>\n",
              "      <td>1.0</td>\n",
              "      <td>0.5</td>\n",
              "      <td>1.0</td>\n",
              "      <td>0.652714</td>\n",
              "      <td>0.981481</td>\n",
              "      <td>0.826990</td>\n",
              "    </tr>\n",
              "    <tr>\n",
              "      <th>47490</th>\n",
              "      <td>1.0</td>\n",
              "      <td>0.046154</td>\n",
              "      <td>1.0</td>\n",
              "      <td>0.884615</td>\n",
              "      <td>1.0</td>\n",
              "      <td>0.5</td>\n",
              "      <td>1.0</td>\n",
              "      <td>0.425041</td>\n",
              "      <td>0.932099</td>\n",
              "      <td>0.252595</td>\n",
              "    </tr>\n",
              "    <tr>\n",
              "      <th>99737</th>\n",
              "      <td>1.0</td>\n",
              "      <td>0.092308</td>\n",
              "      <td>1.0</td>\n",
              "      <td>0.788462</td>\n",
              "      <td>1.0</td>\n",
              "      <td>0.5</td>\n",
              "      <td>1.0</td>\n",
              "      <td>0.512272</td>\n",
              "      <td>0.932099</td>\n",
              "      <td>0.975779</td>\n",
              "    </tr>\n",
              "  </tbody>\n",
              "</table>\n",
              "</div>"
            ],
            "text/plain": [
              "       Jenis_Kelamin      Umur  ...  Kanal_Penjualan  Lama_Berlangganan\n",
              "53927            0.0  0.123077  ...         0.932099           0.865052\n",
              "46766            0.0  0.030769  ...         0.932099           0.460208\n",
              "72577            1.0  0.000000  ...         0.981481           0.826990\n",
              "47490            1.0  0.046154  ...         0.932099           0.252595\n",
              "99737            1.0  0.092308  ...         0.932099           0.975779\n",
              "\n",
              "[5 rows x 10 columns]"
            ]
          },
          "metadata": {},
          "execution_count": 87
        }
      ]
    },
    {
      "cell_type": "code",
      "metadata": {
        "colab": {
          "base_uri": "https://localhost:8080/",
          "height": 206
        },
        "id": "S15HnyMAxX0K",
        "outputId": "0bae10d3-4dd1-44ee-f132-5ed54e35b6bd"
      },
      "source": [
        "Y_train.head(5)"
      ],
      "execution_count": 88,
      "outputs": [
        {
          "output_type": "execute_result",
          "data": {
            "text/html": [
              "<div>\n",
              "<style scoped>\n",
              "    .dataframe tbody tr th:only-of-type {\n",
              "        vertical-align: middle;\n",
              "    }\n",
              "\n",
              "    .dataframe tbody tr th {\n",
              "        vertical-align: top;\n",
              "    }\n",
              "\n",
              "    .dataframe thead th {\n",
              "        text-align: right;\n",
              "    }\n",
              "</style>\n",
              "<table border=\"1\" class=\"dataframe\">\n",
              "  <thead>\n",
              "    <tr style=\"text-align: right;\">\n",
              "      <th></th>\n",
              "      <th>Tertarik</th>\n",
              "    </tr>\n",
              "  </thead>\n",
              "  <tbody>\n",
              "    <tr>\n",
              "      <th>53927</th>\n",
              "      <td>0</td>\n",
              "    </tr>\n",
              "    <tr>\n",
              "      <th>46766</th>\n",
              "      <td>0</td>\n",
              "    </tr>\n",
              "    <tr>\n",
              "      <th>72577</th>\n",
              "      <td>0</td>\n",
              "    </tr>\n",
              "    <tr>\n",
              "      <th>47490</th>\n",
              "      <td>0</td>\n",
              "    </tr>\n",
              "    <tr>\n",
              "      <th>99737</th>\n",
              "      <td>0</td>\n",
              "    </tr>\n",
              "  </tbody>\n",
              "</table>\n",
              "</div>"
            ],
            "text/plain": [
              "       Tertarik\n",
              "53927         0\n",
              "46766         0\n",
              "72577         0\n",
              "47490         0\n",
              "99737         0"
            ]
          },
          "metadata": {},
          "execution_count": 88
        }
      ]
    },
    {
      "cell_type": "markdown",
      "metadata": {
        "id": "cEcSIWocb_A-"
      },
      "source": [
        "<br><br>"
      ]
    },
    {
      "cell_type": "markdown",
      "metadata": {
        "id": "PvH4HIdX91-8"
      },
      "source": [
        "## **Feature Selection**\n",
        "\n",
        "Reference : \n",
        "- https://towardsdatascience.com/intro-to-feature-selection-methods-for-data-science-4cae2178a00a\n",
        "- https://towardsdatascience.com/feature-selection-with-pandas-e3690ad8504b\n",
        "- https://machinelearningmastery.com/feature-selection-with-real-and-categorical-data/\n"
      ]
    },
    {
      "cell_type": "markdown",
      "metadata": {
        "id": "gETQagzrS2pb"
      },
      "source": [
        "<br>"
      ]
    },
    {
      "cell_type": "markdown",
      "metadata": {
        "id": "9P684Hf6-FYt"
      },
      "source": [
        "### **Filtering Method (Pearson Correlation)**\n",
        "\n",
        "Seperti namanya, dalam metode ini, memfilter dan hanya mengambil sebagian dari fitur yang relevan. Model dibangun setelah memilih fitur. Penyaringan di sini dilakukan dengan menggunakan **correlation matrix** dan **Pearson correlation**."
      ]
    },
    {
      "cell_type": "code",
      "metadata": {
        "colab": {
          "base_uri": "https://localhost:8080/",
          "height": 700
        },
        "id": "77xI5QfB40du",
        "outputId": "a3a2fa64-0dd9-406d-8357-af785e49a685"
      },
      "source": [
        "# Heatmap untuk melihat Pearson Correlation\n",
        "plt.figure(figsize=(12,10))\n",
        "cor = df.corr()\n",
        "mask = np.triu(np.ones_like(cor, dtype=np.bool))\n",
        "heatmap = sns.heatmap(cor, mask=mask, annot=True, cmap=\"YlGnBu\")\n",
        "heatmap.set_title('Pearson Correlation Heatmap')\n",
        "plt.show()"
      ],
      "execution_count": 89,
      "outputs": [
        {
          "output_type": "display_data",
          "data": {
            "image/png": "[encoded data removed]",
            "text/plain": [
              "<Figure size 864x720 with 2 Axes>"
            ]
          },
          "metadata": {
            "needs_background": "light"
          }
        }
      ]
    },
    {
      "cell_type": "code",
      "metadata": {
        "id": "QhV-27vR6x3x",
        "colab": {
          "base_uri": "https://localhost:8080/"
        },
        "outputId": "d9c2150e-7a25-4aa4-8d16-b15989d8cd2a"
      },
      "source": [
        "# Korelasi tiap fitur data dengan target yaitu \"Tertarik\"\n",
        "cor_target = abs(cor[\"Tertarik\"])\n",
        "print(cor_target)"
      ],
      "execution_count": 90,
      "outputs": [
        {
          "output_type": "stream",
          "name": "stdout",
          "text": [
            "Jenis_Kelamin        0.052210\n",
            "Umur                 0.109327\n",
            "SIM                  0.009532\n",
            "Kode_Daerah          0.011039\n",
            "Sudah_Asuransi       0.340889\n",
            "Umur_Kendaraan       0.108770\n",
            "Kendaraan_Rusak      0.353636\n",
            "Premi                0.018467\n",
            "Kanal_Penjualan      0.137933\n",
            "Lama_Berlangganan    0.002453\n",
            "Tertarik             1.000000\n",
            "Name: Tertarik, dtype: float64\n"
          ]
        }
      ]
    },
    {
      "cell_type": "code",
      "metadata": {
        "id": "W9cLlzY84_ku",
        "colab": {
          "base_uri": "https://localhost:8080/"
        },
        "outputId": "6f12d3b5-277a-4f9c-e91e-0e22c6e74059"
      },
      "source": [
        "# Memilih nilai korelasi tertinggi\n",
        "relevant_features = cor_target[cor_target>0.3]\n",
        "relevant_features.sort_values(ascending=False)"
      ],
      "execution_count": 91,
      "outputs": [
        {
          "output_type": "execute_result",
          "data": {
            "text/plain": [
              "Tertarik           1.000000\n",
              "Kendaraan_Rusak    0.353636\n",
              "Sudah_Asuransi     0.340889\n",
              "Name: Tertarik, dtype: float64"
            ]
          },
          "metadata": {},
          "execution_count": 91
        }
      ]
    },
    {
      "cell_type": "code",
      "metadata": {
        "id": "gn37XtkLC3aY"
      },
      "source": [
        "selected_feature = [\"Sudah_Asuransi\",\"Kendaraan_Rusak\"]\n",
        "X_train_PCorr = X_train[selected_feature]\n",
        "X_test_PCorr = X_test[selected_feature]"
      ],
      "execution_count": 92,
      "outputs": []
    },
    {
      "cell_type": "markdown",
      "metadata": {
        "id": "2C9lJDWaAFLW"
      },
      "source": [
        "#### **Kesimpulan Filter Method (Pearson Correlation)** : \n",
        "Dengan menggunakanmetode ini, didapatkan 2 data yang memiliki korelasi tinggi, namun hasilnya tidaklah akurat sebab nilai negatif dianggap positif pada saat memilih nilai korelasi tertinggi."
      ]
    },
    {
      "cell_type": "markdown",
      "metadata": {
        "id": "Il56U6xocBrm"
      },
      "source": [
        "<br>"
      ]
    },
    {
      "cell_type": "markdown",
      "metadata": {
        "id": "9pICZPODA2tR"
      },
      "source": [
        "### **Filtering Method (Analysis of Variance (ANOVA))**"
      ]
    },
    {
      "cell_type": "code",
      "metadata": {
        "id": "2sJnPm3tkq3Z"
      },
      "source": [
        "from sklearn.feature_selection import f_classif, f_regression"
      ],
      "execution_count": 93,
      "outputs": []
    },
    {
      "cell_type": "markdown",
      "metadata": {
        "id": "sMp14mkJwicA"
      },
      "source": [
        "#### **F-Test**"
      ]
    },
    {
      "cell_type": "code",
      "metadata": {
        "id": "xU5F7oGsuZCs",
        "colab": {
          "base_uri": "https://localhost:8080/"
        },
        "outputId": "50759f7a-90e9-455f-aedd-dfece35ea7cb"
      },
      "source": [
        "# Membuat Array 2 Dimensi, Dimensi 1 berisi F-Socre, Dimensi 2 berisi P Value\n",
        "selected = f_classif(X_train, Y_train)\n",
        "selected"
      ],
      "execution_count": 94,
      "outputs": [
        {
          "output_type": "execute_result",
          "data": {
            "text/plain": [
              "(array([4.76661033e+02, 2.05827179e+03, 1.65303769e+01, 1.94035249e+01,\n",
              "        2.24127663e+04, 2.03684923e+03, 2.43982607e+04, 4.47099652e+01,\n",
              "        3.17246494e+03, 2.82376099e+00]),\n",
              " array([1.59082291e-105, 0.00000000e+000, 4.78983848e-005, 1.05876053e-005,\n",
              "        0.00000000e+000, 0.00000000e+000, 0.00000000e+000, 2.29193241e-011,\n",
              "        0.00000000e+000, 9.28803783e-002]))"
            ]
          },
          "metadata": {},
          "execution_count": 94
        }
      ]
    },
    {
      "cell_type": "code",
      "metadata": {
        "id": "iYFt5N5h3jiF"
      },
      "source": [
        "# Mengambil nilai P Value dari perhitungan dengan f_classif, lalu selanjutnya mengurutkan dari yang terkecil\n",
        "p_values = pd.Series(selected[1])\n",
        "p_values.index = X_train.columns\n",
        "p_values.sort_values(ascending=True, inplace=True)"
      ],
      "execution_count": 95,
      "outputs": []
    },
    {
      "cell_type": "code",
      "metadata": {
        "id": "Bu-ySwfk6O5V",
        "colab": {
          "base_uri": "https://localhost:8080/",
          "height": 429
        },
        "outputId": "b0dbc5fd-176c-4119-b0be-e4bba633b8cc"
      },
      "source": [
        "# Membuat visualisasi P Value\n",
        "p_values.plot.bar(figsize = (16,5))"
      ],
      "execution_count": 96,
      "outputs": [
        {
          "output_type": "execute_result",
          "data": {
            "text/plain": [
              "<matplotlib.axes._subplots.AxesSubplot at 0x7fd225e35210>"
            ]
          },
          "metadata": {},
          "execution_count": 96
        },
        {
          "output_type": "display_data",
          "data": {
            "image/png": "[encoded data removed]",
            "text/plain": [
              "<Figure size 1152x360 with 1 Axes>"
            ]
          },
          "metadata": {
            "needs_background": "light"
          }
        }
      ]
    },
    {
      "cell_type": "code",
      "metadata": {
        "id": "AfCqJnsN5tm-",
        "colab": {
          "base_uri": "https://localhost:8080/"
        },
        "outputId": "aa1ca80a-0329-4db4-85d7-ac48e3afeba4"
      },
      "source": [
        "# Menyeleksi P Value yang memiliki nilai lebih kecil dari 0.05. Yang mana jika memiliki nilai dibawah 0.05 maka fitur tersebut sangat penting.\n",
        "p_values = p_values[p_values<0.05]\n",
        "p_values"
      ],
      "execution_count": 97,
      "outputs": [
        {
          "output_type": "execute_result",
          "data": {
            "text/plain": [
              "Umur                0.000000e+00\n",
              "Sudah_Asuransi      0.000000e+00\n",
              "Umur_Kendaraan      0.000000e+00\n",
              "Kendaraan_Rusak     0.000000e+00\n",
              "Kanal_Penjualan     0.000000e+00\n",
              "Jenis_Kelamin      1.590823e-105\n",
              "Premi               2.291932e-11\n",
              "Kode_Daerah         1.058761e-05\n",
              "SIM                 4.789838e-05\n",
              "dtype: float64"
            ]
          },
          "metadata": {},
          "execution_count": 97
        }
      ]
    },
    {
      "cell_type": "code",
      "metadata": {
        "id": "tm1OBvN859GS",
        "colab": {
          "base_uri": "https://localhost:8080/"
        },
        "outputId": "190b6f6c-bc5a-4b44-a111-9cfc2b39bfdc"
      },
      "source": [
        "# Maka fitur index ke 0-8 adalah fitur-fitur yang penting.\n",
        "p_values.index"
      ],
      "execution_count": 98,
      "outputs": [
        {
          "output_type": "execute_result",
          "data": {
            "text/plain": [
              "Index(['Umur', 'Sudah_Asuransi', 'Umur_Kendaraan', 'Kendaraan_Rusak',\n",
              "       'Kanal_Penjualan', 'Jenis_Kelamin', 'Premi', 'Kode_Daerah', 'SIM'],\n",
              "      dtype='object')"
            ]
          },
          "metadata": {},
          "execution_count": 98
        }
      ]
    },
    {
      "cell_type": "code",
      "metadata": {
        "id": "JKlMF2Bg7kRj"
      },
      "source": [
        "# Buat Variable baru untuk menampung dataset X_train dan X_test yang berisi index-index fitur yang penting.\n",
        "X_train_ANOVA = X_train[p_values.index]\n",
        "X_test_ANOVA = X_test[p_values.index]"
      ],
      "execution_count": 99,
      "outputs": []
    },
    {
      "cell_type": "markdown",
      "metadata": {
        "id": "i3NvfqbS8EJW"
      },
      "source": [
        "#### **Kesimpulan Filtering Method (Analysis of Variance (ANOVA))** : \n",
        "Dengan menggunakan metode ini, didapatkan 8 fitur penting yaitu **Jenis_Kelamin, Umur, SIM, Kode_Daerah, Sudah_Asuransi, Umur_Kendaraan, Kendaraan_Rusak, Premi, Kanal_Penjualan**"
      ]
    },
    {
      "cell_type": "markdown",
      "metadata": {
        "id": "Vg6UYOnBcDX_"
      },
      "source": [
        "<br>"
      ]
    },
    {
      "cell_type": "markdown",
      "metadata": {
        "id": "Z8igzB5vGRM8"
      },
      "source": [
        "### **Wrapper Method (Step Forward Selection - SFS)**\n",
        "\n",
        "Library : https://github.com/rasbt/mlxtend\n",
        "\n",
        "Docs : https://rasbt.github.io/mlxtend/"
      ]
    },
    {
      "cell_type": "code",
      "metadata": {
        "id": "sbxPJvdUGV3d"
      },
      "source": [
        "# # Install dan Update the library\n",
        "!pip install mlxtend\n",
        "!pip install mlxtend --upgrade --no-deps"
      ],
      "execution_count": null,
      "outputs": []
    },
    {
      "cell_type": "code",
      "metadata": {
        "id": "bOF4WljdJLYf"
      },
      "source": [
        "# Import Library\n",
        "from sklearn.ensemble import RandomForestRegressor, RandomForestClassifier\n",
        "from mlxtend.feature_selection import SequentialFeatureSelector as SFS\n",
        "from sklearn.metrics import accuracy_score"
      ],
      "execution_count": 101,
      "outputs": []
    },
    {
      "cell_type": "code",
      "metadata": {
        "id": "YVw-67mmMLVi",
        "colab": {
          "base_uri": "https://localhost:8080/"
        },
        "outputId": "e0b3d7de-448c-4ea6-cf32-55acdb57472f"
      },
      "source": [
        "# Menggunakan Random Forest untuk menghitung akurasi\n",
        "sfs = SFS(RandomForestClassifier(n_estimators=100, random_state=0, n_jobs = -1),k_features = (1,4), forward = True, floating = False, verbose = 2, scoring = 'accuracy', cv = 4, n_jobs = -1).fit(X_train, Y_train)"
      ],
      "execution_count": 102,
      "outputs": [
        {
          "output_type": "stream",
          "name": "stderr",
          "text": [
            "[Parallel(n_jobs=-1)]: Using backend LokyBackend with 2 concurrent workers.\n",
            "[Parallel(n_jobs=-1)]: Done  10 out of  10 | elapsed:  2.9min finished\n",
            "\n",
            "[2021-11-23 05:47:48] Features: 1/4 -- score: 0.8782177868679033[Parallel(n_jobs=-1)]: Using backend LokyBackend with 2 concurrent workers.\n",
            "[Parallel(n_jobs=-1)]: Done   9 out of   9 | elapsed:  2.8min finished\n",
            "\n",
            "[2021-11-23 05:50:37] Features: 2/4 -- score: 0.8782177868679033[Parallel(n_jobs=-1)]: Using backend LokyBackend with 2 concurrent workers.\n",
            "[Parallel(n_jobs=-1)]: Done   8 out of   8 | elapsed:  2.6min finished\n",
            "\n",
            "[2021-11-23 05:53:14] Features: 3/4 -- score: 0.8782177868679033[Parallel(n_jobs=-1)]: Using backend LokyBackend with 2 concurrent workers.\n",
            "[Parallel(n_jobs=-1)]: Done   7 out of   7 | elapsed:  2.4min finished\n",
            "\n",
            "[2021-11-23 05:55:38] Features: 4/4 -- score: 0.8782177868679033"
          ]
        }
      ]
    },
    {
      "cell_type": "code",
      "metadata": {
        "id": "-VFeVf8cjqAx",
        "colab": {
          "base_uri": "https://localhost:8080/"
        },
        "outputId": "371492ca-3761-4fcf-d1e4-c683ccf612a3"
      },
      "source": [
        "# Skor akurasi terbaik\n",
        "sfs.k_score_"
      ],
      "execution_count": 103,
      "outputs": [
        {
          "output_type": "execute_result",
          "data": {
            "text/plain": [
              "0.8782177868679033"
            ]
          },
          "metadata": {},
          "execution_count": 103
        }
      ]
    },
    {
      "cell_type": "code",
      "metadata": {
        "id": "YQpHtn_JlQMf",
        "colab": {
          "base_uri": "https://localhost:8080/",
          "height": 175
        },
        "outputId": "b852bae5-a257-476b-a2c8-621acbdc17c9"
      },
      "source": [
        "# Nilai perubahan fitur dan skor akurasi nya\n",
        "pd.DataFrame.from_dict(sfs.get_metric_dict()).T"
      ],
      "execution_count": 104,
      "outputs": [
        {
          "output_type": "execute_result",
          "data": {
            "text/html": [
              "<div>\n",
              "<style scoped>\n",
              "    .dataframe tbody tr th:only-of-type {\n",
              "        vertical-align: middle;\n",
              "    }\n",
              "\n",
              "    .dataframe tbody tr th {\n",
              "        vertical-align: top;\n",
              "    }\n",
              "\n",
              "    .dataframe thead th {\n",
              "        text-align: right;\n",
              "    }\n",
              "</style>\n",
              "<table border=\"1\" class=\"dataframe\">\n",
              "  <thead>\n",
              "    <tr style=\"text-align: right;\">\n",
              "      <th></th>\n",
              "      <th>feature_idx</th>\n",
              "      <th>cv_scores</th>\n",
              "      <th>avg_score</th>\n",
              "      <th>feature_names</th>\n",
              "      <th>ci_bound</th>\n",
              "      <th>std_dev</th>\n",
              "      <th>std_err</th>\n",
              "    </tr>\n",
              "  </thead>\n",
              "  <tbody>\n",
              "    <tr>\n",
              "      <th>1</th>\n",
              "      <td>(0,)</td>\n",
              "      <td>[0.8782236641041916, 0.8782236641041916, 0.878...</td>\n",
              "      <td>0.878218</td>\n",
              "      <td>(Jenis_Kelamin,)</td>\n",
              "      <td>1.63178e-05</td>\n",
              "      <td>1.01797e-05</td>\n",
              "      <td>5.87724e-06</td>\n",
              "    </tr>\n",
              "    <tr>\n",
              "      <th>2</th>\n",
              "      <td>(0, 1)</td>\n",
              "      <td>[0.8782236641041916, 0.8782236641041916, 0.878...</td>\n",
              "      <td>0.878218</td>\n",
              "      <td>(Jenis_Kelamin, Umur)</td>\n",
              "      <td>1.63178e-05</td>\n",
              "      <td>1.01797e-05</td>\n",
              "      <td>5.87724e-06</td>\n",
              "    </tr>\n",
              "    <tr>\n",
              "      <th>3</th>\n",
              "      <td>(0, 1, 4)</td>\n",
              "      <td>[0.8782236641041916, 0.8782236641041916, 0.878...</td>\n",
              "      <td>0.878218</td>\n",
              "      <td>(Jenis_Kelamin, Umur, Sudah_Asuransi)</td>\n",
              "      <td>1.63178e-05</td>\n",
              "      <td>1.01797e-05</td>\n",
              "      <td>5.87724e-06</td>\n",
              "    </tr>\n",
              "    <tr>\n",
              "      <th>4</th>\n",
              "      <td>(0, 1, 4, 6)</td>\n",
              "      <td>[0.8782236641041916, 0.8782236641041916, 0.878...</td>\n",
              "      <td>0.878218</td>\n",
              "      <td>(Jenis_Kelamin, Umur, Sudah_Asuransi, Kendaraa...</td>\n",
              "      <td>1.63178e-05</td>\n",
              "      <td>1.01797e-05</td>\n",
              "      <td>5.87724e-06</td>\n",
              "    </tr>\n",
              "  </tbody>\n",
              "</table>\n",
              "</div>"
            ],
            "text/plain": [
              "    feature_idx  ...      std_err\n",
              "1          (0,)  ...  5.87724e-06\n",
              "2        (0, 1)  ...  5.87724e-06\n",
              "3     (0, 1, 4)  ...  5.87724e-06\n",
              "4  (0, 1, 4, 6)  ...  5.87724e-06\n",
              "\n",
              "[4 rows x 7 columns]"
            ]
          },
          "metadata": {},
          "execution_count": 104
        }
      ]
    },
    {
      "cell_type": "code",
      "metadata": {
        "id": "ipwpRy3kAF4L"
      },
      "source": [
        "selected_feature = [\"Jenis_Kelamin\", \"Umur\",\"Sudah_Asuransi\",\"Kendaraan_Rusak\"]\n",
        "X_train_Wrapper = X_train[selected_feature]\n",
        "X_test_Wrapper = X_test[selected_feature]"
      ],
      "execution_count": 105,
      "outputs": []
    },
    {
      "cell_type": "markdown",
      "metadata": {
        "id": "ZYsrgeILvGv-"
      },
      "source": [
        "#### **Kesimpulan Wrapper Method (Step Foward Selection - SFS)** : \n",
        "Dengan menggunakan metode ini didapatkan beberapa kombinasi untuk fitur dengan nilai akurasi paling tinggi diangka 87%."
      ]
    },
    {
      "cell_type": "markdown",
      "metadata": {
        "id": "DnKm76hOcHTy"
      },
      "source": [
        "<br><br>"
      ]
    },
    {
      "cell_type": "markdown",
      "metadata": {
        "id": "saYqy5Qu9LBz"
      },
      "source": [
        "## **Classification & Compare The Performance**"
      ]
    },
    {
      "cell_type": "markdown",
      "metadata": {
        "id": "qt9Ik0CvTf8w"
      },
      "source": [
        "<br>"
      ]
    },
    {
      "cell_type": "markdown",
      "metadata": {
        "id": "TeHsgRw7JEeL"
      },
      "source": [
        "### **Random Forest**"
      ]
    },
    {
      "cell_type": "code",
      "metadata": {
        "id": "OaMmZ76C9T4-"
      },
      "source": [
        "# Import Library\n",
        "from sklearn.metrics import classification_report"
      ],
      "execution_count": 106,
      "outputs": []
    },
    {
      "cell_type": "markdown",
      "metadata": {
        "id": "Sa-s4WkmTpJU"
      },
      "source": [
        "#### **Data Plain**"
      ]
    },
    {
      "cell_type": "code",
      "metadata": {
        "colab": {
          "base_uri": "https://localhost:8080/"
        },
        "id": "uMqCuayyFO3H",
        "outputId": "fd0d433d-5635-47d8-e3ca-00f33ce8e91a"
      },
      "source": [
        "# Menggunakan Data sebelum dilakukan feature selection apapun\n",
        "%%time\n",
        "classifier = RandomForestClassifier(n_estimators=100, random_state=0)\n",
        "classifier.fit(X_train, Y_train)\n",
        "pred_No_Feature_Selection_RandomForest = classifier.predict(X_test)\n",
        "\n",
        "classes = ['class 0', 'class 1']\n",
        "print('Accuracy Random Forest : ', accuracy_score(Y_test, pred_No_Feature_Selection_RandomForest))\n",
        "print('\\n', classification_report(Y_test, pred_No_Feature_Selection_RandomForest, target_names=classes))"
      ],
      "execution_count": 107,
      "outputs": [
        {
          "output_type": "stream",
          "name": "stdout",
          "text": [
            "Accuracy Random Forest :  0.8699720243552672\n",
            "\n",
            "               precision    recall  f1-score   support\n",
            "\n",
            "     class 0       0.89      0.97      0.93     37457\n",
            "     class 1       0.37      0.12      0.18      5080\n",
            "\n",
            "    accuracy                           0.87     42537\n",
            "   macro avg       0.63      0.55      0.56     42537\n",
            "weighted avg       0.83      0.87      0.84     42537\n",
            "\n",
            "CPU times: user 23.4 s, sys: 190 ms, total: 23.6 s\n",
            "Wall time: 23.5 s\n"
          ]
        }
      ]
    },
    {
      "cell_type": "markdown",
      "metadata": {
        "id": "P9jtlESvT3-F"
      },
      "source": [
        "<br>"
      ]
    },
    {
      "cell_type": "markdown",
      "metadata": {
        "id": "VnEA7HEjTxMf"
      },
      "source": [
        "#### **Data ANOVA (Filtering Method)**"
      ]
    },
    {
      "cell_type": "code",
      "metadata": {
        "colab": {
          "base_uri": "https://localhost:8080/"
        },
        "id": "aR7TV1hVGNfi",
        "outputId": "614fce93-793f-4d15-e292-987106a7ccbe"
      },
      "source": [
        "# Menggunakan Data Hasil ANOVA\n",
        "%%time\n",
        "classifier = RandomForestClassifier(n_estimators=100, random_state=0)\n",
        "classifier.fit(X_train_ANOVA, Y_train)\n",
        "pred_ANOVA_RandomForest = classifier.predict(X_test_ANOVA)\n",
        "\n",
        "classes = ['class 0', 'class 1']\n",
        "print('Accuracy Random Forest : ', accuracy_score(Y_test, pred_ANOVA_RandomForest))\n",
        "print('\\n', classification_report(Y_test, pred_ANOVA_RandomForest, target_names=classes))"
      ],
      "execution_count": 109,
      "outputs": [
        {
          "output_type": "stream",
          "name": "stdout",
          "text": [
            "Accuracy Random Forest :  0.8546441921150998\n",
            "\n",
            "               precision    recall  f1-score   support\n",
            "\n",
            "     class 0       0.90      0.94      0.92     37457\n",
            "     class 1       0.33      0.20      0.25      5080\n",
            "\n",
            "    accuracy                           0.85     42537\n",
            "   macro avg       0.61      0.57      0.58     42537\n",
            "weighted avg       0.83      0.85      0.84     42537\n",
            "\n",
            "CPU times: user 20.6 s, sys: 172 ms, total: 20.8 s\n",
            "Wall time: 20.8 s\n"
          ]
        }
      ]
    },
    {
      "cell_type": "markdown",
      "metadata": {
        "id": "07BPIL58UPfn"
      },
      "source": [
        "<br>"
      ]
    },
    {
      "cell_type": "markdown",
      "metadata": {
        "id": "_O1zH6AtT5qb"
      },
      "source": [
        "#### **Data Pearson Correlation (Filtering Method)**"
      ]
    },
    {
      "cell_type": "code",
      "metadata": {
        "id": "DHiDJ5DcC1XB",
        "colab": {
          "base_uri": "https://localhost:8080/"
        },
        "outputId": "bc21cbdc-af25-41bd-a2b4-60840d7322a0"
      },
      "source": [
        "# Menggunakan Data Hasil Filter Method dengan Pearson Correlation\n",
        "%%time\n",
        "classifier = RandomForestClassifier(n_estimators=100, random_state=0)\n",
        "classifier.fit(X_train_PCorr, Y_train)\n",
        "pred_Pearson_Corr_RandomForest = classifier.predict(X_test_PCorr)\n",
        "\n",
        "classes = ['class 0', 'class 1']\n",
        "print('Accuracy Random Forest : ', accuracy_score(Y_test, pred_Pearson_Corr_RandomForest))\n",
        "print(classification_report(Y_test, pred_Pearson_Corr_RandomForest, target_names=classes))"
      ],
      "execution_count": 110,
      "outputs": [
        {
          "output_type": "stream",
          "name": "stdout",
          "text": [
            "Accuracy Random Forest :  0.8805745586195547\n",
            "              precision    recall  f1-score   support\n",
            "\n",
            "     class 0       0.88      1.00      0.94     37457\n",
            "     class 1       0.00      0.00      0.00      5080\n",
            "\n",
            "    accuracy                           0.88     42537\n",
            "   macro avg       0.44      0.50      0.47     42537\n",
            "weighted avg       0.78      0.88      0.82     42537\n",
            "\n",
            "CPU times: user 2.38 s, sys: 67.6 ms, total: 2.45 s\n",
            "Wall time: 2.45 s\n"
          ]
        }
      ]
    },
    {
      "cell_type": "markdown",
      "metadata": {
        "id": "_jJssW_DUgdm"
      },
      "source": [
        "#### **Data Wrapper (SFS)**"
      ]
    },
    {
      "cell_type": "code",
      "metadata": {
        "id": "Vq-ZCXSm0Ldk",
        "colab": {
          "base_uri": "https://localhost:8080/"
        },
        "outputId": "e8dcbb7a-907b-4cda-d5a3-e646974214b0"
      },
      "source": [
        "# Menggunakan Data Hasil Filter Method dengan Wrapper\n",
        "%%time\n",
        "classifier = RandomForestClassifier(n_estimators=100, random_state=0)\n",
        "classifier.fit(X_train_Wrapper, Y_train)\n",
        "pred_Wrapper_SFS_RandomForest = classifier.predict(X_test_Wrapper)\n",
        "\n",
        "classes = ['class 0', 'class 1']\n",
        "print('Accuracy Random Forest : ', accuracy_score(Y_test, pred_Wrapper_SFS_RandomForest))\n",
        "print(classification_report(Y_test, pred_Wrapper_SFS_RandomForest, target_names=classes))"
      ],
      "execution_count": 111,
      "outputs": [
        {
          "output_type": "stream",
          "name": "stdout",
          "text": [
            "Accuracy Random Forest :  0.8805745586195547\n",
            "              precision    recall  f1-score   support\n",
            "\n",
            "     class 0       0.88      1.00      0.94     37457\n",
            "     class 1       0.00      0.00      0.00      5080\n",
            "\n",
            "    accuracy                           0.88     42537\n",
            "   macro avg       0.44      0.50      0.47     42537\n",
            "weighted avg       0.78      0.88      0.82     42537\n",
            "\n",
            "CPU times: user 6.59 s, sys: 29.1 ms, total: 6.62 s\n",
            "Wall time: 6.6 s\n"
          ]
        }
      ]
    },
    {
      "cell_type": "markdown",
      "metadata": {
        "id": "cAnR9gUaUnPt"
      },
      "source": [
        "<br>"
      ]
    },
    {
      "cell_type": "markdown",
      "metadata": {
        "id": "6KgCLQo4UpXY"
      },
      "source": [
        "#### **Add Prediction to Dataframe**"
      ]
    },
    {
      "cell_type": "code",
      "metadata": {
        "colab": {
          "base_uri": "https://localhost:8080/",
          "height": 424
        },
        "id": "Pf-W0ZjBQVjw",
        "outputId": "d36793b3-5f0b-4896-e1e1-4579a7d2b79b"
      },
      "source": [
        "df_final_pred_RandomForest = X_test\n",
        "df_final_pred_RandomForest"
      ],
      "execution_count": 112,
      "outputs": [
        {
          "output_type": "execute_result",
          "data": {
            "text/html": [
              "<div>\n",
              "<style scoped>\n",
              "    .dataframe tbody tr th:only-of-type {\n",
              "        vertical-align: middle;\n",
              "    }\n",
              "\n",
              "    .dataframe tbody tr th {\n",
              "        vertical-align: top;\n",
              "    }\n",
              "\n",
              "    .dataframe thead th {\n",
              "        text-align: right;\n",
              "    }\n",
              "</style>\n",
              "<table border=\"1\" class=\"dataframe\">\n",
              "  <thead>\n",
              "    <tr style=\"text-align: right;\">\n",
              "      <th></th>\n",
              "      <th>Jenis_Kelamin</th>\n",
              "      <th>Umur</th>\n",
              "      <th>SIM</th>\n",
              "      <th>Kode_Daerah</th>\n",
              "      <th>Sudah_Asuransi</th>\n",
              "      <th>Umur_Kendaraan</th>\n",
              "      <th>Kendaraan_Rusak</th>\n",
              "      <th>Premi</th>\n",
              "      <th>Kanal_Penjualan</th>\n",
              "      <th>Lama_Berlangganan</th>\n",
              "    </tr>\n",
              "  </thead>\n",
              "  <tbody>\n",
              "    <tr>\n",
              "      <th>200105</th>\n",
              "      <td>0.0</td>\n",
              "      <td>0.169231</td>\n",
              "      <td>1.0</td>\n",
              "      <td>0.673077</td>\n",
              "      <td>0.0</td>\n",
              "      <td>0.5</td>\n",
              "      <td>0.0</td>\n",
              "      <td>0.438943</td>\n",
              "      <td>0.154321</td>\n",
              "      <td>0.491349</td>\n",
              "    </tr>\n",
              "    <tr>\n",
              "      <th>93179</th>\n",
              "      <td>1.0</td>\n",
              "      <td>0.892308</td>\n",
              "      <td>1.0</td>\n",
              "      <td>0.673077</td>\n",
              "      <td>0.0</td>\n",
              "      <td>0.0</td>\n",
              "      <td>0.0</td>\n",
              "      <td>0.000000</td>\n",
              "      <td>0.154321</td>\n",
              "      <td>0.598616</td>\n",
              "    </tr>\n",
              "    <tr>\n",
              "      <th>55716</th>\n",
              "      <td>0.0</td>\n",
              "      <td>0.538462</td>\n",
              "      <td>1.0</td>\n",
              "      <td>0.538462</td>\n",
              "      <td>0.0</td>\n",
              "      <td>0.0</td>\n",
              "      <td>0.0</td>\n",
              "      <td>0.762158</td>\n",
              "      <td>0.154321</td>\n",
              "      <td>0.000000</td>\n",
              "    </tr>\n",
              "    <tr>\n",
              "      <th>59265</th>\n",
              "      <td>1.0</td>\n",
              "      <td>0.230769</td>\n",
              "      <td>1.0</td>\n",
              "      <td>0.288462</td>\n",
              "      <td>0.0</td>\n",
              "      <td>0.0</td>\n",
              "      <td>0.0</td>\n",
              "      <td>0.549638</td>\n",
              "      <td>0.759259</td>\n",
              "      <td>0.927336</td>\n",
              "    </tr>\n",
              "    <tr>\n",
              "      <th>182565</th>\n",
              "      <td>0.0</td>\n",
              "      <td>0.384615</td>\n",
              "      <td>1.0</td>\n",
              "      <td>0.288462</td>\n",
              "      <td>0.0</td>\n",
              "      <td>0.0</td>\n",
              "      <td>0.0</td>\n",
              "      <td>0.000000</td>\n",
              "      <td>0.759259</td>\n",
              "      <td>0.453287</td>\n",
              "    </tr>\n",
              "    <tr>\n",
              "      <th>...</th>\n",
              "      <td>...</td>\n",
              "      <td>...</td>\n",
              "      <td>...</td>\n",
              "      <td>...</td>\n",
              "      <td>...</td>\n",
              "      <td>...</td>\n",
              "      <td>...</td>\n",
              "      <td>...</td>\n",
              "      <td>...</td>\n",
              "      <td>...</td>\n",
              "    </tr>\n",
              "    <tr>\n",
              "      <th>134737</th>\n",
              "      <td>0.0</td>\n",
              "      <td>0.723077</td>\n",
              "      <td>1.0</td>\n",
              "      <td>0.000000</td>\n",
              "      <td>1.0</td>\n",
              "      <td>0.0</td>\n",
              "      <td>1.0</td>\n",
              "      <td>0.000000</td>\n",
              "      <td>0.037037</td>\n",
              "      <td>0.858131</td>\n",
              "    </tr>\n",
              "    <tr>\n",
              "      <th>132879</th>\n",
              "      <td>1.0</td>\n",
              "      <td>0.523077</td>\n",
              "      <td>1.0</td>\n",
              "      <td>0.153846</td>\n",
              "      <td>1.0</td>\n",
              "      <td>0.0</td>\n",
              "      <td>1.0</td>\n",
              "      <td>0.883072</td>\n",
              "      <td>0.154321</td>\n",
              "      <td>0.200692</td>\n",
              "    </tr>\n",
              "    <tr>\n",
              "      <th>77626</th>\n",
              "      <td>0.0</td>\n",
              "      <td>0.061538</td>\n",
              "      <td>1.0</td>\n",
              "      <td>0.057692</td>\n",
              "      <td>1.0</td>\n",
              "      <td>0.5</td>\n",
              "      <td>1.0</td>\n",
              "      <td>0.335935</td>\n",
              "      <td>0.932099</td>\n",
              "      <td>0.325260</td>\n",
              "    </tr>\n",
              "    <tr>\n",
              "      <th>152002</th>\n",
              "      <td>0.0</td>\n",
              "      <td>0.507692</td>\n",
              "      <td>1.0</td>\n",
              "      <td>0.538462</td>\n",
              "      <td>0.0</td>\n",
              "      <td>0.0</td>\n",
              "      <td>0.0</td>\n",
              "      <td>0.700975</td>\n",
              "      <td>0.154321</td>\n",
              "      <td>0.328720</td>\n",
              "    </tr>\n",
              "    <tr>\n",
              "      <th>194518</th>\n",
              "      <td>0.0</td>\n",
              "      <td>0.015385</td>\n",
              "      <td>1.0</td>\n",
              "      <td>0.403846</td>\n",
              "      <td>0.0</td>\n",
              "      <td>0.5</td>\n",
              "      <td>0.0</td>\n",
              "      <td>0.421730</td>\n",
              "      <td>0.962963</td>\n",
              "      <td>0.020761</td>\n",
              "    </tr>\n",
              "  </tbody>\n",
              "</table>\n",
              "<p>42537 rows × 10 columns</p>\n",
              "</div>"
            ],
            "text/plain": [
              "        Jenis_Kelamin      Umur  ...  Kanal_Penjualan  Lama_Berlangganan\n",
              "200105            0.0  0.169231  ...         0.154321           0.491349\n",
              "93179             1.0  0.892308  ...         0.154321           0.598616\n",
              "55716             0.0  0.538462  ...         0.154321           0.000000\n",
              "59265             1.0  0.230769  ...         0.759259           0.927336\n",
              "182565            0.0  0.384615  ...         0.759259           0.453287\n",
              "...               ...       ...  ...              ...                ...\n",
              "134737            0.0  0.723077  ...         0.037037           0.858131\n",
              "132879            1.0  0.523077  ...         0.154321           0.200692\n",
              "77626             0.0  0.061538  ...         0.932099           0.325260\n",
              "152002            0.0  0.507692  ...         0.154321           0.328720\n",
              "194518            0.0  0.015385  ...         0.962963           0.020761\n",
              "\n",
              "[42537 rows x 10 columns]"
            ]
          },
          "metadata": {},
          "execution_count": 112
        }
      ]
    },
    {
      "cell_type": "code",
      "metadata": {
        "id": "RW9vAqnJQgGF"
      },
      "source": [
        "df_final_pred_RandomForest['Tertarik'] = pred_ANOVA_RandomForest.tolist()"
      ],
      "execution_count": 113,
      "outputs": []
    },
    {
      "cell_type": "code",
      "metadata": {
        "id": "l5AxlOm4RGJP",
        "colab": {
          "base_uri": "https://localhost:8080/",
          "height": 424
        },
        "outputId": "c8d6bbcd-8bab-44ff-aa77-70f5f73f1bda"
      },
      "source": [
        "df_final_pred_RandomForest"
      ],
      "execution_count": 114,
      "outputs": [
        {
          "output_type": "execute_result",
          "data": {
            "text/html": [
              "<div>\n",
              "<style scoped>\n",
              "    .dataframe tbody tr th:only-of-type {\n",
              "        vertical-align: middle;\n",
              "    }\n",
              "\n",
              "    .dataframe tbody tr th {\n",
              "        vertical-align: top;\n",
              "    }\n",
              "\n",
              "    .dataframe thead th {\n",
              "        text-align: right;\n",
              "    }\n",
              "</style>\n",
              "<table border=\"1\" class=\"dataframe\">\n",
              "  <thead>\n",
              "    <tr style=\"text-align: right;\">\n",
              "      <th></th>\n",
              "      <th>Jenis_Kelamin</th>\n",
              "      <th>Umur</th>\n",
              "      <th>SIM</th>\n",
              "      <th>Kode_Daerah</th>\n",
              "      <th>Sudah_Asuransi</th>\n",
              "      <th>Umur_Kendaraan</th>\n",
              "      <th>Kendaraan_Rusak</th>\n",
              "      <th>Premi</th>\n",
              "      <th>Kanal_Penjualan</th>\n",
              "      <th>Lama_Berlangganan</th>\n",
              "      <th>Tertarik</th>\n",
              "    </tr>\n",
              "  </thead>\n",
              "  <tbody>\n",
              "    <tr>\n",
              "      <th>200105</th>\n",
              "      <td>0.0</td>\n",
              "      <td>0.169231</td>\n",
              "      <td>1.0</td>\n",
              "      <td>0.673077</td>\n",
              "      <td>0.0</td>\n",
              "      <td>0.5</td>\n",
              "      <td>0.0</td>\n",
              "      <td>0.438943</td>\n",
              "      <td>0.154321</td>\n",
              "      <td>0.491349</td>\n",
              "      <td>0</td>\n",
              "    </tr>\n",
              "    <tr>\n",
              "      <th>93179</th>\n",
              "      <td>1.0</td>\n",
              "      <td>0.892308</td>\n",
              "      <td>1.0</td>\n",
              "      <td>0.673077</td>\n",
              "      <td>0.0</td>\n",
              "      <td>0.0</td>\n",
              "      <td>0.0</td>\n",
              "      <td>0.000000</td>\n",
              "      <td>0.154321</td>\n",
              "      <td>0.598616</td>\n",
              "      <td>1</td>\n",
              "    </tr>\n",
              "    <tr>\n",
              "      <th>55716</th>\n",
              "      <td>0.0</td>\n",
              "      <td>0.538462</td>\n",
              "      <td>1.0</td>\n",
              "      <td>0.538462</td>\n",
              "      <td>0.0</td>\n",
              "      <td>0.0</td>\n",
              "      <td>0.0</td>\n",
              "      <td>0.762158</td>\n",
              "      <td>0.154321</td>\n",
              "      <td>0.000000</td>\n",
              "      <td>0</td>\n",
              "    </tr>\n",
              "    <tr>\n",
              "      <th>59265</th>\n",
              "      <td>1.0</td>\n",
              "      <td>0.230769</td>\n",
              "      <td>1.0</td>\n",
              "      <td>0.288462</td>\n",
              "      <td>0.0</td>\n",
              "      <td>0.0</td>\n",
              "      <td>0.0</td>\n",
              "      <td>0.549638</td>\n",
              "      <td>0.759259</td>\n",
              "      <td>0.927336</td>\n",
              "      <td>1</td>\n",
              "    </tr>\n",
              "    <tr>\n",
              "      <th>182565</th>\n",
              "      <td>0.0</td>\n",
              "      <td>0.384615</td>\n",
              "      <td>1.0</td>\n",
              "      <td>0.288462</td>\n",
              "      <td>0.0</td>\n",
              "      <td>0.0</td>\n",
              "      <td>0.0</td>\n",
              "      <td>0.000000</td>\n",
              "      <td>0.759259</td>\n",
              "      <td>0.453287</td>\n",
              "      <td>0</td>\n",
              "    </tr>\n",
              "    <tr>\n",
              "      <th>...</th>\n",
              "      <td>...</td>\n",
              "      <td>...</td>\n",
              "      <td>...</td>\n",
              "      <td>...</td>\n",
              "      <td>...</td>\n",
              "      <td>...</td>\n",
              "      <td>...</td>\n",
              "      <td>...</td>\n",
              "      <td>...</td>\n",
              "      <td>...</td>\n",
              "      <td>...</td>\n",
              "    </tr>\n",
              "    <tr>\n",
              "      <th>134737</th>\n",
              "      <td>0.0</td>\n",
              "      <td>0.723077</td>\n",
              "      <td>1.0</td>\n",
              "      <td>0.000000</td>\n",
              "      <td>1.0</td>\n",
              "      <td>0.0</td>\n",
              "      <td>1.0</td>\n",
              "      <td>0.000000</td>\n",
              "      <td>0.037037</td>\n",
              "      <td>0.858131</td>\n",
              "      <td>0</td>\n",
              "    </tr>\n",
              "    <tr>\n",
              "      <th>132879</th>\n",
              "      <td>1.0</td>\n",
              "      <td>0.523077</td>\n",
              "      <td>1.0</td>\n",
              "      <td>0.153846</td>\n",
              "      <td>1.0</td>\n",
              "      <td>0.0</td>\n",
              "      <td>1.0</td>\n",
              "      <td>0.883072</td>\n",
              "      <td>0.154321</td>\n",
              "      <td>0.200692</td>\n",
              "      <td>0</td>\n",
              "    </tr>\n",
              "    <tr>\n",
              "      <th>77626</th>\n",
              "      <td>0.0</td>\n",
              "      <td>0.061538</td>\n",
              "      <td>1.0</td>\n",
              "      <td>0.057692</td>\n",
              "      <td>1.0</td>\n",
              "      <td>0.5</td>\n",
              "      <td>1.0</td>\n",
              "      <td>0.335935</td>\n",
              "      <td>0.932099</td>\n",
              "      <td>0.325260</td>\n",
              "      <td>0</td>\n",
              "    </tr>\n",
              "    <tr>\n",
              "      <th>152002</th>\n",
              "      <td>0.0</td>\n",
              "      <td>0.507692</td>\n",
              "      <td>1.0</td>\n",
              "      <td>0.538462</td>\n",
              "      <td>0.0</td>\n",
              "      <td>0.0</td>\n",
              "      <td>0.0</td>\n",
              "      <td>0.700975</td>\n",
              "      <td>0.154321</td>\n",
              "      <td>0.328720</td>\n",
              "      <td>0</td>\n",
              "    </tr>\n",
              "    <tr>\n",
              "      <th>194518</th>\n",
              "      <td>0.0</td>\n",
              "      <td>0.015385</td>\n",
              "      <td>1.0</td>\n",
              "      <td>0.403846</td>\n",
              "      <td>0.0</td>\n",
              "      <td>0.5</td>\n",
              "      <td>0.0</td>\n",
              "      <td>0.421730</td>\n",
              "      <td>0.962963</td>\n",
              "      <td>0.020761</td>\n",
              "      <td>0</td>\n",
              "    </tr>\n",
              "  </tbody>\n",
              "</table>\n",
              "<p>42537 rows × 11 columns</p>\n",
              "</div>"
            ],
            "text/plain": [
              "        Jenis_Kelamin      Umur  ...  Lama_Berlangganan  Tertarik\n",
              "200105            0.0  0.169231  ...           0.491349         0\n",
              "93179             1.0  0.892308  ...           0.598616         1\n",
              "55716             0.0  0.538462  ...           0.000000         0\n",
              "59265             1.0  0.230769  ...           0.927336         1\n",
              "182565            0.0  0.384615  ...           0.453287         0\n",
              "...               ...       ...  ...                ...       ...\n",
              "134737            0.0  0.723077  ...           0.858131         0\n",
              "132879            1.0  0.523077  ...           0.200692         0\n",
              "77626             0.0  0.061538  ...           0.325260         0\n",
              "152002            0.0  0.507692  ...           0.328720         0\n",
              "194518            0.0  0.015385  ...           0.020761         0\n",
              "\n",
              "[42537 rows x 11 columns]"
            ]
          },
          "metadata": {},
          "execution_count": 114
        }
      ]
    },
    {
      "cell_type": "code",
      "metadata": {
        "id": "uvRBN05bRkNH"
      },
      "source": [
        "df_final_pred_RandomForest.to_csv(\"prediction_result_randomforest.csv\", header=True)"
      ],
      "execution_count": 115,
      "outputs": []
    },
    {
      "cell_type": "code",
      "metadata": {
        "colab": {
          "base_uri": "https://localhost:8080/"
        },
        "id": "li-h3nPx8TWl",
        "outputId": "bc82b44d-2deb-4d3e-f395-246800b35d9f"
      },
      "source": [
        "df_final_pred_RandomForest[\"Tertarik\"].value_counts()"
      ],
      "execution_count": 116,
      "outputs": [
        {
          "output_type": "execute_result",
          "data": {
            "text/plain": [
              "0    39370\n",
              "1     3167\n",
              "Name: Tertarik, dtype: int64"
            ]
          },
          "metadata": {},
          "execution_count": 116
        }
      ]
    },
    {
      "cell_type": "markdown",
      "metadata": {
        "id": "516s6x-LJP4X"
      },
      "source": [
        "#### **Kesimpulan**\n",
        "\n",
        "Didapatkan hasil terbaik dengan menggunakan Feature selection menggunakan Filtering Method (Pearson Correlation), dengan akurasi mencapai 88% dan Waktu eksekusi yang cepat."
      ]
    },
    {
      "cell_type": "markdown",
      "metadata": {
        "id": "-Sp05rE1gu2p"
      },
      "source": [
        "### **KNN**"
      ]
    },
    {
      "cell_type": "code",
      "metadata": {
        "id": "JWd19QPwgwQa"
      },
      "source": [
        "# Import Library\n",
        "from sklearn.neighbors import KNeighborsClassifier\n",
        "from sklearn import metrics"
      ],
      "execution_count": 117,
      "outputs": []
    },
    {
      "cell_type": "markdown",
      "metadata": {
        "id": "zpmihSzYZvUn"
      },
      "source": [
        "#### **Data Plain**"
      ]
    },
    {
      "cell_type": "code",
      "metadata": {
        "id": "6iNQ6rKCkxVH",
        "colab": {
          "base_uri": "https://localhost:8080/"
        },
        "outputId": "f7d2c936-05e1-45b1-f12e-5422ce5e46a5"
      },
      "source": [
        "# Menggunakan Data sebelum dilakukan feature selection apapun\n",
        "%time\n",
        "K = 3\n",
        "model = KNeighborsClassifier(n_neighbors=K)\n",
        "model.fit(X_train, Y_train)\n",
        "pred_no_feature_selection_KNN = model.predict(X_test)\n",
        "\n",
        "classes = ['class 0', 'class 1']\n",
        "print('Accuracy KNN : ', accuracy_score(Y_test, pred_no_feature_selection_KNN))\n",
        "print(classification_report(Y_test, pred_no_feature_selection_KNN, target_names=classes))"
      ],
      "execution_count": 120,
      "outputs": [
        {
          "output_type": "stream",
          "name": "stdout",
          "text": [
            "CPU times: user 3 µs, sys: 1 µs, total: 4 µs\n",
            "Wall time: 321 µs\n",
            "Accuracy KNN :  0.8491430989491502\n",
            "              precision    recall  f1-score   support\n",
            "\n",
            "     class 0       0.90      0.93      0.92     37457\n",
            "     class 1       0.31      0.22      0.26      5080\n",
            "\n",
            "    accuracy                           0.85     42537\n",
            "   macro avg       0.61      0.58      0.59     42537\n",
            "weighted avg       0.83      0.85      0.84     42537\n",
            "\n"
          ]
        }
      ]
    },
    {
      "cell_type": "markdown",
      "metadata": {
        "id": "TDks_HHwZ4L1"
      },
      "source": [
        "<br>"
      ]
    },
    {
      "cell_type": "markdown",
      "metadata": {
        "id": "r2V9ORFoZ1Xo"
      },
      "source": [
        "#### **Data ANOVA (Filtering Method)**"
      ]
    },
    {
      "cell_type": "code",
      "metadata": {
        "id": "T56sZP-8k0jD",
        "colab": {
          "base_uri": "https://localhost:8080/"
        },
        "outputId": "2f0310cf-6201-4c1a-f2be-784012a60c80"
      },
      "source": [
        "# Menggunakan Data Hasil ANOVA\n",
        "%time\n",
        "K = 3\n",
        "model = KNeighborsClassifier(n_neighbors=K)\n",
        "model.fit(X_train_PValue, Y_train)\n",
        "pred_anova_KNN = model.predict(X_test_PValue)\n",
        "\n",
        "classes = ['class 0', 'class 1']\n",
        "print('Accuracy KNN : ', accuracy_score(Y_test, pred_anova_KNN))\n",
        "print(classification_report(Y_test, pred_anova_KNN, target_names=classes))"
      ],
      "execution_count": 121,
      "outputs": [
        {
          "output_type": "stream",
          "name": "stdout",
          "text": [
            "CPU times: user 2 µs, sys: 0 ns, total: 2 µs\n",
            "Wall time: 4.77 µs\n",
            "Accuracy KNN :  0.8483437948139267\n",
            "              precision    recall  f1-score   support\n",
            "\n",
            "     class 0       0.90      0.93      0.92     37457\n",
            "     class 1       0.30      0.21      0.25      5080\n",
            "\n",
            "    accuracy                           0.85     42537\n",
            "   macro avg       0.60      0.57      0.58     42537\n",
            "weighted avg       0.83      0.85      0.84     42537\n",
            "\n"
          ]
        }
      ]
    },
    {
      "cell_type": "markdown",
      "metadata": {
        "id": "yFjhhmg1Z_tY"
      },
      "source": [
        "<br>"
      ]
    },
    {
      "cell_type": "markdown",
      "metadata": {
        "id": "uq3ewnIkZ6C2"
      },
      "source": [
        "#### **Data Pearson Correlation (Filtering Method)**"
      ]
    },
    {
      "cell_type": "code",
      "metadata": {
        "colab": {
          "base_uri": "https://localhost:8080/"
        },
        "id": "kXAboN5Gq6XF",
        "outputId": "ed6bf8f0-7776-4257-8a37-9cae4272276b"
      },
      "source": [
        "# Menggunakan Data Hasil Filter Method dengan Pearson Correlation\n",
        "%time\n",
        "K = 3\n",
        "model = KNeighborsClassifier(n_neighbors=K)\n",
        "model.fit(X_train_PCorr, Y_train)\n",
        "pred_pearson_corr_KNN = model.predict(X_test_PCorr)\n",
        "\n",
        "classes = ['class 0', 'class 1']\n",
        "print('Accuracy KNN : ', accuracy_score(Y_test, pred_pearson_corr_KNN))\n",
        "print(classification_report(Y_test, pred_pearson_corr_KNN, target_names=classes))"
      ],
      "execution_count": 122,
      "outputs": [
        {
          "output_type": "stream",
          "name": "stdout",
          "text": [
            "CPU times: user 2 µs, sys: 0 ns, total: 2 µs\n",
            "Wall time: 4.77 µs\n",
            "Accuracy KNN :  0.8805745586195547\n",
            "              precision    recall  f1-score   support\n",
            "\n",
            "     class 0       0.88      1.00      0.94     37457\n",
            "     class 1       0.00      0.00      0.00      5080\n",
            "\n",
            "    accuracy                           0.88     42537\n",
            "   macro avg       0.44      0.50      0.47     42537\n",
            "weighted avg       0.78      0.88      0.82     42537\n",
            "\n"
          ]
        }
      ]
    },
    {
      "cell_type": "markdown",
      "metadata": {
        "id": "AFQTznfdaD6p"
      },
      "source": [
        "<br>"
      ]
    },
    {
      "cell_type": "markdown",
      "metadata": {
        "id": "kEULfc_kaBjV"
      },
      "source": [
        "#### **Data Wrapper (SFS)**"
      ]
    },
    {
      "cell_type": "code",
      "metadata": {
        "colab": {
          "base_uri": "https://localhost:8080/"
        },
        "id": "AEEaDOvnrHqF",
        "outputId": "0eb9e5b0-c9c3-4d66-ac28-b9f5ee45b3c3"
      },
      "source": [
        "# Menggunakan Data Hasil Filter Method dengan Wrapper\n",
        "%%timeit\n",
        "K = 3\n",
        "model = KNeighborsClassifier(n_neighbors=K)\n",
        "model.fit(X_train_Wrapper, Y_train)\n",
        "pred_wrapper_SFS_KNN = model.predict(X_test_Wrapper)\n",
        "\n",
        "classes = ['class 0', 'class 1']\n",
        "print('Accuracy KNN : ', accuracy_score(Y_test, pred_wrapper_SFS_KNN))\n",
        "print(classification_report(Y_test, pred_wrapper_SFS_KNN, target_names=classes))"
      ],
      "execution_count": 123,
      "outputs": [
        {
          "output_type": "stream",
          "name": "stdout",
          "text": [
            "Accuracy KNN :  0.8562428003855467\n",
            "              precision    recall  f1-score   support\n",
            "\n",
            "     class 0       0.89      0.96      0.92     37457\n",
            "     class 1       0.27      0.12      0.16      5080\n",
            "\n",
            "    accuracy                           0.86     42537\n",
            "   macro avg       0.58      0.54      0.54     42537\n",
            "weighted avg       0.81      0.86      0.83     42537\n",
            "\n",
            "Accuracy KNN :  0.8562428003855467\n",
            "              precision    recall  f1-score   support\n",
            "\n",
            "     class 0       0.89      0.96      0.92     37457\n",
            "     class 1       0.27      0.12      0.16      5080\n",
            "\n",
            "    accuracy                           0.86     42537\n",
            "   macro avg       0.58      0.54      0.54     42537\n",
            "weighted avg       0.81      0.86      0.83     42537\n",
            "\n",
            "Accuracy KNN :  0.8562428003855467\n",
            "              precision    recall  f1-score   support\n",
            "\n",
            "     class 0       0.89      0.96      0.92     37457\n",
            "     class 1       0.27      0.12      0.16      5080\n",
            "\n",
            "    accuracy                           0.86     42537\n",
            "   macro avg       0.58      0.54      0.54     42537\n",
            "weighted avg       0.81      0.86      0.83     42537\n",
            "\n",
            "Accuracy KNN :  0.8562428003855467\n",
            "              precision    recall  f1-score   support\n",
            "\n",
            "     class 0       0.89      0.96      0.92     37457\n",
            "     class 1       0.27      0.12      0.16      5080\n",
            "\n",
            "    accuracy                           0.86     42537\n",
            "   macro avg       0.58      0.54      0.54     42537\n",
            "weighted avg       0.81      0.86      0.83     42537\n",
            "\n",
            "Accuracy KNN :  0.8562428003855467\n",
            "              precision    recall  f1-score   support\n",
            "\n",
            "     class 0       0.89      0.96      0.92     37457\n",
            "     class 1       0.27      0.12      0.16      5080\n",
            "\n",
            "    accuracy                           0.86     42537\n",
            "   macro avg       0.58      0.54      0.54     42537\n",
            "weighted avg       0.81      0.86      0.83     42537\n",
            "\n",
            "Accuracy KNN :  0.8562428003855467\n",
            "              precision    recall  f1-score   support\n",
            "\n",
            "     class 0       0.89      0.96      0.92     37457\n",
            "     class 1       0.27      0.12      0.16      5080\n",
            "\n",
            "    accuracy                           0.86     42537\n",
            "   macro avg       0.58      0.54      0.54     42537\n",
            "weighted avg       0.81      0.86      0.83     42537\n",
            "\n",
            "1 loop, best of 5: 4.39 s per loop\n"
          ]
        }
      ]
    },
    {
      "cell_type": "markdown",
      "metadata": {
        "id": "IthHAACBZg2D"
      },
      "source": [
        "<br>"
      ]
    },
    {
      "cell_type": "markdown",
      "metadata": {
        "id": "GtDlFRVfZf8b"
      },
      "source": [
        "#### **Add Prediction to Dataframe**"
      ]
    },
    {
      "cell_type": "code",
      "metadata": {
        "colab": {
          "base_uri": "https://localhost:8080/",
          "height": 424
        },
        "id": "15s2dvLut8QM",
        "outputId": "55034ce5-9765-45eb-876a-a4984663a14e"
      },
      "source": [
        "df_final_pred_KNN = X_test\n",
        "df_final_pred_KNN"
      ],
      "execution_count": 124,
      "outputs": [
        {
          "output_type": "execute_result",
          "data": {
            "text/html": [
              "<div>\n",
              "<style scoped>\n",
              "    .dataframe tbody tr th:only-of-type {\n",
              "        vertical-align: middle;\n",
              "    }\n",
              "\n",
              "    .dataframe tbody tr th {\n",
              "        vertical-align: top;\n",
              "    }\n",
              "\n",
              "    .dataframe thead th {\n",
              "        text-align: right;\n",
              "    }\n",
              "</style>\n",
              "<table border=\"1\" class=\"dataframe\">\n",
              "  <thead>\n",
              "    <tr style=\"text-align: right;\">\n",
              "      <th></th>\n",
              "      <th>Jenis_Kelamin</th>\n",
              "      <th>Umur</th>\n",
              "      <th>SIM</th>\n",
              "      <th>Kode_Daerah</th>\n",
              "      <th>Sudah_Asuransi</th>\n",
              "      <th>Umur_Kendaraan</th>\n",
              "      <th>Kendaraan_Rusak</th>\n",
              "      <th>Premi</th>\n",
              "      <th>Kanal_Penjualan</th>\n",
              "      <th>Lama_Berlangganan</th>\n",
              "    </tr>\n",
              "  </thead>\n",
              "  <tbody>\n",
              "    <tr>\n",
              "      <th>200105</th>\n",
              "      <td>0.0</td>\n",
              "      <td>0.169231</td>\n",
              "      <td>1.0</td>\n",
              "      <td>0.673077</td>\n",
              "      <td>0.0</td>\n",
              "      <td>0.5</td>\n",
              "      <td>0.0</td>\n",
              "      <td>0.438943</td>\n",
              "      <td>0.154321</td>\n",
              "      <td>0.491349</td>\n",
              "    </tr>\n",
              "    <tr>\n",
              "      <th>93179</th>\n",
              "      <td>1.0</td>\n",
              "      <td>0.892308</td>\n",
              "      <td>1.0</td>\n",
              "      <td>0.673077</td>\n",
              "      <td>0.0</td>\n",
              "      <td>0.0</td>\n",
              "      <td>0.0</td>\n",
              "      <td>0.000000</td>\n",
              "      <td>0.154321</td>\n",
              "      <td>0.598616</td>\n",
              "    </tr>\n",
              "    <tr>\n",
              "      <th>55716</th>\n",
              "      <td>0.0</td>\n",
              "      <td>0.538462</td>\n",
              "      <td>1.0</td>\n",
              "      <td>0.538462</td>\n",
              "      <td>0.0</td>\n",
              "      <td>0.0</td>\n",
              "      <td>0.0</td>\n",
              "      <td>0.762158</td>\n",
              "      <td>0.154321</td>\n",
              "      <td>0.000000</td>\n",
              "    </tr>\n",
              "    <tr>\n",
              "      <th>59265</th>\n",
              "      <td>1.0</td>\n",
              "      <td>0.230769</td>\n",
              "      <td>1.0</td>\n",
              "      <td>0.288462</td>\n",
              "      <td>0.0</td>\n",
              "      <td>0.0</td>\n",
              "      <td>0.0</td>\n",
              "      <td>0.549638</td>\n",
              "      <td>0.759259</td>\n",
              "      <td>0.927336</td>\n",
              "    </tr>\n",
              "    <tr>\n",
              "      <th>182565</th>\n",
              "      <td>0.0</td>\n",
              "      <td>0.384615</td>\n",
              "      <td>1.0</td>\n",
              "      <td>0.288462</td>\n",
              "      <td>0.0</td>\n",
              "      <td>0.0</td>\n",
              "      <td>0.0</td>\n",
              "      <td>0.000000</td>\n",
              "      <td>0.759259</td>\n",
              "      <td>0.453287</td>\n",
              "    </tr>\n",
              "    <tr>\n",
              "      <th>...</th>\n",
              "      <td>...</td>\n",
              "      <td>...</td>\n",
              "      <td>...</td>\n",
              "      <td>...</td>\n",
              "      <td>...</td>\n",
              "      <td>...</td>\n",
              "      <td>...</td>\n",
              "      <td>...</td>\n",
              "      <td>...</td>\n",
              "      <td>...</td>\n",
              "    </tr>\n",
              "    <tr>\n",
              "      <th>134737</th>\n",
              "      <td>0.0</td>\n",
              "      <td>0.723077</td>\n",
              "      <td>1.0</td>\n",
              "      <td>0.000000</td>\n",
              "      <td>1.0</td>\n",
              "      <td>0.0</td>\n",
              "      <td>1.0</td>\n",
              "      <td>0.000000</td>\n",
              "      <td>0.037037</td>\n",
              "      <td>0.858131</td>\n",
              "    </tr>\n",
              "    <tr>\n",
              "      <th>132879</th>\n",
              "      <td>1.0</td>\n",
              "      <td>0.523077</td>\n",
              "      <td>1.0</td>\n",
              "      <td>0.153846</td>\n",
              "      <td>1.0</td>\n",
              "      <td>0.0</td>\n",
              "      <td>1.0</td>\n",
              "      <td>0.883072</td>\n",
              "      <td>0.154321</td>\n",
              "      <td>0.200692</td>\n",
              "    </tr>\n",
              "    <tr>\n",
              "      <th>77626</th>\n",
              "      <td>0.0</td>\n",
              "      <td>0.061538</td>\n",
              "      <td>1.0</td>\n",
              "      <td>0.057692</td>\n",
              "      <td>1.0</td>\n",
              "      <td>0.5</td>\n",
              "      <td>1.0</td>\n",
              "      <td>0.335935</td>\n",
              "      <td>0.932099</td>\n",
              "      <td>0.325260</td>\n",
              "    </tr>\n",
              "    <tr>\n",
              "      <th>152002</th>\n",
              "      <td>0.0</td>\n",
              "      <td>0.507692</td>\n",
              "      <td>1.0</td>\n",
              "      <td>0.538462</td>\n",
              "      <td>0.0</td>\n",
              "      <td>0.0</td>\n",
              "      <td>0.0</td>\n",
              "      <td>0.700975</td>\n",
              "      <td>0.154321</td>\n",
              "      <td>0.328720</td>\n",
              "    </tr>\n",
              "    <tr>\n",
              "      <th>194518</th>\n",
              "      <td>0.0</td>\n",
              "      <td>0.015385</td>\n",
              "      <td>1.0</td>\n",
              "      <td>0.403846</td>\n",
              "      <td>0.0</td>\n",
              "      <td>0.5</td>\n",
              "      <td>0.0</td>\n",
              "      <td>0.421730</td>\n",
              "      <td>0.962963</td>\n",
              "      <td>0.020761</td>\n",
              "    </tr>\n",
              "  </tbody>\n",
              "</table>\n",
              "<p>42537 rows × 10 columns</p>\n",
              "</div>"
            ],
            "text/plain": [
              "        Jenis_Kelamin      Umur  ...  Kanal_Penjualan  Lama_Berlangganan\n",
              "200105            0.0  0.169231  ...         0.154321           0.491349\n",
              "93179             1.0  0.892308  ...         0.154321           0.598616\n",
              "55716             0.0  0.538462  ...         0.154321           0.000000\n",
              "59265             1.0  0.230769  ...         0.759259           0.927336\n",
              "182565            0.0  0.384615  ...         0.759259           0.453287\n",
              "...               ...       ...  ...              ...                ...\n",
              "134737            0.0  0.723077  ...         0.037037           0.858131\n",
              "132879            1.0  0.523077  ...         0.154321           0.200692\n",
              "77626             0.0  0.061538  ...         0.932099           0.325260\n",
              "152002            0.0  0.507692  ...         0.154321           0.328720\n",
              "194518            0.0  0.015385  ...         0.962963           0.020761\n",
              "\n",
              "[42537 rows x 10 columns]"
            ]
          },
          "metadata": {},
          "execution_count": 124
        }
      ]
    },
    {
      "cell_type": "code",
      "metadata": {
        "colab": {
          "base_uri": "https://localhost:8080/",
          "height": 424
        },
        "id": "0Kjh_JpSzk-A",
        "outputId": "39bf098a-5225-4d3d-e5b3-185a7e4ecc4f"
      },
      "source": [
        "df_final_pred_KNN['Tertarik'] = pred_pearson_corr_KNN.tolist()\n",
        "df_final_pred_KNN"
      ],
      "execution_count": 126,
      "outputs": [
        {
          "output_type": "execute_result",
          "data": {
            "text/html": [
              "<div>\n",
              "<style scoped>\n",
              "    .dataframe tbody tr th:only-of-type {\n",
              "        vertical-align: middle;\n",
              "    }\n",
              "\n",
              "    .dataframe tbody tr th {\n",
              "        vertical-align: top;\n",
              "    }\n",
              "\n",
              "    .dataframe thead th {\n",
              "        text-align: right;\n",
              "    }\n",
              "</style>\n",
              "<table border=\"1\" class=\"dataframe\">\n",
              "  <thead>\n",
              "    <tr style=\"text-align: right;\">\n",
              "      <th></th>\n",
              "      <th>Jenis_Kelamin</th>\n",
              "      <th>Umur</th>\n",
              "      <th>SIM</th>\n",
              "      <th>Kode_Daerah</th>\n",
              "      <th>Sudah_Asuransi</th>\n",
              "      <th>Umur_Kendaraan</th>\n",
              "      <th>Kendaraan_Rusak</th>\n",
              "      <th>Premi</th>\n",
              "      <th>Kanal_Penjualan</th>\n",
              "      <th>Lama_Berlangganan</th>\n",
              "      <th>Tertarik</th>\n",
              "    </tr>\n",
              "  </thead>\n",
              "  <tbody>\n",
              "    <tr>\n",
              "      <th>200105</th>\n",
              "      <td>0.0</td>\n",
              "      <td>0.169231</td>\n",
              "      <td>1.0</td>\n",
              "      <td>0.673077</td>\n",
              "      <td>0.0</td>\n",
              "      <td>0.5</td>\n",
              "      <td>0.0</td>\n",
              "      <td>0.438943</td>\n",
              "      <td>0.154321</td>\n",
              "      <td>0.491349</td>\n",
              "      <td>0</td>\n",
              "    </tr>\n",
              "    <tr>\n",
              "      <th>93179</th>\n",
              "      <td>1.0</td>\n",
              "      <td>0.892308</td>\n",
              "      <td>1.0</td>\n",
              "      <td>0.673077</td>\n",
              "      <td>0.0</td>\n",
              "      <td>0.0</td>\n",
              "      <td>0.0</td>\n",
              "      <td>0.000000</td>\n",
              "      <td>0.154321</td>\n",
              "      <td>0.598616</td>\n",
              "      <td>0</td>\n",
              "    </tr>\n",
              "    <tr>\n",
              "      <th>55716</th>\n",
              "      <td>0.0</td>\n",
              "      <td>0.538462</td>\n",
              "      <td>1.0</td>\n",
              "      <td>0.538462</td>\n",
              "      <td>0.0</td>\n",
              "      <td>0.0</td>\n",
              "      <td>0.0</td>\n",
              "      <td>0.762158</td>\n",
              "      <td>0.154321</td>\n",
              "      <td>0.000000</td>\n",
              "      <td>0</td>\n",
              "    </tr>\n",
              "    <tr>\n",
              "      <th>59265</th>\n",
              "      <td>1.0</td>\n",
              "      <td>0.230769</td>\n",
              "      <td>1.0</td>\n",
              "      <td>0.288462</td>\n",
              "      <td>0.0</td>\n",
              "      <td>0.0</td>\n",
              "      <td>0.0</td>\n",
              "      <td>0.549638</td>\n",
              "      <td>0.759259</td>\n",
              "      <td>0.927336</td>\n",
              "      <td>0</td>\n",
              "    </tr>\n",
              "    <tr>\n",
              "      <th>182565</th>\n",
              "      <td>0.0</td>\n",
              "      <td>0.384615</td>\n",
              "      <td>1.0</td>\n",
              "      <td>0.288462</td>\n",
              "      <td>0.0</td>\n",
              "      <td>0.0</td>\n",
              "      <td>0.0</td>\n",
              "      <td>0.000000</td>\n",
              "      <td>0.759259</td>\n",
              "      <td>0.453287</td>\n",
              "      <td>0</td>\n",
              "    </tr>\n",
              "    <tr>\n",
              "      <th>...</th>\n",
              "      <td>...</td>\n",
              "      <td>...</td>\n",
              "      <td>...</td>\n",
              "      <td>...</td>\n",
              "      <td>...</td>\n",
              "      <td>...</td>\n",
              "      <td>...</td>\n",
              "      <td>...</td>\n",
              "      <td>...</td>\n",
              "      <td>...</td>\n",
              "      <td>...</td>\n",
              "    </tr>\n",
              "    <tr>\n",
              "      <th>134737</th>\n",
              "      <td>0.0</td>\n",
              "      <td>0.723077</td>\n",
              "      <td>1.0</td>\n",
              "      <td>0.000000</td>\n",
              "      <td>1.0</td>\n",
              "      <td>0.0</td>\n",
              "      <td>1.0</td>\n",
              "      <td>0.000000</td>\n",
              "      <td>0.037037</td>\n",
              "      <td>0.858131</td>\n",
              "      <td>0</td>\n",
              "    </tr>\n",
              "    <tr>\n",
              "      <th>132879</th>\n",
              "      <td>1.0</td>\n",
              "      <td>0.523077</td>\n",
              "      <td>1.0</td>\n",
              "      <td>0.153846</td>\n",
              "      <td>1.0</td>\n",
              "      <td>0.0</td>\n",
              "      <td>1.0</td>\n",
              "      <td>0.883072</td>\n",
              "      <td>0.154321</td>\n",
              "      <td>0.200692</td>\n",
              "      <td>0</td>\n",
              "    </tr>\n",
              "    <tr>\n",
              "      <th>77626</th>\n",
              "      <td>0.0</td>\n",
              "      <td>0.061538</td>\n",
              "      <td>1.0</td>\n",
              "      <td>0.057692</td>\n",
              "      <td>1.0</td>\n",
              "      <td>0.5</td>\n",
              "      <td>1.0</td>\n",
              "      <td>0.335935</td>\n",
              "      <td>0.932099</td>\n",
              "      <td>0.325260</td>\n",
              "      <td>0</td>\n",
              "    </tr>\n",
              "    <tr>\n",
              "      <th>152002</th>\n",
              "      <td>0.0</td>\n",
              "      <td>0.507692</td>\n",
              "      <td>1.0</td>\n",
              "      <td>0.538462</td>\n",
              "      <td>0.0</td>\n",
              "      <td>0.0</td>\n",
              "      <td>0.0</td>\n",
              "      <td>0.700975</td>\n",
              "      <td>0.154321</td>\n",
              "      <td>0.328720</td>\n",
              "      <td>0</td>\n",
              "    </tr>\n",
              "    <tr>\n",
              "      <th>194518</th>\n",
              "      <td>0.0</td>\n",
              "      <td>0.015385</td>\n",
              "      <td>1.0</td>\n",
              "      <td>0.403846</td>\n",
              "      <td>0.0</td>\n",
              "      <td>0.5</td>\n",
              "      <td>0.0</td>\n",
              "      <td>0.421730</td>\n",
              "      <td>0.962963</td>\n",
              "      <td>0.020761</td>\n",
              "      <td>0</td>\n",
              "    </tr>\n",
              "  </tbody>\n",
              "</table>\n",
              "<p>42537 rows × 11 columns</p>\n",
              "</div>"
            ],
            "text/plain": [
              "        Jenis_Kelamin      Umur  ...  Lama_Berlangganan  Tertarik\n",
              "200105            0.0  0.169231  ...           0.491349         0\n",
              "93179             1.0  0.892308  ...           0.598616         0\n",
              "55716             0.0  0.538462  ...           0.000000         0\n",
              "59265             1.0  0.230769  ...           0.927336         0\n",
              "182565            0.0  0.384615  ...           0.453287         0\n",
              "...               ...       ...  ...                ...       ...\n",
              "134737            0.0  0.723077  ...           0.858131         0\n",
              "132879            1.0  0.523077  ...           0.200692         0\n",
              "77626             0.0  0.061538  ...           0.325260         0\n",
              "152002            0.0  0.507692  ...           0.328720         0\n",
              "194518            0.0  0.015385  ...           0.020761         0\n",
              "\n",
              "[42537 rows x 11 columns]"
            ]
          },
          "metadata": {},
          "execution_count": 126
        }
      ]
    },
    {
      "cell_type": "code",
      "metadata": {
        "id": "6cnadvgSYqGb"
      },
      "source": [
        "df_final_pred_KNN.to_csv(\"prediction_result_KNN.csv\", header=True)"
      ],
      "execution_count": 128,
      "outputs": []
    },
    {
      "cell_type": "markdown",
      "metadata": {
        "id": "WAlfm-gWZkTe"
      },
      "source": [
        "#### **Kesimpulan**\n",
        "\n",
        "Didapatkan hasil terbaik dengan menggunakan Feature selection menggunakan Filtering Method (Pearson Correlation), dengan akurasi mencapai 88% dan Waktu eksekusi yang cepat."
      ]
    }
  ]
}